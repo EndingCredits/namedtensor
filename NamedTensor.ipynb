{
  "nbformat": 4,
  "nbformat_minor": 0,
  "metadata": {
    "colab": {
      "name": "NamedTensor.ipynb",
      "version": "0.3.2",
      "provenance": [],
      "collapsed_sections": [],
      "include_colab_link": true
    },
    "kernelspec": {
      "name": "python3",
      "display_name": "Python 3"
    }
  },
  "cells": [
    {
      "cell_type": "markdown",
      "metadata": {
        "id": "view-in-github",
        "colab_type": "text"
      },
      "source": [
        "<a href=\"https://colab.research.google.com/github/harvardnlp/namedtensor/blob/master/NamedTensor.ipynb\" target=\"_parent\"><img src=\"https://colab.research.google.com/assets/colab-badge.svg\" alt=\"Open In Colab\"/></a>"
      ]
    },
    {
      "metadata": {
        "id": "ZskQMOXCDP9O",
        "colab_type": "text"
      },
      "cell_type": "markdown",
      "source": [
        "# Tensor Considered Harmful\n",
        "\n",
        "*Alexander Rush* - @harvardnlp"
      ]
    },
    {
      "metadata": {
        "id": "dnuYLZwvDYVP",
        "colab_type": "text"
      },
      "cell_type": "markdown",
      "source": [
        "<i>\n",
        "TL;DR: Despite their ubiquity in modern frameworks, tensors are a broken programming concept . They fail at encapsulation, rely on opaque references, and force checkable properties into the documentation.  Their main benefit, perceived closeness to mathematical notation, falls apart in large code bases. This post presents a proof-of-concept of a simple alternative approach **named tensors** that forces all dimensions of a tensor to have a human-readable name. While this seems like a small change, I show that it eliminates the need for indexing, dim/axis arguments, and tricks like einsum. Furthermore, it opens up the ability for a range of dynamic error checking. The beta PyTorch library accompanying this blog post is available at [harvardnlp/namedtensor](https://github.com/harvardnlp/NamedTensor).\n",
        "</i>"
      ]
    },
    {
      "metadata": {
        "id": "wd9yuKJ2Hhdj",
        "colab_type": "code",
        "colab": {}
      },
      "cell_type": "code",
      "source": [
        "!rm -fr NamedTensor/; git clone -q https://github.com/harvardnlp/NamedTensor.git; cd NamedTensor; pip install -q .  \n",
        "!pip install -q torch numpy opt_einsum"
      ],
      "execution_count": 0,
      "outputs": []
    },
    {
      "metadata": {
        "id": "XCQjKra_H9gj",
        "colab_type": "code",
        "colab": {}
      },
      "cell_type": "code",
      "source": [
        "import numpy \n",
        "import torch\n",
        "import namedtensor as nt\n",
        "from namedtensor import NamedTensor\n",
        "from PIL.Image import fromarray\n",
        "from IPython import get_ipython\n",
        "\n",
        "def numpy_to_png(a):\n",
        "    assert 2 <= len(a.shape) <= 3, \"Can't display {}-dimensional array of shape {}\"\\\n",
        "        .format(len(a.shape), a.shape)\n",
        "    return fromarray(numpy.array(numpy.clip(a, 0, 1) * 255, dtype='uint8'))._repr_png_()\n",
        "\n",
        "get_ipython().display_formatter.formatters['image/png'].for_type(torch.Tensor, lambda t: numpy_to_png(t.numpy()))\n",
        "get_ipython().display_formatter.formatters['text/plain'].for_type(torch.Tensor, lambda *x: \"\");\n",
        "get_ipython().display_formatter.formatters['image/png'].for_type(NamedTensor, lambda t: numpy_to_png(t.tensor.numpy()))\n",
        "get_ipython().display_formatter.formatters['text/plain'].for_type(NamedTensor, lambda *x: \"\");"
      ],
      "execution_count": 0,
      "outputs": []
    },
    {
      "metadata": {
        "id": "X1XnmQLgDeHy",
        "colab_type": "text"
      },
      "cell_type": "markdown",
      "source": [
        "## The Problem: Tensor Traps\n",
        "\n",
        "The central object of mathematical frameworks like numpy, pytorch, chainer, and tensorflow is of course the tensor, a multi-dimensional array object. Let's look at a visual example of tensor. "
      ]
    },
    {
      "metadata": {
        "id": "9LZarsn5HgUa",
        "colab_type": "code",
        "colab": {
          "base_uri": "https://localhost:8080/",
          "height": 35
        },
        "outputId": "b4015473-32b7-408a-841d-3e8b364e5adf"
      },
      "cell_type": "code",
      "source": [
        "ims = torch.tensor(numpy.load('NamedTensor/examples/test_images.npy'))\n",
        "ims.shape"
      ],
      "execution_count": 3,
      "outputs": [
        {
          "output_type": "execute_result",
          "data": {
            "text/plain": [
              "torch.Size([6, 96, 96, 3])"
            ]
          },
          "metadata": {
            "tags": []
          },
          "execution_count": 3
        }
      ]
    },
    {
      "metadata": {
        "id": "_A4CksffJ5sT",
        "colab_type": "text"
      },
      "cell_type": "markdown",
      "source": [
        "So what is this object? Tensors carry around an implied tuple of their dimensions. Here there are 4, corresponding to *batch_size*, *height*, *width*, and *channels*. Most of the time you can figure this out by some comment in the code that looks like this:  "
      ]
    },
    {
      "metadata": {
        "id": "w_SAVtJdSCQx",
        "colab_type": "code",
        "colab": {}
      },
      "cell_type": "code",
      "source": [
        ""
      ],
      "execution_count": 0,
      "outputs": []
    },
    {
      "metadata": {
        "id": "euWWfx_yKh85",
        "colab_type": "code",
        "colab": {
          "base_uri": "https://localhost:8080/",
          "height": 113
        },
        "outputId": "ee8c234e-ad32-4bfa-bae7-4f8fc0f1476a"
      },
      "cell_type": "code",
      "source": [
        "# batch_size x height x width x channels\n",
        "ims[0]"
      ],
      "execution_count": 4,
      "outputs": [
        {
          "output_type": "execute_result",
          "data": {
            "image/png": "[encoded data removed]",
            "text/plain": [
              ""
            ]
          },
          "metadata": {
            "tags": []
          },
          "execution_count": 4
        }
      ]
    },
    {
      "metadata": {
        "id": "oec2Ah5eRgEp",
        "colab_type": "text"
      },
      "cell_type": "markdown",
      "source": [
        "These objects are concise, mathy, and very efficient internally. They are at the center of every modern machine learning system. However in this post I will argue that they are inherently broken."
      ]
    },
    {
      "metadata": {
        "id": "ampMvKRpHYvv",
        "colab_type": "text"
      },
      "cell_type": "markdown",
      "source": [
        "\n",
        "**Reason 1: Convention instead of Encapsulation**\n",
        "\n",
        "Code that manipulates tensors does so by indexing these dimensions. So if you want to rotate the image you read the comment, decide what needs to get changed and alter it. "
      ]
    },
    {
      "metadata": {
        "id": "JuYMwAFtLBcl",
        "colab_type": "code",
        "colab": {
          "base_uri": "https://localhost:8080/",
          "height": 113
        },
        "outputId": "c04570e6-be7d-4943-a944-6de1382e359d"
      },
      "cell_type": "code",
      "source": [
        "def rotate(ims):\n",
        "    # batch_size x height x width x channels\n",
        "    rotated = ims.transpose(1, 2)\n",
        "    \n",
        "    # batch_size x width x height x channels\n",
        "    return rotated\n",
        "rotate(ims)[0]"
      ],
      "execution_count": 5,
      "outputs": [
        {
          "output_type": "execute_result",
          "data": {
            "image/png": "[encoded data removed]",
            "text/plain": [
              ""
            ]
          },
          "metadata": {
            "tags": []
          },
          "execution_count": 5
        }
      ]
    },
    {
      "metadata": {
        "id": "gjjCOsyBLvtV",
        "colab_type": "text"
      },
      "cell_type": "markdown",
      "source": [
        "\n",
        "\n",
        "If we are honest about the semantics of this object, the *batch* dimension is private. The property of rotation is independent of the batch, or for that matter, any other private dimensions that the tensor might have. It's quite worrisome that if we pass in a singleton image this function runs fine but fails. "
      ]
    },
    {
      "metadata": {
        "id": "bnh57z49L9Lu",
        "colab_type": "code",
        "colab": {
          "base_uri": "https://localhost:8080/",
          "height": 35
        },
        "outputId": "313c885a-526c-49cb-8267-525958544dec"
      },
      "cell_type": "code",
      "source": [
        "rotate(ims[0]).shape"
      ],
      "execution_count": 6,
      "outputs": [
        {
          "output_type": "execute_result",
          "data": {
            "text/plain": [
              "torch.Size([96, 3, 96])"
            ]
          },
          "metadata": {
            "tags": []
          },
          "execution_count": 6
        }
      ]
    },
    {
      "metadata": {
        "id": "1DV0yQ09L7AR",
        "colab_type": "text"
      },
      "cell_type": "markdown",
      "source": [
        "**Reason 2: Broadcasting instead of Semantics**\n",
        "\n",
        "Assume that we want to mask out a part of the image. We can do this using *broadcasting* by first creating a mask and then applying it across dimensions."
      ]
    },
    {
      "metadata": {
        "id": "Sp0TsC0yOBxr",
        "colab_type": "code",
        "colab": {
          "base_uri": "https://localhost:8080/",
          "height": 113
        },
        "outputId": "6b2231b4-0b4a-4b58-af2b-9dd3ecccbf32"
      },
      "cell_type": "code",
      "source": [
        "# height x width\n",
        "mask = torch.randint(0, 2, [96, 96]).byte()\n",
        "mask"
      ],
      "execution_count": 7,
      "outputs": [
        {
          "output_type": "execute_result",
          "data": {
            "image/png": "[encoded data removed]",
            "text/plain": [
              ""
            ]
          },
          "metadata": {
            "tags": []
          },
          "execution_count": 7
        }
      ]
    },
    {
      "metadata": {
        "id": "cO9IWw46O33Z",
        "colab_type": "code",
        "colab": {
          "base_uri": "https://localhost:8080/",
          "height": 35
        },
        "outputId": "42620425-690e-4caf-a213-bd0de3afd07c"
      },
      "cell_type": "code",
      "source": [
        "try:\n",
        "    ims.masked_fill(mask, 0)\n",
        "except RuntimeError:\n",
        "    print(\"Broadcasing fail\", mask.shape, ims.shape)"
      ],
      "execution_count": 8,
      "outputs": [
        {
          "output_type": "stream",
          "text": [
            "Broadcasing fail torch.Size([96, 96]) torch.Size([6, 96, 96, 3])\n"
          ],
          "name": "stdout"
        }
      ]
    },
    {
      "metadata": {
        "id": "9BsD5FpGQMqv",
        "colab_type": "text"
      },
      "cell_type": "markdown",
      "source": [
        "This fails because even though we knew that we were building a *height* and *width* shaped mask, the rules of broadcasting do not have the correct semantics. To make this work, you have to use either `view` or `squeeze`.   "
      ]
    },
    {
      "metadata": {
        "id": "AYso46ojPfuQ",
        "colab_type": "code",
        "colab": {
          "base_uri": "https://localhost:8080/",
          "height": 113
        },
        "outputId": "57b658c0-cf46-4195-cc6a-bc8306039bb7"
      },
      "cell_type": "code",
      "source": [
        "# either \n",
        "mask = mask.unsqueeze(-1)\n",
        "# or \n",
        "mask = mask.view(96, 96, 1)\n",
        "\n",
        "# height x width x channels\n",
        "ims.masked_fill(mask, 1)[0]"
      ],
      "execution_count": 9,
      "outputs": [
        {
          "output_type": "execute_result",
          "data": {
            "image/png": "[encoded data removed]",
            "text/plain": [
              ""
            ]
          },
          "metadata": {
            "tags": []
          },
          "execution_count": 9
        }
      ]
    },
    {
      "metadata": {
        "id": "Whz5pqd_SRXH",
        "colab_type": "text"
      },
      "cell_type": "markdown",
      "source": [
        "This code is slightly better at encapsulation since it hides the leftmost dimensions. However reading through real code, dozens of `view`s and `squeeze`s become completely unreadable."
      ]
    },
    {
      "metadata": {
        "id": "5UyG7El7Snbi",
        "colab_type": "text"
      },
      "cell_type": "markdown",
      "source": [
        "**Reason 3: Comments instead of Checks**\n",
        "\n"
      ]
    },
    {
      "metadata": {
        "id": "9LWcPiviTwWc",
        "colab_type": "text"
      },
      "cell_type": "markdown",
      "source": [
        "It is possible that you look at the top two issues and think that as long as you are careful, these issues will be caught by run time errors. \n",
        "However, combination of broadcasting and indexing can lead to problems that are very tough to catch.  "
      ]
    },
    {
      "metadata": {
        "id": "HfkPrgC1TPWh",
        "colab_type": "code",
        "colab": {
          "base_uri": "https://localhost:8080/",
          "height": 113
        },
        "outputId": "226bca82-f6d1-4265-c210-daf09c4723f6"
      },
      "cell_type": "code",
      "source": [
        "\n",
        "a = ims[1].mean(2, keepdim=True)\n",
        "# height x width x 1\n",
        "\n",
        "# (Lots of code in between)\n",
        "#  .......................\n",
        "\n",
        "# Code comment explaining what should be happening.\n",
        "dim = 1\n",
        "b = a + ims.mean(dim, keepdim=True)[0]\n",
        "\n",
        "\n",
        "# (Or maybe should be a 2? or a 0?)\n",
        "index = 2\n",
        "b = a + ims.mean(dim, keepdim=True)[0]\n",
        "b"
      ],
      "execution_count": 10,
      "outputs": [
        {
          "output_type": "execute_result",
          "data": {
            "image/png": "[encoded data removed]",
            "text/plain": [
              ""
            ]
          },
          "metadata": {
            "tags": []
          },
          "execution_count": 10
        }
      ]
    },
    {
      "metadata": {
        "id": "P4WyEXyYVFGp",
        "colab_type": "text"
      },
      "cell_type": "markdown",
      "source": [
        "Here we assume that the coder is trying to combine two tensor using both reduction operations and dimension indexing. (Honestly at this point I have forgetten the dimensions stand for). The main point though is that this code will run fine for whatever value `dim` is. The comment is useless here if the code doesn't throw a run time error. "
      ]
    },
    {
      "metadata": {
        "id": "b9gDFB-WV9_h",
        "colab_type": "text"
      },
      "cell_type": "markdown",
      "source": [
        "## An Opinionated Proposal: Named Tensors"
      ]
    },
    {
      "metadata": {
        "id": "khfYKuBcWPMz",
        "colab_type": "text"
      },
      "cell_type": "markdown",
      "source": [
        "My proposal is simple but dogmatic. Tensor is broken, we should use named tensors. Ideally:\n",
        "\n",
        "**1) All dimensions should have a unique human-readable name. **\n",
        "\n",
        "**2) No function should have an index-based `dim` / `axis` argument. **\n",
        "\n",
        "**3) Implicit broadcasting should be replaced with *contraction*. **\n",
        "\n",
        "**4) Transposition should be explicit.**\n",
        "\n",
        "**5) Indexing should be phased out. **\n",
        "\n",
        "**6) Knowing private dimensions should never be necessary.**\n",
        "\n"
      ]
    },
    {
      "metadata": {
        "id": "cmFZCfgZYm3i",
        "colab_type": "text"
      },
      "cell_type": "markdown",
      "source": [
        "## A Prototype: The `namedtensor` Library\n",
        "\n",
        "To experiment with these ideas I have built a library known as NamedTensor. Currently parts of it are PyTorch specific, but in theory a similar idea could be used in other frameworks. The code is available at [harvardnlp/namedtensor](https://github.com/harvardnlp/namedtensor). Let's go through how each of these ideas are implemented in practice. "
      ]
    },
    {
      "metadata": {
        "id": "SYth2yPxZobO",
        "colab_type": "text"
      },
      "cell_type": "markdown",
      "source": [
        "### 1) Assigning Names"
      ]
    },
    {
      "metadata": {
        "id": "0177b_0vZ303",
        "colab_type": "text"
      },
      "cell_type": "markdown",
      "source": [
        "The core of the library is an object that wraps a tensor and provides names for each dimension. Here we simply wrap a given torch tensor with dimension names."
      ]
    },
    {
      "metadata": {
        "id": "sLnQA8VOZsEx",
        "colab_type": "code",
        "colab": {
          "base_uri": "https://localhost:8080/",
          "height": 35
        },
        "outputId": "dc49a05c-e4ae-467a-a8b7-a079a5b3d308"
      },
      "cell_type": "code",
      "source": [
        "named_ims = NamedTensor(ims, \"batch height width channels\")\n",
        "named_ims.named_shape"
      ],
      "execution_count": 11,
      "outputs": [
        {
          "output_type": "execute_result",
          "data": {
            "text/plain": [
              "OrderedDict([('batch', 6), ('height', 96), ('width', 96), ('channels', 3)])"
            ]
          },
          "metadata": {
            "tags": []
          },
          "execution_count": 11
        }
      ]
    },
    {
      "metadata": {
        "id": "eLjL4O7_ZiyW",
        "colab_type": "text"
      },
      "cell_type": "markdown",
      "source": [
        "Alternatively the library has wrappers for the pytorch constructors to turn them into named tensors. "
      ]
    },
    {
      "metadata": {
        "id": "eiYe47t6aRnd",
        "colab_type": "code",
        "colab": {
          "base_uri": "https://localhost:8080/",
          "height": 113
        },
        "outputId": "f28fb272-4e2c-4fc3-f3cc-1100f7d57cb8"
      },
      "cell_type": "code",
      "source": [
        "tensor = nt.randn(dict(height=96, width=96, channels=3))\n",
        "tensor"
      ],
      "execution_count": 12,
      "outputs": [
        {
          "output_type": "execute_result",
          "data": {
            "image/png": "[encoded data removed]",
            "text/plain": [
              ""
            ]
          },
          "metadata": {
            "tags": []
          },
          "execution_count": 12
        }
      ]
    },
    {
      "metadata": {
        "id": "lNgHsAmDbxMc",
        "colab_type": "text"
      },
      "cell_type": "markdown",
      "source": [
        "Most simple operations simply keep around the named tensor properties. "
      ]
    },
    {
      "metadata": {
        "id": "T-wGpWZAb4AL",
        "colab_type": "code",
        "colab": {
          "base_uri": "https://localhost:8080/",
          "height": 35
        },
        "outputId": "9ff0773a-7118-4789-c3d4-29786aa1de58"
      },
      "cell_type": "code",
      "source": [
        "tensor.log().named_shape"
      ],
      "execution_count": 13,
      "outputs": [
        {
          "output_type": "execute_result",
          "data": {
            "text/plain": [
              "OrderedDict([('height', 96), ('width', 96), ('channels', 3)])"
            ]
          },
          "metadata": {
            "tags": []
          },
          "execution_count": 13
        }
      ]
    },
    {
      "metadata": {
        "id": "GfVktrThcIF2",
        "colab_type": "text"
      },
      "cell_type": "markdown",
      "source": [
        "### 2) Names as Accessors"
      ]
    },
    {
      "metadata": {
        "id": "iNCJcWeccTZW",
        "colab_type": "text"
      },
      "cell_type": "markdown",
      "source": [
        "The first benefit of names comes from the ability to replace the need for `dim` and `axis` style arguments entirely. For example, lets say we wanted to sort each column. "
      ]
    },
    {
      "metadata": {
        "id": "-HdhRVfqcyd2",
        "colab_type": "code",
        "colab": {
          "base_uri": "https://localhost:8080/",
          "height": 131
        },
        "outputId": "fa590b6c-2768-43de-bd3d-2e60aa3ccf18"
      },
      "cell_type": "code",
      "source": [
        "sorted_pic, _ = tensor.sort(\"width\")\n",
        "print(sorted_pic.named_shape)\n",
        "sorted_pic.tensor"
      ],
      "execution_count": 14,
      "outputs": [
        {
          "output_type": "stream",
          "text": [
            "OrderedDict([('height', 96), ('width', 96), ('channels', 3)])\n"
          ],
          "name": "stdout"
        },
        {
          "output_type": "execute_result",
          "data": {
            "image/png": "[encoded data removed]",
            "text/plain": [
              ""
            ]
          },
          "metadata": {
            "tags": []
          },
          "execution_count": 14
        }
      ]
    },
    {
      "metadata": {
        "id": "JRljeAlweL7X",
        "colab_type": "text"
      },
      "cell_type": "markdown",
      "source": [
        "Another common operation is a *reduction*  where one or more dimensions is pooled out.   "
      ]
    },
    {
      "metadata": {
        "id": "6Rji52BmemX9",
        "colab_type": "code",
        "colab": {
          "base_uri": "https://localhost:8080/",
          "height": 131
        },
        "outputId": "aa85977e-876b-46ae-e1bf-7798e0e0f077"
      },
      "cell_type": "code",
      "source": [
        "averaged_images = named_ims.mean(\"batch\")\n",
        "print(averaged_images.named_shape)\n",
        "averaged_images"
      ],
      "execution_count": 15,
      "outputs": [
        {
          "output_type": "stream",
          "text": [
            "OrderedDict([('height', 96), ('width', 96), ('channels', 3)])\n"
          ],
          "name": "stdout"
        },
        {
          "output_type": "execute_result",
          "data": {
            "image/png": "[encoded data removed]",
            "text/plain": [
              ""
            ]
          },
          "metadata": {
            "tags": []
          },
          "execution_count": 15
        }
      ]
    },
    {
      "metadata": {
        "id": "5Ky7Q3Kge8Mh",
        "colab_type": "code",
        "colab": {
          "base_uri": "https://localhost:8080/",
          "height": 131
        },
        "outputId": "f09955df-7090-4af7-c166-e88f302fd6a1"
      },
      "cell_type": "code",
      "source": [
        "averaged_images = named_ims.mean(\"batch channels\")\n",
        "print(averaged_images.named_shape)\n",
        "averaged_images"
      ],
      "execution_count": 16,
      "outputs": [
        {
          "output_type": "stream",
          "text": [
            "OrderedDict([('height', 96), ('width', 96)])\n"
          ],
          "name": "stdout"
        },
        {
          "output_type": "execute_result",
          "data": {
            "image/png": "[encoded data removed]",
            "text/plain": [
              ""
            ]
          },
          "metadata": {
            "tags": []
          },
          "execution_count": 16
        }
      ]
    },
    {
      "metadata": {
        "id": "5kt1vZ__mqXL",
        "colab_type": "text"
      },
      "cell_type": "markdown",
      "source": [
        ""
      ]
    },
    {
      "metadata": {
        "id": "m88W0sfufEq1",
        "colab_type": "text"
      },
      "cell_type": "markdown",
      "source": [
        "### 3) Broadcasting and Contraction\n",
        "\n",
        "The names that are provided also provide the basis for broadcasting operations. When there is a binary operations between two named tensors they first ensure that all dimension are matched in name and then apply standard broadcasting. To demonstrate let's return to the masking example above. Here we simply declare the names of the dimensions of our mask, and ask the library to figure out the broadcasting. "
      ]
    },
    {
      "metadata": {
        "id": "ffjF33e4fhLs",
        "colab_type": "code",
        "colab": {
          "base_uri": "https://localhost:8080/",
          "height": 113
        },
        "outputId": "9386a630-44e9-41ad-902b-4c73d3b66abf"
      },
      "cell_type": "code",
      "source": [
        "mask = NamedTensor(torch.randint(0, 2, [96, 96]).byte(), \"height width\")\n",
        "named_ims.masked_fill(mask, 1).get(\"batch\", 0)"
      ],
      "execution_count": 21,
      "outputs": [
        {
          "output_type": "execute_result",
          "data": {
            "image/png": "[encoded data removed]",
            "text/plain": [
              ""
            ]
          },
          "metadata": {
            "tags": []
          },
          "execution_count": 21
        }
      ]
    },
    {
      "metadata": {
        "id": "SB93TbaxhBpS",
        "colab_type": "text"
      },
      "cell_type": "markdown",
      "source": [
        "Similar operations can be used for standard matrix operations such as addition and multiplication."
      ]
    },
    {
      "metadata": {
        "id": "tnnPgP5xjlwa",
        "colab_type": "code",
        "colab": {
          "base_uri": "https://localhost:8080/",
          "height": 113
        },
        "outputId": "e9f448af-760b-4772-8943-817b5cd15a59"
      },
      "cell_type": "code",
      "source": [
        "(named_ims * mask.double()).get(\"batch\", 0)"
      ],
      "execution_count": 22,
      "outputs": [
        {
          "output_type": "execute_result",
          "data": {
            "image/png": "[encoded data removed]",
            "text/plain": [
              ""
            ]
          },
          "metadata": {
            "tags": []
          },
          "execution_count": 22
        }
      ]
    },
    {
      "metadata": {
        "id": "Woje-ckrj4Bm",
        "colab_type": "text"
      },
      "cell_type": "markdown",
      "source": [
        "Another useful feature is to the `contract` method which applies tensor contraction between two name tensors. Tensor contraction, the machinery behind `einsum`, is an elegant way of thinking about generalizations of dot-products.  "
      ]
    },
    {
      "metadata": {
        "id": "t0H4P6NnkK4t",
        "colab_type": "code",
        "colab": {
          "base_uri": "https://localhost:8080/",
          "height": 71
        },
        "outputId": "c6740ecb-c6d5-4841-b82d-f508db8f398e"
      },
      "cell_type": "code",
      "source": [
        "tensor1 = named_ims.get(\"batch\", 0)\n",
        "tensor2 = named_ims.get(\"batch\", 0)\n",
        "\n",
        "\n",
        "# Runs torch.einsum(ijk,ijk->jk, tensor1, tensor2)\n",
        "print(tensor1.contract(\"height\", tensor2).named_shape)\n",
        "\n",
        "# Runs torch.einsum(ijk,ijk->il, tensor1, tensor2)\n",
        "print(tensor1.contract(\"width\", tensor2).named_shape)\n",
        "\n",
        "# Runs torch.einsum(ijk,ijk->l, tensor1, tensor2)\n",
        "print(tensor1.contract(\"height width\", tensor2).named_shape)\n"
      ],
      "execution_count": 30,
      "outputs": [
        {
          "output_type": "stream",
          "text": [
            "OrderedDict([('width', 96), ('channels', 3)])\n",
            "OrderedDict([('height', 96), ('channels', 3)])\n",
            "OrderedDict([('channels', 3)])\n"
          ],
          "name": "stdout"
        }
      ]
    },
    {
      "metadata": {
        "id": "2T3wTh88lb7h",
        "colab_type": "text"
      },
      "cell_type": "markdown",
      "source": [
        "Similar notation can be used for spare indexing. This is useful for embedding lookups and other sparse operations. "
      ]
    },
    {
      "metadata": {
        "id": "iKWmZyHYlsQV",
        "colab_type": "code",
        "colab": {
          "base_uri": "https://localhost:8080/",
          "height": 85
        },
        "outputId": "564f6562-f30d-4d25-90b7-a46de2089b1e"
      },
      "cell_type": "code",
      "source": [
        "tensor1 = named_ims.get(\"batch\", 0) \n",
        "tensor2, _ = NamedTensor(torch.randint(0, 96, [50]).long(), \"lookups\").sort(\"lookups\")\n",
        "\n",
        "# Select 50 random rows.\n",
        "selected = tensor1.index_select(\"height\", tensor2)\n",
        "print(selected.named_shape)\n",
        "selected"
      ],
      "execution_count": 41,
      "outputs": [
        {
          "output_type": "stream",
          "text": [
            "OrderedDict([('lookups', 50), ('width', 96), ('channels', 3)])\n"
          ],
          "name": "stdout"
        },
        {
          "output_type": "execute_result",
          "data": {
            "image/png": "[encoded data removed]",
            "text/plain": [
              ""
            ]
          },
          "metadata": {
            "tags": []
          },
          "execution_count": 41
        }
      ]
    },
    {
      "metadata": {
        "id": "AKTInxARmYgY",
        "colab_type": "text"
      },
      "cell_type": "markdown",
      "source": [
        "### 4) Transposition Should Be Explicit "
      ]
    },
    {
      "metadata": {
        "id": "S5GfSRZQnDq4",
        "colab_type": "text"
      },
      "cell_type": "markdown",
      "source": [
        "Behind the scenes all of the named tensors are acting as tensor objects. As such thing like order and stride of dimensions does matter. Operations like `transpose` and `view` are crucial for maintaining this, but are unfortunately quite error-prone. \n",
        "Instead I propose a single method `shift` that borrowsheavily from the Alex Rogozhnikov's excellent [einops](https://github.com/arogozhnikov/einops) package.\n",
        " "
      ]
    },
    {
      "metadata": {
        "id": "KyBAO9_3qj41",
        "colab_type": "code",
        "outputId": "0eb46f14-94e0-48d9-d0e3-c27191688a0a",
        "colab": {
          "base_uri": "https://localhost:8080/",
          "height": 113
        }
      },
      "cell_type": "code",
      "source": [
        "tensor = NamedTensor(ims[0], \"h w c\")\n",
        "tensor"
      ],
      "execution_count": 43,
      "outputs": [
        {
          "output_type": "execute_result",
          "data": {
            "image/png": "[encoded data removed]",
            "text/plain": [
              ""
            ]
          },
          "metadata": {
            "tags": []
          },
          "execution_count": 43
        }
      ]
    },
    {
      "metadata": {
        "id": "w2hdSaRKoHky",
        "colab_type": "text"
      },
      "cell_type": "markdown",
      "source": [
        "Standard calls to shift transpose dimensions."
      ]
    },
    {
      "metadata": {
        "id": "YJBHGKpLsX8a",
        "colab_type": "code",
        "outputId": "66b9282a-fb33-4369-b801-01895a1d2988",
        "colab": {
          "base_uri": "https://localhost:8080/",
          "height": 113
        }
      },
      "cell_type": "code",
      "source": [
        "tensor.shift(\"w h c\")"
      ],
      "execution_count": 44,
      "outputs": [
        {
          "output_type": "execute_result",
          "data": {
            "image/png": "[encoded data removed]",
            "text/plain": [
              ""
            ]
          },
          "metadata": {
            "tags": []
          },
          "execution_count": 44
        }
      ]
    },
    {
      "metadata": {
        "id": "4C7y6HsOoGvz",
        "colab_type": "text"
      },
      "cell_type": "markdown",
      "source": [
        "Calls with of the form \"a -> (b c)\" split dimensions, whereas \"(a b) -> c\" merge them. "
      ]
    },
    {
      "metadata": {
        "id": "p731PTUs2HXW",
        "colab_type": "code",
        "outputId": "b62e8945-3aac-4c92-c3b3-825c6adaf53e",
        "colab": {
          "base_uri": "https://localhost:8080/",
          "height": 35
        }
      },
      "cell_type": "code",
      "source": [
        "tensor = NamedTensor(ims[0], \"h w c\")\n",
        "tensor.shift('h -> (height q)', height=8).named_shape"
      ],
      "execution_count": 46,
      "outputs": [
        {
          "output_type": "execute_result",
          "data": {
            "text/plain": [
              "OrderedDict([('height', 8), ('q', 12), ('w', 96), ('c', 3)])"
            ]
          },
          "metadata": {
            "tags": []
          },
          "execution_count": 46
        }
      ]
    },
    {
      "metadata": {
        "id": "uD1iruomtanM",
        "colab_type": "code",
        "outputId": "f0932572-84fc-4901-99af-309b6f67f788",
        "colab": {
          "base_uri": "https://localhost:8080/",
          "height": 35
        }
      },
      "cell_type": "code",
      "source": [
        "tensor = NamedTensor(ims, 'b h w c')\n",
        "tensor.shift('(b h) -> bh').named_shape\n"
      ],
      "execution_count": 53,
      "outputs": [
        {
          "output_type": "execute_result",
          "data": {
            "text/plain": [
              "OrderedDict([('bh', 576), ('w', 96), ('c', 3)])"
            ]
          },
          "metadata": {
            "tags": []
          },
          "execution_count": 53
        }
      ]
    },
    {
      "metadata": {
        "id": "8h6ZCcrgoeEg",
        "colab_type": "text"
      },
      "cell_type": "markdown",
      "source": [
        "Shifts can be chained in the same function."
      ]
    },
    {
      "metadata": {
        "id": "74kpc4j-t1Sb",
        "colab_type": "code",
        "outputId": "8fe9be49-ceae-4075-a5e4-f8f5a12b8ab4",
        "colab": {
          "base_uri": "https://localhost:8080/",
          "height": 113
        }
      },
      "cell_type": "code",
      "source": [
        "tensor.shift('(b w) -> bw', 'h bw c')\n"
      ],
      "execution_count": 55,
      "outputs": [
        {
          "output_type": "execute_result",
          "data": {
            "image/png": "[encoded data removed]",
            "text/plain": [
              ""
            ]
          },
          "metadata": {
            "tags": []
          },
          "execution_count": 55
        }
      ]
    },
    {
      "metadata": {
        "id": "ZKXtJ4gSonIZ",
        "colab_type": "text"
      },
      "cell_type": "markdown",
      "source": [
        "Just for fun, here are some of the crazier examples from *einops* in this notation."
      ]
    },
    {
      "metadata": {
        "id": "JnsFFFGPkxBs",
        "colab_type": "code",
        "outputId": "2ff9268f-8d5b-4275-c69d-752f1dd8989c",
        "colab": {
          "base_uri": "https://localhost:8080/",
          "height": 305
        }
      },
      "cell_type": "code",
      "source": [
        "tensor.shift(\"b -> (b1 b2)\", '(b2 h) -> a', '(b1 w) -> d', 'a d c', b1=2)"
      ],
      "execution_count": 52,
      "outputs": [
        {
          "output_type": "execute_result",
          "data": {
            "image/png": "[encoded data removed]",
            "text/plain": [
              ""
            ]
          },
          "metadata": {
            "tags": []
          },
          "execution_count": 52
        }
      ]
    },
    {
      "metadata": {
        "id": "6XHpOv62kelh",
        "colab_type": "code",
        "outputId": "eb323aa7-f394-48fd-f91a-fbd7e673af9a",
        "colab": {
          "base_uri": "https://localhost:8080/",
          "height": 209
        }
      },
      "cell_type": "code",
      "source": [
        "tensor.shift('w -> (w w2)', '(h w2) -> a', '(b w) -> d', 'a d c', w2=2)"
      ],
      "execution_count": 56,
      "outputs": [
        {
          "output_type": "execute_result",
          "data": {
            "image/png": "[encoded data removed]",
            "text/plain": [
              ""
            ]
          },
          "metadata": {
            "tags": []
          },
          "execution_count": 56
        }
      ]
    },
    {
      "metadata": {
        "id": "9xusGrzNkVKW",
        "colab_type": "code",
        "outputId": "7aaf15be-b43d-408e-856d-58bb013ee334",
        "colab": {
          "base_uri": "https://localhost:8080/",
          "height": 113
        }
      },
      "cell_type": "code",
      "source": [
        "tensor.shift('(b w) -> a', 'h a c')"
      ],
      "execution_count": 57,
      "outputs": [
        {
          "output_type": "execute_result",
          "data": {
            "image/png": "[encoded data removed]",
            "text/plain": [
              ""
            ]
          },
          "metadata": {
            "tags": []
          },
          "execution_count": 57
        }
      ]
    },
    {
      "metadata": {
        "id": "nsR9xjHMCXv2",
        "colab_type": "code",
        "outputId": "b1b10f69-ed70-4b61-f461-eab86acb0341",
        "colab": {
          "base_uri": "https://localhost:8080/",
          "height": 113
        }
      },
      "cell_type": "code",
      "source": [
        "tensor.shift('(w b) -> a', 'h a c')"
      ],
      "execution_count": 58,
      "outputs": [
        {
          "output_type": "execute_result",
          "data": {
            "image/png": "[encoded data removed]",
            "text/plain": [
              ""
            ]
          },
          "metadata": {
            "tags": []
          },
          "execution_count": 58
        }
      ]
    },
    {
      "metadata": {
        "id": "OowFiE4jCkXH",
        "colab_type": "code",
        "outputId": "542ac184-4c20-4e0a-dce4-696b30d839cc",
        "colab": {
          "base_uri": "https://localhost:8080/",
          "height": 113
        }
      },
      "cell_type": "code",
      "source": [
        "tensor = NamedTensor(ims, 'b h w c')\n",
        "tensor.mean('b')"
      ],
      "execution_count": 59,
      "outputs": [
        {
          "output_type": "execute_result",
          "data": {
            "image/png": "[encoded data removed]",
            "text/plain": [
              ""
            ]
          },
          "metadata": {
            "tags": []
          },
          "execution_count": 59
        }
      ]
    },
    {
      "metadata": {
        "id": "FYX0z4-aEsLh",
        "colab_type": "code",
        "outputId": "fd066d8d-2551-46b4-a52e-20f99c0607ad",
        "colab": {
          "base_uri": "https://localhost:8080/",
          "height": 305
        }
      },
      "cell_type": "code",
      "source": [
        "tensor = NamedTensor(ims, 'b h w c')\n",
        "tensor.shift(\"h -> (h h2)\", \"w -> (w w2)\", h2=2, w2=2).mean(\"h2 w2\").shift(\"(b w) -> bw\")"
      ],
      "execution_count": 65,
      "outputs": [
        {
          "output_type": "execute_result",
          "data": {
            "image/png": "[encoded data removed]",
            "text/plain": [
              ""
            ]
          },
          "metadata": {
            "tags": []
          },
          "execution_count": 65
        }
      ]
    },
    {
      "metadata": {
        "id": "BssZDH91Kjdv",
        "colab_type": "code",
        "outputId": "01fa5b2f-e0ff-4d60-8fee-6f381acdfe5a",
        "colab": {
          "base_uri": "https://localhost:8080/",
          "height": 305
        }
      },
      "cell_type": "code",
      "source": [
        "tensor = NamedTensor(ims, 'b h w c')\n",
        "tensor.shift(\"b -> (b1 b2)\", b1 = 2).mean('c').shift(\"(b1 w) -> bw\", \"(b2 h) -> bh\", 'bh bw')\n"
      ],
      "execution_count": 66,
      "outputs": [
        {
          "output_type": "execute_result",
          "data": {
            "image/png": "[encoded data removed]",
            "text/plain": [
              ""
            ]
          },
          "metadata": {
            "tags": []
          },
          "execution_count": 66
        }
      ]
    },
    {
      "metadata": {
        "id": "tesLBQTbM2IO",
        "colab_type": "code",
        "outputId": "c9d1e759-0911-4985-f1da-ee7a322b3a60",
        "colab": {
          "base_uri": "https://localhost:8080/",
          "height": 209
        }
      },
      "cell_type": "code",
      "source": [
        "tensor.shift('b -> (b1 b2)', '(h b1) -> h', '(w b2) -> w', b1=2)"
      ],
      "execution_count": 67,
      "outputs": [
        {
          "output_type": "execute_result",
          "data": {
            "image/png": "[encoded data removed]",
            "text/plain": [
              ""
            ]
          },
          "metadata": {
            "tags": []
          },
          "execution_count": 67
        }
      ]
    },
    {
      "metadata": {
        "id": "RONa1_CvpIJl",
        "colab_type": "text"
      },
      "cell_type": "markdown",
      "source": [
        "## 5) Less Indexing"
      ]
    },
    {
      "metadata": {
        "id": "95TGZJB5pXbW",
        "colab_type": "text"
      },
      "cell_type": "markdown",
      "source": [
        "Generally indexing is discouraged in this named tensor paradigm. Instead use functions like `index_select` above or `unbind`\n",
        "\n"
      ]
    },
    {
      "metadata": {
        "id": "3jMIuUxIpn74",
        "colab_type": "code",
        "colab": {
          "base_uri": "https://localhost:8080/",
          "height": 113
        },
        "outputId": "62c79bed-071c-42d5-ecfe-4145f49b2e0c"
      },
      "cell_type": "code",
      "source": [
        "tensor = NamedTensor(ims, 'b h w c')\n",
        "\n",
        "# Returns a tuple\n",
        "images = tensor.unbind(\"b\")\n",
        "images[3]"
      ],
      "execution_count": 70,
      "outputs": [
        {
          "output_type": "execute_result",
          "data": {
            "image/png": "[encoded data removed]",
            "text/plain": [
              ""
            ]
          },
          "metadata": {
            "tags": []
          },
          "execution_count": 70
        }
      ]
    },
    {
      "metadata": {
        "id": "FZcHQ_BvqJ6X",
        "colab_type": "text"
      },
      "cell_type": "markdown",
      "source": [
        "Another alternative is to use `get` to obtain a single slice."
      ]
    },
    {
      "metadata": {
        "id": "qQCELxUgqB_v",
        "colab_type": "code",
        "colab": {
          "base_uri": "https://localhost:8080/",
          "height": 113
        },
        "outputId": "f40e2d22-eea4-40d2-d674-6e181b0c182d"
      },
      "cell_type": "code",
      "source": [
        "# Returns a tuple\n",
        "images = tensor.get(\"b\", 0).unbind(\"c\")\n",
        "images[1]"
      ],
      "execution_count": 74,
      "outputs": [
        {
          "output_type": "execute_result",
          "data": {
            "image/png": "[encoded data removed]",
            "text/plain": [
              ""
            ]
          },
          "metadata": {
            "tags": []
          },
          "execution_count": 74
        }
      ]
    },
    {
      "metadata": {
        "id": "kx75vFJdp0Rm",
        "colab_type": "text"
      },
      "cell_type": "markdown",
      "source": [
        "Finally `narrow` can be used to replace fancy indexing. However you must give a new dim name."
      ]
    },
    {
      "metadata": {
        "id": "lufRXyjoqbI5",
        "colab_type": "code",
        "colab": {
          "base_uri": "https://localhost:8080/",
          "height": 67
        },
        "outputId": "305618a1-cfdc-42a3-9e5c-48128996616c"
      },
      "cell_type": "code",
      "source": [
        "tensor.narrow( \"h -> narrowedheight\", 30, 50).get(\"b\", 0)"
      ],
      "execution_count": 82,
      "outputs": [
        {
          "output_type": "execute_result",
          "data": {
            "image/png": "[encoded data removed]",
            "text/plain": [
              ""
            ]
          },
          "metadata": {
            "tags": []
          },
          "execution_count": 82
        }
      ]
    },
    {
      "metadata": {
        "id": "JeYS9if9qwjI",
        "colab_type": "text"
      },
      "cell_type": "markdown",
      "source": [
        "## 6) Encapsulation"
      ]
    },
    {
      "metadata": {
        "id": "uUG43UwVrZbc",
        "colab_type": "text"
      },
      "cell_type": "markdown",
      "source": [
        "To demonstrate why these choices lead to better encapsulation properties, let's consider a real-world deep learning example. This example was proposed by my colleague Tim Rocktashel in the blog post describing einsum (https://rockt.github.io/2018/04/30/einsum).\n",
        "\n",
        "\n"
      ]
    },
    {
      "metadata": {
        "id": "Gs3HJEErsTvs",
        "colab_type": "text"
      },
      "cell_type": "markdown",
      "source": [
        "Consider the problem of neural attention, which requires computing,\n",
        "\n",
        "\\begin{align*}\n",
        "\\mathbf{M}_t &= \\tanh(\\mathbf{W}^y\\mathbf{Y}+(\\mathbf{W}^h\\mathbf{h}_t+\\mathbf{W}^r\\mathbf{r}_{t-1})\\otimes \\mathbf{e}_L) & \\mathbf{M}_t &\\in\\mathbb{R}^{k\\times L}\\\\\n",
        "\\alpha_t &= \\text{softmax}(\\mathbf{w}^T\\mathbf{M}_t)&\\alpha_t&\\in\\mathbb{R}^L\\\\\n",
        "\\mathbf{r}_t &= \\mathbf{Y}\\alpha^T_t + \\tanh(\\mathbf{W}^t\\mathbf{r}_{t-1})&\\mathbf{r}_t&\\in\\mathbb{R}^k\n",
        "\\end{align*}"
      ]
    },
    {
      "metadata": {
        "id": "CGvKocKguAdu",
        "colab_type": "text"
      },
      "cell_type": "markdown",
      "source": [
        "First let's setup the necessary parameters."
      ]
    },
    {
      "metadata": {
        "id": "PP3eiilYtUu9",
        "colab_type": "code",
        "colab": {}
      },
      "cell_type": "code",
      "source": [
        "def random_ntensors(names, num=1, requires_grad=False):\n",
        "    tensors = [nt.build(torch.randn, names, requires_grad=requires_grad)\n",
        "               for i in range(0, num)]\n",
        "    return tensors[0] if num == 1 else tensors\n",
        "\n",
        "class Param:\n",
        "    def __init__(self, in_hid, out_hid):\n",
        "        torch.manual_seed(0)\n",
        "        self.WY, self.Wh, self.Wr, self.Wt = \\\n",
        "            random_ntensors(dict(inhid=in_hid, outhid=out_hid),\n",
        "                            num=4, requires_grad=True)\n",
        "        self.bM, self.br, self.w = random_ntensors(dict(outhid=out_hid), num=3,\n",
        "                                                   requires_grad=True)\n",
        "        "
      ],
      "execution_count": 0,
      "outputs": []
    },
    {
      "metadata": {
        "id": "iERFd2mquEc2",
        "colab_type": "text"
      },
      "cell_type": "markdown",
      "source": [
        "Now consider the tensor-based einsum implementation of this function. "
      ]
    },
    {
      "metadata": {
        "id": "oD5eGKI_sZTJ",
        "colab_type": "code",
        "colab": {}
      },
      "cell_type": "code",
      "source": [
        "# Einsum Implementation\n",
        "import torch.nn.functional as F\n",
        "def einsum_attn(params, Y, ht, rt1):\n",
        "    # -- [batch_size x hidden_dimension]\n",
        "    tmp = torch.einsum(\"ik,kl->il\", [ht, params.Wh.tensor]) + \\\n",
        "          torch.einsum(\"ik,kl->il\", [rt1, params.Wr.tensor])\n",
        "\n",
        "    Mt = torch.tanh(torch.einsum(\"ijk,kl->ijl\", [Y, params.WY.tensor]) + \\\n",
        "                tmp.unsqueeze(1).expand_as(Y) + params.bM.tensor)\n",
        "    # -- [batch_size x sequence_length]\n",
        "    at = F.softmax(torch.einsum(\"ijk,k->ij\", [Mt, params.w.tensor]), dim=-1)\n",
        "\n",
        "    # -- [batch_size x hidden_dimension]\n",
        "    rt = torch.einsum(\"ijk,ij->ik\", [Y, at]) + \\\n",
        "         torch.tanh(torch.einsum(\"ij,jk->ik\", [rt1, params.Wt.tensor]) + \n",
        "                    params.br.tensor)\n",
        "\n",
        "    # -- [batch_size x hidden_dimension], [batch_size x sequence_dimension]\n",
        "    return rt, at"
      ],
      "execution_count": 0,
      "outputs": []
    },
    {
      "metadata": {
        "id": "FGbiXmf2uKN5",
        "colab_type": "text"
      },
      "cell_type": "markdown",
      "source": [
        "This implementation is a huge improvement over the naive PyTorch implementation. It removes many of the \n",
        "views and transposes that would be necessary to make this work. However, I would argue that it still fails many of \n",
        "the tests laid out in the introduction. It uses `squeeze`, it only works with one batch dim, and it is littered with comments that \n",
        "are not enforced as constraint in the code itself."
      ]
    },
    {
      "metadata": {
        "id": "TzmJKd1UuyQd",
        "colab_type": "text"
      },
      "cell_type": "markdown",
      "source": [
        "As an alternative consider the namedtensor version: "
      ]
    },
    {
      "metadata": {
        "id": "f5_BX7z7szLk",
        "colab_type": "code",
        "colab": {}
      },
      "cell_type": "code",
      "source": [
        "def namedtensor_attn(params, Y, ht, rt1):\n",
        "    tmp = ht.contract(\"inhid\", params.Wh) + rt1.contract(\"inhid\", params.Wr)\n",
        "    at = (Y.contract(\"inhid\", params.WY) + tmp + params.bM) \\\n",
        "         .tanh() \\\n",
        "         .contract(\"outhid\", params.w) \\\n",
        "         .softmax(\"seqlen\")\n",
        "\n",
        "    rt = Y.contract(\"seqlen\", at).shift(\"inhid -> (outhid)\") + \\\n",
        "         (rt1.contract(\"inhid\", params.Wt) + params.br).tanh()\n",
        "    return rt, at\n"
      ],
      "execution_count": 0,
      "outputs": []
    },
    {
      "metadata": {
        "id": "KvtY1nWAsWVm",
        "colab_type": "text"
      },
      "cell_type": "markdown",
      "source": [
        "Note three things: \n",
        "\n",
        "1) The code never mentions \"batch\"\n",
        "\n",
        "2) There is no indexing, unpacking of matrices, squeezes, or dim calls\n",
        "\n",
        "3) If you understand attention, it is very clear where it is being computed and applied based on the `seqlen` name. "
      ]
    },
    {
      "metadata": {
        "id": "BKolTWWlvkzO",
        "colab_type": "code",
        "colab": {}
      },
      "cell_type": "code",
      "source": [
        "in_hid = 7\n",
        "out_hid = 7\n",
        "Y = torch.randn(3, 5, in_hid)\n",
        "# -- [batch_size x hidden_dimension]\n",
        "ht, rt1 = torch.randn(3, in_hid), torch.randn(3, in_hid)\n",
        "ea = Param(in_hid, out_hid)\n",
        "r, a = einsum_attn(ea, Y, ht, rt1)\n",
        "\n",
        "Y = NamedTensor(Y, \"batch seqlen inhid\")\n",
        "ht = NamedTensor(ht, \"batch inhid\")\n",
        "rt1 = NamedTensor(rt1, \"batch inhid\")\n",
        "nr, na = namedtensor_attn(ea, Y, ht, rt1)"
      ],
      "execution_count": 0,
      "outputs": []
    },
    {
      "metadata": {
        "id": "bHUQllYYw4Zc",
        "colab_type": "text"
      },
      "cell_type": "markdown",
      "source": [
        "## Call to Action"
      ]
    },
    {
      "metadata": {
        "id": "vzmW3BZnxFGD",
        "colab_type": "text"
      },
      "cell_type": "markdown",
      "source": [
        "Tools like NumPy and Torch not only help the community do research, they also drive forward what students think is plausible to try out. While it is true a lot of current models can be built fine with the tools we have, it seems implausible to me that the current programming practices are going to scale to new models. For instance, one space we have been working on recently is discrete latent variable models which often have many problem specific variables each with their own variable dimension. This setting breaks the current tensor paradigm almost immediately. \n",
        "\n",
        "That being said, this blog post is just a prototype of where this approach could go. If you are interested, I would love contributors to the build out this library properly. Some ideas if you want to send a PR to  [harvardnlp/namedtensor](https://github.com/harvardnlp/NamedTensor)!\n",
        "\n",
        "1) **Extending beyond PyTorch**: Can we generalize this approach in a way that supports NumPy and Tensorflow?  \n",
        "\n",
        "\n",
        "2) **Interacting with PyTorch Modules**: Can we \"lift\" PyTorch modules with type annotations, so that we know how they change inputs?\n",
        "\n",
        "\n",
        "3) **Error Checking**: Can we add annotations to functions giving pre- and post -conditions so that dimensions are automatically checked.\n",
        "\n"
      ]
    }
  ]
}