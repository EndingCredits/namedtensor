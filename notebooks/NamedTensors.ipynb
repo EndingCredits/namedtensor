{
  "nbformat": 4,
  "nbformat_minor": 0,
  "metadata": {
    "colab": {
      "name": "Ein Tensors.ipynb",
      "version": "0.3.2",
      "provenance": [],
      "collapsed_sections": [],
      "toc_visible": true
    },
    "kernelspec": {
      "name": "python3",
      "display_name": "Python 3"
    }
  },
  "cells": [
    {
      "metadata": {
        "id": "1xfjeAUklVDT",
        "colab_type": "text"
      },
      "cell_type": "markdown",
      "source": [
        "# EinEverything or Dimensions Considered Harmful"
      ]
    },
    {
      "metadata": {
        "id": "xIg-YJpelXdv",
        "colab_type": "code",
        "colab": {}
      },
      "cell_type": "code",
      "source": [
        ""
      ],
      "execution_count": 0,
      "outputs": []
    },
    {
      "metadata": {
        "id": "hl9w-ojYjZv8",
        "colab_type": "code",
        "outputId": "39cf7fe5-5af7-4496-ff64-28b4c6505a8c",
        "colab": {
          "base_uri": "https://localhost:8080/",
          "height": 72
        }
      },
      "cell_type": "code",
      "source": [
        "!pip install dataclasses\n",
        "!pip install einops\n",
        "!pip install torch"
      ],
      "execution_count": 302,
      "outputs": [
        {
          "output_type": "stream",
          "text": [
            "Requirement already satisfied: dataclasses in /usr/local/lib/python3.6/dist-packages (0.6)\n",
            "Requirement already satisfied: einops in /usr/local/lib/python3.6/dist-packages (0.1.0)\n",
            "Requirement already satisfied: torch in /usr/local/lib/python3.6/dist-packages (1.0.0)\n"
          ],
          "name": "stdout"
        }
      ]
    },
    {
      "metadata": {
        "id": "SdysczX8lrJU",
        "colab_type": "code",
        "colab": {}
      },
      "cell_type": "code",
      "source": [
        "import numpy\n",
        "\n",
        "from PIL.Image import fromarray\n",
        "from IPython import get_ipython\n"
      ],
      "execution_count": 0,
      "outputs": []
    },
    {
      "metadata": {
        "id": "OfrjjECDqvpg",
        "colab_type": "code",
        "outputId": "f4c41b36-ba30-433e-a2b8-3ae7b324bb8d",
        "colab": {
          "base_uri": "https://localhost:8080/",
          "height": 35
        }
      },
      "cell_type": "code",
      "source": [
        "#!wget \"https://github.com/arogozhnikov/einops/blob/master/docs/resources/test_images.npy?raw=true\"\n",
        "ims = numpy.load('test_images.npy?raw=true', allow_pickle=False)\n",
        "# There are 6 images of shape 96x96 with 3 color channels packed into tensor\n",
        "print(ims.shape, ims.dtype)"
      ],
      "execution_count": 416,
      "outputs": [
        {
          "output_type": "stream",
          "text": [
            "(6, 96, 96, 3) float64\n"
          ],
          "name": "stdout"
        }
      ]
    },
    {
      "metadata": {
        "id": "p8ABacv1cxbk",
        "colab_type": "text"
      },
      "cell_type": "markdown",
      "source": [
        "# New Section"
      ]
    },
    {
      "metadata": {
        "id": "D5JbkwYScxs_",
        "colab_type": "text"
      },
      "cell_type": "markdown",
      "source": [
        "# Code"
      ]
    },
    {
      "metadata": {
        "id": "NVqbJVINibl1",
        "colab_type": "code",
        "colab": {
          "base_uri": "https://localhost:8080/",
          "height": 35
        },
        "outputId": "c9192dcd-53d6-4eb0-baa8-9470d53dda9a"
      },
      "cell_type": "code",
      "source": [
        "import re\n",
        "group = re.match(r\"\\(([\\w+ ?]+)\\) -> (\\w)+\", \"(A B) -> C\")\n",
        "print(group.groups())"
      ],
      "execution_count": 430,
      "outputs": [
        {
          "output_type": "stream",
          "text": [
            "('A B', 'C')\n"
          ],
          "name": "stdout"
        }
      ]
    },
    {
      "metadata": {
        "id": "gOp76cSRlyXO",
        "colab_type": "code",
        "colab": {}
      },
      "cell_type": "code",
      "source": [
        "from einops import reduce, rearrange\n",
        "from collections import OrderedDict"
      ],
      "execution_count": 0,
      "outputs": []
    },
    {
      "metadata": {
        "id": "NUZNKdJigvHv",
        "colab_type": "code",
        "colab": {}
      },
      "cell_type": "code",
      "source": [
        "def test():\n",
        "    EinTenor(np)"
      ],
      "execution_count": 0,
      "outputs": []
    },
    {
      "metadata": {
        "id": "CNCiT7y2jfNW",
        "colab_type": "code",
        "colab": {}
      },
      "cell_type": "code",
      "source": [
        "class EinDim:    \n",
        "    def __init__(self, names, sizes, total_size):\n",
        "        self.total_size = total_size\n",
        "        nones = []\n",
        "        used = 0\n",
        "        for i, s in enumerate(sizes):\n",
        "            if s is None:\n",
        "                nones.append(i)\n",
        "            else:\n",
        "                used += s\n",
        "\n",
        "        assert len(nones) <= 1, nones\n",
        "        if nones:\n",
        "            sizes[nones[0]] = total_size - used\n",
        "        \n",
        "        \n",
        "        self.names = names\n",
        "        self.sizes = sizes\n",
        "        \n",
        "    def to_einops(self):\n",
        "        if len(self.names) == 1:\n",
        "            return self.names[0]\n",
        "        return \"(\" + \" \".join(self.names) + \")\"\n",
        "       \n",
        "    def size(self):\n",
        "        return self.sizes\n",
        "       \n",
        "    def __repr__(self):\n",
        "        return self.to_einops()\n",
        "    \n",
        "    def collapse(self, size):\n",
        "        if len(self.names) == 1:\n",
        "            return EinDim(self.names, self.sizes, self.total_size)\n",
        "        else:\n",
        "            return EinDim([\"\".join(self.names)], [None], self.total_size) \n",
        "    \n",
        "        \n",
        "class EinTensor:\n",
        "    def __init__(self, tensor, dims):\n",
        "        if isinstance(dims, str):\n",
        "            dims = dims.split()\n",
        "        self.tensor = tensor\n",
        "        self.dims = dims \n",
        "        shape = self.tensor.shape\n",
        "        self.sizes = OrderedDict(((d, shape[i]) for i, d in enumerate(self.dims)))\n",
        "        self.axes = OrderedDict(((d, i) for i, d in enumerate(self.dims)))\n",
        "    \n",
        "    def _to_einops(self):\n",
        "        return \" \".join(self.dims)\n",
        "    \n",
        "    def shape(self):\n",
        "        return self.sizes\n",
        "    \n",
        "    @staticmethod\n",
        "    def parse_dims(tensor, dimstr, size_dict):\n",
        "        t = dimstr.split()\n",
        "        dims = []\n",
        "        i = 0\n",
        "        shape = tensor.shape\n",
        "\n",
        "        while i < len(t):\n",
        "            if not t[i].startswith(\"(\"):\n",
        "                dims.append(EinDim([t[i]], [None], shape[len(dims)]))\n",
        "                i += 1\n",
        "            else:\n",
        "                subdims = []\n",
        "                sizes = []\n",
        "                while True:\n",
        "                    subdims.append(t[i].strip(\")(\"))\n",
        "                    sizes.append(size_dict.get(subdims[-1], None))\n",
        "                    i += 1    \n",
        "                    if t[i-1].endswith(\")\"): \n",
        "                        break   \n",
        "                dims.append(EinDim(subdims, sizes, shape[len(dims)]))\n",
        "        return dims\n",
        "    \n",
        "    \n",
        "    def shift(self, *ops, **kwargs):\n",
        "        tensor = self\n",
        "        for op in ops:\n",
        "            if op.strip().startswith(\"(\"):\n",
        "                tensor = tensor._merge(op)\n",
        "            elif op.strip().endswith(\")\"):\n",
        "                tensor = tensor._split(op, **kwargs)\n",
        "            else:\n",
        "                tensor = tensor._rearrange(op)\n",
        "        return tensor\n",
        "      \n",
        "    def _merge(self, mergestr):  \n",
        "        group = re.match(r\"\\(([\\w+ ?]+)\\) -> (\\w+)\", mergestr)\n",
        "        shape = self.tensor.shape\n",
        "        strnames, dim = group.groups()      \n",
        "        names = strnames.split()         \n",
        "        s = \"\"\n",
        "        ex = \"\"\n",
        "        first = True\n",
        "        for d in self.dims:    \n",
        "            if d not in names:\n",
        "                s += \" \" + d  \n",
        "                ex += \" \" + d\n",
        "            elif first:\n",
        "                s += \" (\" + strnames + \")\"\n",
        "                ex += \" \" + dim\n",
        "                first = False\n",
        "       \n",
        "        tensor = rearrange(self.tensor, \"%s -> %s\"%(self._to_einops(), s))\n",
        "        print(ex)\n",
        "        return EinTensor(tensor, ex)\n",
        "        \n",
        "    def _split(self, splitstr, **kwargs): \n",
        "        group = re.match(r\"(\\w+) -> \\(([\\w+ ?]+)\\)\", splitstr)\n",
        "        dim, strnames = group.groups()\n",
        "        names = strnames.split() \n",
        "        query = \"\"\n",
        "        ex = \"\"\n",
        "        for i, d in enumerate(self.dims):\n",
        "            if d != dim:\n",
        "                query += \" \" + d \n",
        "                ex += \" \" + d\n",
        "            else:\n",
        "                query += \" (\" + strnames + \")\"\n",
        "                ex += \" \" + strnames\n",
        "                \n",
        "        tensor = rearrange(self.tensor, \"%s -> %s\"%(query, ex),\n",
        "                           **{d:kwargs[d] for d in names \n",
        "                              if d in kwargs})\n",
        "        return EinTensor(tensor, ex)\n",
        "        \n",
        "    def _rearrange(self, term):\n",
        "        assert \")\" not in term\n",
        "        recipe = \"%s -> %s\"%(self._to_einops(), term)\n",
        "        tensor = rearrange(self.tensor, recipe)\n",
        "        return EinTensor(tensor, term)\n",
        "               \n",
        "    def promote(self, dims):\n",
        "        \"Move dims to the front of the line\" \n",
        "        term = [d for d in self.dims if d not in dims] + dims\n",
        "        return self._rearrange(term) \n",
        "    \n",
        "    \n",
        "    def reduce(self, terms, op, **kwargs):\n",
        "        ls = terms.split()\n",
        "        term = \" \".join([d for d in self.dims\n",
        "                         if d not in ls])\n",
        "        tensor = reduce(self.tensor,\n",
        "                        \"%s -> %s\"%(self._to_einops(), term), op)\n",
        "        return EinTensor(tensor, term)\n",
        "    \n",
        " \n",
        "    def apply(self, dim, axis_op):\n",
        "        return axis_op(self.tensor, dim=self._to_axis(dim))\n",
        "    \n",
        "    @staticmethod\n",
        "    def check(*tensors):\n",
        "        sizes = {}\n",
        "        failure = False\n",
        "        for t in tensors:\n",
        "            for k, v in t.sizes.items():\n",
        "                if v == 1: continue\n",
        "                if k in sizes:\n",
        "                    failure = (failure or sizes[k] != v)\n",
        "                else:\n",
        "                    sizes[k] = v\n",
        "        assert not failure, \" \".join([str(t.sizes) for t in tensors])\n",
        "    \n",
        "    def _broadcast_to(self, other):\n",
        "        s = \"\"\n",
        "        ex = \"\"\n",
        "        for d in other.dims:\n",
        "            ex += \" \" + d\n",
        "            if d in self.sizes:\n",
        "                s += \" \" + d\n",
        "            else:\n",
        "                s += \" ()\"\n",
        "        for d in self.dims:\n",
        "            if d not in other.sizes:\n",
        "                s += \" \" + d\n",
        "                ex += \" \" + d   \n",
        "        tensor = rearrange(self.tensor, \"%s -> %s\"% (self._to_einops(), s))\n",
        "        return EinTensor(tensor, ex)\n",
        "    \n",
        "    @staticmethod\n",
        "    def binop(op, a, b):\n",
        "        a1 = a._broadcast_to(b)\n",
        "        b1 = b._broadcast_to(a1)\n",
        "        EinTensor.check(a1, b1)\n",
        "        c = op(a1.tensor, b1.tensor)\n",
        "        return EinTensor(c, a1.dims)\n",
        "\n",
        "    def tensordot(self, other, keep=\"\"):\n",
        "        pass\n",
        "    \n",
        "    @staticmethod\n",
        "    def lift(fn, in_spec, out_spec):\n",
        "        in_spec = in_spec.split()\n",
        "        out_spec = out_spec.split()\n",
        "        def lifted(inp):\n",
        "            inp = inp.promote(in_spec)\n",
        "            batch_dims = [d for d in inp.dims not in in_spec]\n",
        "            out = fn(inp.tensor)\n",
        "            EinTensor(out, batch_dims + out_spec)\n",
        "        return lifted\n",
        "    \n",
        "    def __repr__(self):\n",
        "        return self.tensor\n",
        "    \n",
        "    \n",
        "def numpy_to_png(a):\n",
        "    assert 2 <= len(a.shape) <= 3, \"Can't display {}-dimensional array of shape {}\"\\\n",
        "        .format(len(a.shape), a.shape)\n",
        "    return fromarray(numpy.array(numpy.clip(a, 0, 1) * 255, dtype='uint8'))._repr_png_()\n",
        "\n",
        "get_ipython().display_formatter.formatters['image/png'].for_type(EinTensor, lambda t: numpy_to_png(t.tensor))\n",
        "get_ipython().display_formatter.formatters['text/plain'].for_type(EinTensor, lambda *x: \"\");"
      ],
      "execution_count": 0,
      "outputs": []
    },
    {
      "metadata": {
        "id": "9EJd2-0Lc0mQ",
        "colab_type": "text"
      },
      "cell_type": "markdown",
      "source": [
        "# Examples"
      ]
    },
    {
      "metadata": {
        "id": "KyBAO9_3qj41",
        "colab_type": "code",
        "outputId": "46d55184-6387-4ab2-c569-708985ae2929",
        "colab": {
          "base_uri": "https://localhost:8080/",
          "height": 113
        }
      },
      "cell_type": "code",
      "source": [
        "ims[0]\n",
        "tensor = EinTensor(ims[0], \"h w c\")\n",
        "tensor"
      ],
      "execution_count": 507,
      "outputs": [
        {
          "output_type": "execute_result",
          "data": {
            "image/png": "[encoded data removed]",
            "text/plain": [
              ""
            ]
          },
          "metadata": {
            "tags": []
          },
          "execution_count": 507
        }
      ]
    },
    {
      "metadata": {
        "id": "ES7hpNgY1JxU",
        "colab_type": "code",
        "outputId": "a454e0b7-12e1-429b-e7ca-fa75d9d9c5d4",
        "colab": {
          "base_uri": "https://localhost:8080/",
          "height": 35
        }
      },
      "cell_type": "code",
      "source": [
        "tensor.shape()"
      ],
      "execution_count": 508,
      "outputs": [
        {
          "output_type": "execute_result",
          "data": {
            "text/plain": [
              "OrderedDict([('h', 96), ('w', 96), ('c', 3)])"
            ]
          },
          "metadata": {
            "tags": []
          },
          "execution_count": 508
        }
      ]
    },
    {
      "metadata": {
        "id": "YJBHGKpLsX8a",
        "colab_type": "code",
        "outputId": "99a0d18c-2b48-4605-bc8d-dfc690a5866a",
        "colab": {
          "base_uri": "https://localhost:8080/",
          "height": 113
        }
      },
      "cell_type": "code",
      "source": [
        "tensor.shift(\"w h c\")"
      ],
      "execution_count": 509,
      "outputs": [
        {
          "output_type": "execute_result",
          "data": {
            "image/png": "[encoded data removed]",
            "text/plain": [
              ""
            ]
          },
          "metadata": {
            "tags": []
          },
          "execution_count": 509
        }
      ]
    },
    {
      "metadata": {
        "id": "p731PTUs2HXW",
        "colab_type": "code",
        "outputId": "685748ac-51a0-4b27-94cd-2b9e48a3a8ae",
        "colab": {
          "base_uri": "https://localhost:8080/",
          "height": 35
        }
      },
      "cell_type": "code",
      "source": [
        "tensor = EinTensor(ims[0], \"h w c\")\n",
        "tensor.shift('h -> (height q)', height=8).shape()"
      ],
      "execution_count": 510,
      "outputs": [
        {
          "output_type": "execute_result",
          "data": {
            "text/plain": [
              "OrderedDict([('height', 8), ('q', 12), ('w', 96), ('c', 3)])"
            ]
          },
          "metadata": {
            "tags": []
          },
          "execution_count": 510
        }
      ]
    },
    {
      "metadata": {
        "id": "iDPtBw_5njDY",
        "colab_type": "code",
        "colab": {}
      },
      "cell_type": "code",
      "source": [
        ""
      ],
      "execution_count": 0,
      "outputs": []
    },
    {
      "metadata": {
        "id": "uD1iruomtanM",
        "colab_type": "code",
        "outputId": "e25ef633-5a81-420d-cf9c-4ca870933c3f",
        "colab": {
          "base_uri": "https://localhost:8080/",
          "height": 52
        }
      },
      "cell_type": "code",
      "source": [
        "tensor = EinTensor(ims, 'b h w c')\n",
        "tensor.shift('(b h) -> bh').shape()\n"
      ],
      "execution_count": 511,
      "outputs": [
        {
          "output_type": "stream",
          "text": [
            " bh w c\n"
          ],
          "name": "stdout"
        },
        {
          "output_type": "execute_result",
          "data": {
            "text/plain": [
              "OrderedDict([('bh', 576), ('w', 96), ('c', 3)])"
            ]
          },
          "metadata": {
            "tags": []
          },
          "execution_count": 511
        }
      ]
    },
    {
      "metadata": {
        "id": "74kpc4j-t1Sb",
        "colab_type": "code",
        "outputId": "f5065ab5-d8da-484c-9502-57b4b9ca34fd",
        "colab": {
          "base_uri": "https://localhost:8080/",
          "height": 130
        }
      },
      "cell_type": "code",
      "source": [
        "tensor.shift('(b w) -> bw', 'h bw c')\n"
      ],
      "execution_count": 516,
      "outputs": [
        {
          "output_type": "stream",
          "text": [
            " bw h c\n"
          ],
          "name": "stdout"
        },
        {
          "output_type": "execute_result",
          "data": {
            "image/png": "[encoded data removed]",
            "text/plain": [
              ""
            ]
          },
          "metadata": {
            "tags": []
          },
          "execution_count": 516
        }
      ]
    },
    {
      "metadata": {
        "id": "HVSp9oBAvePg",
        "colab_type": "code",
        "outputId": "b2fbab70-2c4d-47b3-894d-ccaab3752043",
        "colab": {
          "base_uri": "https://localhost:8080/",
          "height": 52
        }
      },
      "cell_type": "code",
      "source": [
        "tensor.shift('(h b w c) -> full').shape()"
      ],
      "execution_count": 522,
      "outputs": [
        {
          "output_type": "stream",
          "text": [
            " full\n"
          ],
          "name": "stdout"
        },
        {
          "output_type": "execute_result",
          "data": {
            "text/plain": [
              "OrderedDict([('full', 165888)])"
            ]
          },
          "metadata": {
            "tags": []
          },
          "execution_count": 522
        }
      ]
    },
    {
      "metadata": {
        "id": "kLZJCBCZBchm",
        "colab_type": "code",
        "outputId": "b5f39d11-bab1-4fb5-a58c-bbc470cc2664",
        "colab": {
          "base_uri": "https://localhost:8080/",
          "height": 35
        }
      },
      "cell_type": "code",
      "source": [
        "EinTensor(ims, \"b h w c\").shift('b -> (b1 b2)', 'b1 b2 h w c', b1=2).shape()"
      ],
      "execution_count": 524,
      "outputs": [
        {
          "output_type": "execute_result",
          "data": {
            "text/plain": [
              "OrderedDict([('b1', 2), ('b2', 3), ('h', 96), ('w', 96), ('c', 3)])"
            ]
          },
          "metadata": {
            "tags": []
          },
          "execution_count": 524
        }
      ]
    },
    {
      "metadata": {
        "id": "JnsFFFGPkxBs",
        "colab_type": "code",
        "outputId": "01fa44de-b3d2-4145-deef-3d09aa82063e",
        "colab": {
          "base_uri": "https://localhost:8080/",
          "height": 340
        }
      },
      "cell_type": "code",
      "source": [
        "tensor.shift(\"b -> (b1 b2)\", '(b2 h) -> a', '(b1 w) -> d', 'a d c', b1=2)"
      ],
      "execution_count": 528,
      "outputs": [
        {
          "output_type": "stream",
          "text": [
            " b1 a w c\n",
            " d a c\n"
          ],
          "name": "stdout"
        },
        {
          "output_type": "execute_result",
          "data": {
            "image/png": "[encoded data removed]",
            "text/plain": [
              ""
            ]
          },
          "metadata": {
            "tags": []
          },
          "execution_count": 528
        }
      ]
    },
    {
      "metadata": {
        "id": "6XHpOv62kelh",
        "colab_type": "code",
        "outputId": "40317a31-3839-43f9-e961-e00bd756ec8b",
        "colab": {
          "base_uri": "https://localhost:8080/",
          "height": 244
        }
      },
      "cell_type": "code",
      "source": [
        "tensor.shift('w -> (w w2)', '(h w2) -> a', '(b w) -> d', 'a d c', w2=2)"
      ],
      "execution_count": 530,
      "outputs": [
        {
          "output_type": "stream",
          "text": [
            " b a w c\n",
            " d a c\n"
          ],
          "name": "stdout"
        },
        {
          "output_type": "execute_result",
          "data": {
            "image/png": "[encoded data removed]",
            "text/plain": [
              ""
            ]
          },
          "metadata": {
            "tags": []
          },
          "execution_count": 530
        }
      ]
    },
    {
      "metadata": {
        "id": "9xusGrzNkVKW",
        "colab_type": "code",
        "outputId": "b5d803bb-b408-4258-be93-b2b935054661",
        "colab": {
          "base_uri": "https://localhost:8080/",
          "height": 130
        }
      },
      "cell_type": "code",
      "source": [
        "tensor.shift('(b w) -> a', 'h a c')"
      ],
      "execution_count": 532,
      "outputs": [
        {
          "output_type": "stream",
          "text": [
            " a h c\n"
          ],
          "name": "stdout"
        },
        {
          "output_type": "execute_result",
          "data": {
            "image/png": "[encoded data removed]",
            "text/plain": [
              ""
            ]
          },
          "metadata": {
            "tags": []
          },
          "execution_count": 532
        }
      ]
    },
    {
      "metadata": {
        "id": "nsR9xjHMCXv2",
        "colab_type": "code",
        "outputId": "0635791a-f6dd-4f7e-c1c8-89a42516a104",
        "colab": {
          "base_uri": "https://localhost:8080/",
          "height": 130
        }
      },
      "cell_type": "code",
      "source": [
        "tensor.shift('(w b) -> a', 'h a c')"
      ],
      "execution_count": 536,
      "outputs": [
        {
          "output_type": "stream",
          "text": [
            " a h c\n"
          ],
          "name": "stdout"
        },
        {
          "output_type": "execute_result",
          "data": {
            "image/png": "[encoded data removed]",
            "text/plain": [
              ""
            ]
          },
          "metadata": {
            "tags": []
          },
          "execution_count": 536
        }
      ]
    },
    {
      "metadata": {
        "id": "OowFiE4jCkXH",
        "colab_type": "code",
        "outputId": "b8b64777-6ee2-4820-8d8c-7cc1f50df872",
        "colab": {
          "base_uri": "https://localhost:8080/",
          "height": 113
        }
      },
      "cell_type": "code",
      "source": [
        "tensor = EinTensor(ims, 'b h w c')\n",
        "tensor.reduce('b', 'mean')"
      ],
      "execution_count": 537,
      "outputs": [
        {
          "output_type": "execute_result",
          "data": {
            "image/png": "[encoded data removed]",
            "text/plain": [
              ""
            ]
          },
          "metadata": {
            "tags": []
          },
          "execution_count": 537
        }
      ]
    },
    {
      "metadata": {
        "id": "vXrSKyKbEd6b",
        "colab_type": "code",
        "colab": {
          "base_uri": "https://localhost:8080/",
          "height": 113
        },
        "outputId": "dccd1ae6-745a-4ff1-e171-cc59064e4913"
      },
      "cell_type": "code",
      "source": [
        "tensor.reduce('b c', 'min')\n"
      ],
      "execution_count": 538,
      "outputs": [
        {
          "output_type": "execute_result",
          "data": {
            "image/png": "[encoded data removed]",
            "text/plain": [
              ""
            ]
          },
          "metadata": {
            "tags": []
          },
          "execution_count": 538
        }
      ]
    },
    {
      "metadata": {
        "id": "CCgOqtNLFz43",
        "colab_type": "code",
        "colab": {
          "base_uri": "https://localhost:8080/",
          "height": 130
        },
        "outputId": "0776f317-73d7-4ff1-a7c2-810a537de20a"
      },
      "cell_type": "code",
      "source": [
        "tensor = EinTensor(ims, 'b h w c')\n",
        "mask = EinTensor(numpy.random.randint(0, 2, size=[96, 96]), 'h w')\n",
        "EinTensor.binop(numpy.multiply, tensor, mask).shift('(b w) -> a', 'h a c')"
      ],
      "execution_count": 582,
      "outputs": [
        {
          "output_type": "stream",
          "text": [
            " h a c\n"
          ],
          "name": "stdout"
        },
        {
          "output_type": "execute_result",
          "data": {
            "image/png": "[encoded data removed]",
            "text/plain": [
              ""
            ]
          },
          "metadata": {
            "tags": []
          },
          "execution_count": 582
        }
      ]
    },
    {
      "metadata": {
        "id": "A5nCXUd3tHef",
        "colab_type": "code",
        "colab": {}
      },
      "cell_type": "code",
      "source": [
        "tensor.merge(numpy.multiply, mask)"
      ],
      "execution_count": 0,
      "outputs": []
    },
    {
      "metadata": {
        "id": "dDVbAbJ2tnNj",
        "colab_type": "code",
        "colab": {}
      },
      "cell_type": "code",
      "source": [
        ""
      ],
      "execution_count": 0,
      "outputs": []
    },
    {
      "metadata": {
        "id": "Gh8EX6SJs1tP",
        "colab_type": "code",
        "colab": {}
      },
      "cell_type": "code",
      "source": [
        ""
      ],
      "execution_count": 0,
      "outputs": []
    },
    {
      "metadata": {
        "id": "FYX0z4-aEsLh",
        "colab_type": "code",
        "colab": {
          "base_uri": "https://localhost:8080/",
          "height": 323
        },
        "outputId": "12470704-a384-4245-d3f5-5e91564550d5"
      },
      "cell_type": "code",
      "source": [
        "#reduce(ims, 'b (h h2) (w w2) c -> h (b w) c', 'mean', h2=2, w2=2)\n",
        "tensor = EinTensor(ims, 'b h w c')\n",
        "tensor.shift(\"h -> (h h2)\", \"w -> (w w2)\", h2=2, w2=2).reduce(\"h2 w2\", \"mean\").shift(\"(b w) -> bw\")"
      ],
      "execution_count": 544,
      "outputs": [
        {
          "output_type": "stream",
          "text": [
            " bw h c\n"
          ],
          "name": "stdout"
        },
        {
          "output_type": "execute_result",
          "data": {
            "image/png": "[encoded data removed]",
            "text/plain": [
              ""
            ]
          },
          "metadata": {
            "tags": []
          },
          "execution_count": 544
        }
      ]
    },
    {
      "metadata": {
        "id": "BssZDH91Kjdv",
        "colab_type": "code",
        "colab": {
          "base_uri": "https://localhost:8080/",
          "height": 340
        },
        "outputId": "4eee0a04-9d4a-4b46-c3c2-44961f5b5674"
      },
      "cell_type": "code",
      "source": [
        "tensor = EinTensor(ims, 'b h w c')\n",
        "tensor.shift(\"b -> (b1 b2)\", b1 = 2).reduce('c', \"mean\").shift(\"(b1 w) -> bw\", \"(b2 h) -> bh\", 'bh bw')\n"
      ],
      "execution_count": 545,
      "outputs": [
        {
          "output_type": "stream",
          "text": [
            " bw b2 h\n",
            " bw bh\n"
          ],
          "name": "stdout"
        },
        {
          "output_type": "execute_result",
          "data": {
            "image/png": "[encoded data removed]",
            "text/plain": [
              ""
            ]
          },
          "metadata": {
            "tags": []
          },
          "execution_count": 545
        }
      ]
    },
    {
      "metadata": {
        "id": "tesLBQTbM2IO",
        "colab_type": "code",
        "colab": {
          "base_uri": "https://localhost:8080/",
          "height": 244
        },
        "outputId": "191fb2f5-741a-4e6f-b17b-d64aeb46b02e"
      },
      "cell_type": "code",
      "source": [
        "tensor.shift('b -> (b1 b2)', '(h b1) -> h', '(w b2) -> w', b1=2)"
      ],
      "execution_count": 546,
      "outputs": [
        {
          "output_type": "stream",
          "text": [
            " h b2 w c\n",
            " h w c\n"
          ],
          "name": "stdout"
        },
        {
          "output_type": "execute_result",
          "data": {
            "image/png": "[encoded data removed]",
            "text/plain": [
              ""
            ]
          },
          "metadata": {
            "tags": []
          },
          "execution_count": 546
        }
      ]
    },
    {
      "metadata": {
        "id": "8XkAxMb1NNYr",
        "colab_type": "code",
        "colab": {}
      },
      "cell_type": "code",
      "source": [
        ""
      ],
      "execution_count": 0,
      "outputs": []
    }
  ]
}