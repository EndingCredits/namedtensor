{
  "nbformat": 4,
  "nbformat_minor": 0,
  "metadata": {
    "colab": {
      "name": "NamedTensor.ipynb",
      "version": "0.3.2",
      "provenance": [],
      "collapsed_sections": [],
      "include_colab_link": true
    },
    "kernelspec": {
      "name": "python3",
      "display_name": "Python 3"
    }
  },
  "cells": [
    {
      "cell_type": "markdown",
      "metadata": {
        "id": "view-in-github",
        "colab_type": "text"
      },
      "source": [
        "<a href=\"https://colab.research.google.com/github/harvardnlp/namedtensor/blob/master/NamedTensor.ipynb\" target=\"_parent\"><img src=\"https://colab.research.google.com/assets/colab-badge.svg\" alt=\"Open In Colab\"/></a>"
      ]
    },
    {
      "metadata": {
        "id": "ZskQMOXCDP9O",
        "colab_type": "text"
      },
      "cell_type": "markdown",
      "source": [
        "# Tensor Considered Harmful\n",
        "\n",
        "*Alexander Rush* - @harvardnlp"
      ]
    },
    {
      "metadata": {
        "id": "dnuYLZwvDYVP",
        "colab_type": "text"
      },
      "cell_type": "markdown",
      "source": [
        "<i>\n",
        "TL;DR: Despite its ubiquity in deep learning, the Tensor object is broken. It forces bad programming habits such as exposing private dimensions, broadcasting based on absolute position,  and keeping type information in uncheckable documentation.  This post presents a proof-of-concept of a simple alternative approach, **named tensors**, that forces all dimensions of a tensor to have a human-readable name. This change eliminates the need for indexing, dim/axis arguments, tricks like einsum, and gives easier dynamic error checking. The prototype **PyTorch library** accompanying this blog post is available at [harvardnlp/namedtensor](https://github.com/harvardnlp/NamedTensor).\n",
        "</i>"
      ]
    },
    {
      "metadata": {
        "id": "Ae7BMj9HAUmD",
        "colab_type": "text"
      },
      "cell_type": "markdown",
      "source": [
        "* Table of Contents                                                                                                                                                                                             \n",
        "{:toc} "
      ]
    },
    {
      "metadata": {
        "id": "wd9yuKJ2Hhdj",
        "colab_type": "code",
        "colab": {}
      },
      "cell_type": "code",
      "source": [
        "# Setup\n",
        "!rm -fr NamedTensor/; git clone -q https://github.com/harvardnlp/NamedTensor.git\n",
        "!cd NamedTensor; pip install -q .  \n",
        "!pip install -q torch numpy opt_einsum\n",
        "import numpy \n",
        "import torch\n",
        "from namedtensor import NamedTensor, ntorch\n",
        "from namedtensor import _im_init\n",
        "nt._im_init()"
      ],
      "execution_count": 0,
      "outputs": []
    },
    {
      "metadata": {
        "id": "M_-gssxqZAtc",
        "colab_type": "text"
      },
      "cell_type": "markdown",
      "source": [
        "> Notes: \n",
        "> * Jon Malmaud points out that the [xarray](http://xarray.pydata.org/en/stable/) project has very similar goals as this note with the addition of extensive Pandas and scientific computing support. "
      ]
    },
    {
      "metadata": {
        "id": "X1XnmQLgDeHy",
        "colab_type": "text"
      },
      "cell_type": "markdown",
      "source": [
        "#  Tensor Traps\n",
        "\n",
        "The Tensor, a multi-dimensional array, is the central object of deep learning frameworks such as Torch, TensorFlow and Chainer. "
      ]
    },
    {
      "metadata": {
        "id": "9LZarsn5HgUa",
        "colab_type": "code",
        "colab": {
          "base_uri": "https://localhost:8080/",
          "height": 35
        },
        "outputId": "76cc96d7-b672-4c08-ed4c-1ed72f3130d2"
      },
      "cell_type": "code",
      "source": [
        "ims = torch.tensor(numpy.load('NamedTensor/examples/test_images.npy'))\n",
        "ims.shape"
      ],
      "execution_count": 73,
      "outputs": [
        {
          "output_type": "execute_result",
          "data": {
            "text/plain": [
              "torch.Size([6, 96, 96, 3])"
            ]
          },
          "metadata": {
            "tags": []
          },
          "execution_count": 73
        }
      ]
    },
    {
      "metadata": {
        "id": "_A4CksffJ5sT",
        "colab_type": "text"
      },
      "cell_type": "markdown",
      "source": [
        "Tensors carry around an implied tuple of their dimension. Here there are 4, corresponding to *batch_size*, *height*, *width*, and *channels*. Most of the time you can figure this out by some comment in the code that looks like this:  "
      ]
    },
    {
      "metadata": {
        "id": "euWWfx_yKh85",
        "colab_type": "code",
        "outputId": "f281012a-0576-48c0-e37b-94051361b134",
        "colab": {
          "base_uri": "https://localhost:8080/",
          "height": 113
        }
      },
      "cell_type": "code",
      "source": [
        "# batch_size x height x width x channels\n",
        "ims[0]"
      ],
      "execution_count": 74,
      "outputs": [
        {
          "output_type": "execute_result",
          "data": {
            "image/png": "[encoded data removed]",
            "text/plain": [
              ""
            ]
          },
          "metadata": {
            "tags": []
          },
          "execution_count": 74
        }
      ]
    },
    {
      "metadata": {
        "id": "oec2Ah5eRgEp",
        "colab_type": "text"
      },
      "cell_type": "markdown",
      "source": [
        "These objects are concise, mathy, and facilitate efficient code, particularly on the GPU. However from a programming point of view they are inherently broken. The following are three traps that often come up."
      ]
    },
    {
      "metadata": {
        "id": "ampMvKRpHYvv",
        "colab_type": "text"
      },
      "cell_type": "markdown",
      "source": [
        "\n",
        "## Trap 1: Private by Convention instead of Encapsulation\n",
        "\n",
        "Code that manipulates tensors does so by indexing. If you want to rotate the image you read the comment, decide what needs to get changed and alter it. "
      ]
    },
    {
      "metadata": {
        "id": "JuYMwAFtLBcl",
        "colab_type": "code",
        "outputId": "e7b921bc-650f-451d-c454-58644c02f42c",
        "colab": {
          "base_uri": "https://localhost:8080/",
          "height": 113
        }
      },
      "cell_type": "code",
      "source": [
        "def rotate(ims):\n",
        "    # batch_size x height x width x channels\n",
        "    rotated = ims.transpose(1, 2)\n",
        "    \n",
        "    # batch_size x width x height x channels\n",
        "    return rotated\n",
        "rotate(ims)[0]"
      ],
      "execution_count": 75,
      "outputs": [
        {
          "output_type": "execute_result",
          "data": {
            "image/png": "[encoded data removed]",
            "text/plain": [
              ""
            ]
          },
          "metadata": {
            "tags": []
          },
          "execution_count": 75
        }
      ]
    },
    {
      "metadata": {
        "id": "gjjCOsyBLvtV",
        "colab_type": "text"
      },
      "cell_type": "markdown",
      "source": [
        "This code is simple and in theory well documented. However, it does not reflect the semantics of the underlying function. The property of rotation is independent of the batch, or for that matter, the channels. The function should not have to account for these dimensions in determining the dimensions to alter. \n",
        "\n",
        "This leads to two problems. FIrst, it's quite worrisome that if we pass in a singleton image this function runs fine but fails to work. "
      ]
    },
    {
      "metadata": {
        "id": "bnh57z49L9Lu",
        "colab_type": "code",
        "outputId": "8461235e-32e0-42ea-a098-08555f343c09",
        "colab": {
          "base_uri": "https://localhost:8080/",
          "height": 35
        }
      },
      "cell_type": "code",
      "source": [
        "rotate(ims[0]).shape"
      ],
      "execution_count": 76,
      "outputs": [
        {
          "output_type": "execute_result",
          "data": {
            "text/plain": [
              "torch.Size([96, 3, 96])"
            ]
          },
          "metadata": {
            "tags": []
          },
          "execution_count": 76
        }
      ]
    },
    {
      "metadata": {
        "id": "tqw1mFdDk2Fi",
        "colab_type": "text"
      },
      "cell_type": "markdown",
      "source": [
        "However, even more worrisome is that the function may actually use the batch dimensions by mistake and mix together properties of different images. This can lead to nasty bugs that would be easy to avoid if this dimension was hidden from the code. "
      ]
    },
    {
      "metadata": {
        "id": "1DV0yQ09L7AR",
        "colab_type": "text"
      },
      "cell_type": "markdown",
      "source": [
        "## Trap 2: Broadcasting by Alignment instead of Semantics\n",
        "\n",
        "The most useful aspect of Tensors is that they can quickly do array operations without directly requiring for loops. For this to work dimensions need to be directly aligned so that they can be broadcasts. Again this is done by convention and code documentation that makes it \"easy\" to line up dimensions. For instance, let's assume we want to apply a mask to the above image. \n"
      ]
    },
    {
      "metadata": {
        "id": "Sp0TsC0yOBxr",
        "colab_type": "code",
        "outputId": "25243eb3-2736-4265-f47c-dd0e5db4447c",
        "colab": {
          "base_uri": "https://localhost:8080/",
          "height": 113
        }
      },
      "cell_type": "code",
      "source": [
        "# height x width\n",
        "mask = torch.randint(0, 2, [96, 96]).byte()\n",
        "mask"
      ],
      "execution_count": 77,
      "outputs": [
        {
          "output_type": "execute_result",
          "data": {
            "image/png": "[encoded data removed]",
            "text/plain": [
              ""
            ]
          },
          "metadata": {
            "tags": []
          },
          "execution_count": 77
        }
      ]
    },
    {
      "metadata": {
        "id": "cO9IWw46O33Z",
        "colab_type": "code",
        "outputId": "3512aca1-3d38-47ab-a21f-edf5aa7a330d",
        "colab": {
          "base_uri": "https://localhost:8080/",
          "height": 35
        }
      },
      "cell_type": "code",
      "source": [
        "try:\n",
        "    ims.masked_fill(mask, 0)\n",
        "except RuntimeError:\n",
        "    print(\"Broadcasing fail\", mask.shape, ims.shape)"
      ],
      "execution_count": 78,
      "outputs": [
        {
          "output_type": "stream",
          "text": [
            "Broadcasing fail torch.Size([96, 96]) torch.Size([6, 96, 96, 3])\n"
          ],
          "name": "stdout"
        }
      ]
    },
    {
      "metadata": {
        "id": "9BsD5FpGQMqv",
        "colab_type": "text"
      },
      "cell_type": "markdown",
      "source": [
        "This fails because even though we knew that we were building a *height* and *width* shaped mask, the rules of broadcasting do not have the correct semantics. To make this work, you are encouraged to use either `view` or `squeeze` my least favorite functions.  "
      ]
    },
    {
      "metadata": {
        "id": "AYso46ojPfuQ",
        "colab_type": "code",
        "outputId": "b9263f5f-bbee-4f92-de25-938b010824dc",
        "colab": {
          "base_uri": "https://localhost:8080/",
          "height": 113
        }
      },
      "cell_type": "code",
      "source": [
        "# either \n",
        "mask = mask.unsqueeze(-1)\n",
        "# or \n",
        "mask = mask.view(96, 96, 1)\n",
        "\n",
        "# height x width x channels\n",
        "ims.masked_fill(mask, 1)[0]"
      ],
      "execution_count": 79,
      "outputs": [
        {
          "output_type": "execute_result",
          "data": {
            "image/png": "[encoded data removed]",
            "text/plain": [
              ""
            ]
          },
          "metadata": {
            "tags": []
          },
          "execution_count": 79
        }
      ]
    },
    {
      "metadata": {
        "id": "Whz5pqd_SRXH",
        "colab_type": "text"
      },
      "cell_type": "markdown",
      "source": [
        "Note we do not need to do this for the left-most dimensions so there is a bit of abstraction here.  However reading through real code, dozens of right side `view`s and `squeeze`s become completely unreadable."
      ]
    },
    {
      "metadata": {
        "id": "5UyG7El7Snbi",
        "colab_type": "text"
      },
      "cell_type": "markdown",
      "source": [
        "## Trap 3: Accessors in Comments instead of Code\n",
        "\n"
      ]
    },
    {
      "metadata": {
        "id": "9LWcPiviTwWc",
        "colab_type": "text"
      },
      "cell_type": "markdown",
      "source": [
        "It is possible that you look at the top two issues and think that as long as you are careful, these issues will be caught by run time errors. \n",
        "However, even well used the combination of broadcasting and indexing can lead to problems that are very tough to catch.  "
      ]
    },
    {
      "metadata": {
        "id": "HfkPrgC1TPWh",
        "colab_type": "code",
        "outputId": "f47c2ad7-4713-4d9b-ba11-064c6a4ca753",
        "colab": {
          "base_uri": "https://localhost:8080/",
          "height": 113
        }
      },
      "cell_type": "code",
      "source": [
        "\n",
        "a = ims[1].mean(2, keepdim=True)\n",
        "# height x width x 1\n",
        "\n",
        "# (Lots of code in between)\n",
        "#  .......................\n",
        "\n",
        "# Code comment explaining what should be happening.\n",
        "dim = 1\n",
        "b = a + ims.mean(dim, keepdim=True)[0]\n",
        "\n",
        "\n",
        "# (Or maybe should be a 2? or a 0?)\n",
        "index = 2\n",
        "b = a + ims.mean(dim, keepdim=True)[0]\n",
        "b"
      ],
      "execution_count": 80,
      "outputs": [
        {
          "output_type": "execute_result",
          "data": {
            "image/png": "[encoded data removed]",
            "text/plain": [
              ""
            ]
          },
          "metadata": {
            "tags": []
          },
          "execution_count": 80
        }
      ]
    },
    {
      "metadata": {
        "id": "P4WyEXyYVFGp",
        "colab_type": "text"
      },
      "cell_type": "markdown",
      "source": [
        "Here we assume that the coder is trying to combine two tensor using both reduction operations and dimension indexing. (Honestly at this point I have forgetten the dimensions stand for). \n",
        "\n",
        "The main point though is that this code will run fine for whatever value `dim` is given. The comment here might descibe what is happening but the code itself doesn't throw a run time error. "
      ]
    },
    {
      "metadata": {
        "id": "b9gDFB-WV9_h",
        "colab_type": "text"
      },
      "cell_type": "markdown",
      "source": [
        "# Named Tensor: A Prototype"
      ]
    },
    {
      "metadata": {
        "id": "khfYKuBcWPMz",
        "colab_type": "text"
      },
      "cell_type": "markdown",
      "source": [
        "Based on these issues, I think deep learning code should move to a better central object. There are several of these proposed. Here for fun, I will develop a new prototype. I have the following goals. \n",
        "\n",
        "*1) Dimensions with have human-readable names.*\n",
        "\n",
        "*2) No function should have `dim` argument.*\n",
        "\n",
        "*3) Broadcast by dimension names.*\n",
        "\n",
        "*4) Transposition should be explicit.*\n",
        "\n",
        "*5) Avoid dimension indexing. *\n",
        "\n",
        "*6) Private dimensions should be protected.*\n",
        "\n"
      ]
    },
    {
      "metadata": {
        "id": "cmFZCfgZYm3i",
        "colab_type": "text"
      },
      "cell_type": "markdown",
      "source": [
        "\n",
        "\n",
        "To experiment with these ideas I have built a library known as `NamedTensor`. Currently it is PyTorch specific, but in theory a similar idea could be used in other frameworks. The code is available at [github.com/harvardnlp/namedtensor](https://github.com/harvardnlp/namedtensor). "
      ]
    },
    {
      "metadata": {
        "id": "SYth2yPxZobO",
        "colab_type": "text"
      },
      "cell_type": "markdown",
      "source": [
        "## Proposal 1: Assigning Names"
      ]
    },
    {
      "metadata": {
        "id": "0177b_0vZ303",
        "colab_type": "text"
      },
      "cell_type": "markdown",
      "source": [
        "The core of the library is an object that wraps a tensor and provides names for each dimension. Here we simply wrap a given torch tensor with dimension names."
      ]
    },
    {
      "metadata": {
        "id": "sLnQA8VOZsEx",
        "colab_type": "code",
        "outputId": "15ff2303-b8cf-4813-bbb6-c764103fe7cf",
        "colab": {
          "base_uri": "https://localhost:8080/",
          "height": 35
        }
      },
      "cell_type": "code",
      "source": [
        "named_ims = NamedTensor(ims, \"batch height width channels\")\n",
        "named_ims.named_shape"
      ],
      "execution_count": 81,
      "outputs": [
        {
          "output_type": "execute_result",
          "data": {
            "text/plain": [
              "OrderedDict([('batch', 6), ('height', 96), ('width', 96), ('channels', 3)])"
            ]
          },
          "metadata": {
            "tags": []
          },
          "execution_count": 81
        }
      ]
    },
    {
      "metadata": {
        "id": "eLjL4O7_ZiyW",
        "colab_type": "text"
      },
      "cell_type": "markdown",
      "source": [
        "Alternatively the library has wrappers for the pytorch constructors to turn them into named tensors. "
      ]
    },
    {
      "metadata": {
        "id": "eiYe47t6aRnd",
        "colab_type": "code",
        "outputId": "8e04d809-7427-4078-81fa-ceb8fb321256",
        "colab": {
          "base_uri": "https://localhost:8080/",
          "height": 113
        }
      },
      "cell_type": "code",
      "source": [
        "ex = ntorch.randn(dict(height=96, width=96, channels=3))\n",
        "ex"
      ],
      "execution_count": 113,
      "outputs": [
        {
          "output_type": "execute_result",
          "data": {
            "image/png": "[encoded data removed]",
            "text/plain": [
              ""
            ]
          },
          "metadata": {
            "tags": []
          },
          "execution_count": 113
        }
      ]
    },
    {
      "metadata": {
        "id": "lNgHsAmDbxMc",
        "colab_type": "text"
      },
      "cell_type": "markdown",
      "source": [
        "Most simple operations simply keep around the named tensor properties. "
      ]
    },
    {
      "metadata": {
        "id": "T-wGpWZAb4AL",
        "colab_type": "code",
        "colab": {}
      },
      "cell_type": "code",
      "source": [
        "ex.log()\n",
        "\n",
        "# or \n",
        "\n",
        "ntorch.log(ex)\n",
        "\n",
        "None"
      ],
      "execution_count": 0,
      "outputs": []
    },
    {
      "metadata": {
        "id": "GfVktrThcIF2",
        "colab_type": "text"
      },
      "cell_type": "markdown",
      "source": [
        "## Proposal 2: Accessors and Reduction"
      ]
    },
    {
      "metadata": {
        "id": "iNCJcWeccTZW",
        "colab_type": "text"
      },
      "cell_type": "markdown",
      "source": [
        "The first benefit of names comes from the ability to replace the need for `dim` and `axis` style arguments entirely. For example, lets say we wanted to sort each column. "
      ]
    },
    {
      "metadata": {
        "id": "-HdhRVfqcyd2",
        "colab_type": "code",
        "outputId": "16e1aa02-863c-4aa6-db65-bdbe532f2647",
        "colab": {
          "base_uri": "https://localhost:8080/",
          "height": 113
        }
      },
      "cell_type": "code",
      "source": [
        "sortex, _ = ex.sort(\"width\")\n",
        "sortex"
      ],
      "execution_count": 122,
      "outputs": [
        {
          "output_type": "execute_result",
          "data": {
            "image/png": "[encoded data removed]",
            "text/plain": [
              ""
            ]
          },
          "metadata": {
            "tags": []
          },
          "execution_count": 122
        }
      ]
    },
    {
      "metadata": {
        "id": "JRljeAlweL7X",
        "colab_type": "text"
      },
      "cell_type": "markdown",
      "source": [
        "Another common operation is a *reduction*  where one or more dimensions is pooled out.   "
      ]
    },
    {
      "metadata": {
        "id": "6Rji52BmemX9",
        "colab_type": "code",
        "outputId": "649a55b5-0695-41b6-f406-0ec6d976d327",
        "colab": {
          "base_uri": "https://localhost:8080/",
          "height": 113
        }
      },
      "cell_type": "code",
      "source": [
        "named_ims.mean(\"batch\")"
      ],
      "execution_count": 125,
      "outputs": [
        {
          "output_type": "execute_result",
          "data": {
            "image/png": "[encoded data removed]",
            "text/plain": [
              ""
            ]
          },
          "metadata": {
            "tags": []
          },
          "execution_count": 125
        }
      ]
    },
    {
      "metadata": {
        "id": "5Ky7Q3Kge8Mh",
        "colab_type": "code",
        "outputId": "47a757ce-0139-4337-92dc-25f99ef890ea",
        "colab": {
          "base_uri": "https://localhost:8080/",
          "height": 113
        }
      },
      "cell_type": "code",
      "source": [
        "named_ims.mean(\"batch channels\")"
      ],
      "execution_count": 126,
      "outputs": [
        {
          "output_type": "execute_result",
          "data": {
            "image/png": "[encoded data removed]",
            "text/plain": [
              ""
            ]
          },
          "metadata": {
            "tags": []
          },
          "execution_count": 126
        }
      ]
    },
    {
      "metadata": {
        "id": "m88W0sfufEq1",
        "colab_type": "text"
      },
      "cell_type": "markdown",
      "source": [
        "## Proposal 3: Broadcasting and Contraction\n",
        "\n",
        "The names that are provided also provide the basis for broadcasting operations. When there is a binary operations between two named tensors they first ensure that all dimension are matched in name and then apply standard broadcasting. To demonstrate let's return to the masking example above. Here we simply declare the names of the dimensions of our mask, and ask the library to figure out the broadcasting. "
      ]
    },
    {
      "metadata": {
        "id": "ffjF33e4fhLs",
        "colab_type": "code",
        "outputId": "757b4d8d-6788-4749-b45c-87d716898ca1",
        "colab": {
          "base_uri": "https://localhost:8080/",
          "height": 113
        }
      },
      "cell_type": "code",
      "source": [
        "im = NamedTensor(ims[0], \"height width channels\")\n",
        "im2 = NamedTensor(ims[1], \"height width channels\")\n",
        "\n",
        "mask = NamedTensor(torch.randint(0, 2, [96, 96]).byte(), \"height width\")\n",
        "im.masked_fill(mask, 1)"
      ],
      "execution_count": 133,
      "outputs": [
        {
          "output_type": "execute_result",
          "data": {
            "image/png": "[encoded data removed]",
            "text/plain": [
              ""
            ]
          },
          "metadata": {
            "tags": []
          },
          "execution_count": 133
        }
      ]
    },
    {
      "metadata": {
        "id": "SB93TbaxhBpS",
        "colab_type": "text"
      },
      "cell_type": "markdown",
      "source": [
        "Similar operations can be used for standard matrix operations such as addition and multiplication."
      ]
    },
    {
      "metadata": {
        "id": "tnnPgP5xjlwa",
        "colab_type": "code",
        "outputId": "bbeef2e9-380d-45ea-bcca-b0246cc718ea",
        "colab": {
          "base_uri": "https://localhost:8080/",
          "height": 113
        }
      },
      "cell_type": "code",
      "source": [
        "im * mask.double()"
      ],
      "execution_count": 132,
      "outputs": [
        {
          "output_type": "execute_result",
          "data": {
            "image/png": "[encoded data removed]",
            "text/plain": [
              ""
            ]
          },
          "metadata": {
            "tags": []
          },
          "execution_count": 132
        }
      ]
    },
    {
      "metadata": {
        "id": "Woje-ckrj4Bm",
        "colab_type": "text"
      },
      "cell_type": "markdown",
      "source": [
        "A more general feature is the `contract` method for tensor contraction between name tensors. Tensor contraction, the machinery behind `einsum`, is an elegant way of thinking about generalizations of dot-products, matrix-vector products, matrix-matrix products, etc."
      ]
    },
    {
      "metadata": {
        "id": "t0H4P6NnkK4t",
        "colab_type": "code",
        "colab": {
          "base_uri": "https://localhost:8080/",
          "height": 70
        },
        "outputId": "faa68847-f5bc-4806-873a-f0098a0b5c70"
      },
      "cell_type": "code",
      "source": [
        "\n",
        "# Runs torch.einsum(ijk,ijk->jk, tensor1, tensor2)\n",
        "print(im.contract(\"height\", im2).named_shape)\n",
        "\n",
        "# Runs torch.einsum(ijk,ijk->il, tensor1, tensor2)\n",
        "print(im.contract(\"width\", im2).named_shape)\n",
        "\n",
        "# Runs torch.einsum(ijk,ijk->l, tensor1, tensor2)\n",
        "print(im.contract(\"height width\", im2).named_shape)\n"
      ],
      "execution_count": 134,
      "outputs": [
        {
          "output_type": "stream",
          "text": [
            "OrderedDict([('width', 96), ('channels', 3)])\n",
            "OrderedDict([('height', 96), ('channels', 3)])\n",
            "OrderedDict([('channels', 3)])\n"
          ],
          "name": "stdout"
        }
      ]
    },
    {
      "metadata": {
        "id": "2T3wTh88lb7h",
        "colab_type": "text"
      },
      "cell_type": "markdown",
      "source": [
        "Similar notation can be used for sparse indexing (inspired by the [einindex](https://pypi.org/project/einindex/) library). This is useful for embedding lookups and other sparse operations. "
      ]
    },
    {
      "metadata": {
        "id": "iKWmZyHYlsQV",
        "colab_type": "code",
        "outputId": "58264e87-d468-44e3-e8cd-8917c673cc25",
        "colab": {
          "base_uri": "https://localhost:8080/",
          "height": 67
        }
      },
      "cell_type": "code",
      "source": [
        "pick, _ = NamedTensor(torch.randint(0, 96, [50]).long(), \"lookups\") \\\n",
        "             .sort(\"lookups\")\n",
        "\n",
        "# Select 50 random rows.\n",
        "im.index_select(\"height\", pick)"
      ],
      "execution_count": 136,
      "outputs": [
        {
          "output_type": "execute_result",
          "data": {
            "image/png": "[encoded data removed]",
            "text/plain": [
              ""
            ]
          },
          "metadata": {
            "tags": []
          },
          "execution_count": 136
        }
      ]
    },
    {
      "metadata": {
        "id": "AKTInxARmYgY",
        "colab_type": "text"
      },
      "cell_type": "markdown",
      "source": [
        "## Proposal 4: Shifting Dimensions "
      ]
    },
    {
      "metadata": {
        "id": "S5GfSRZQnDq4",
        "colab_type": "text"
      },
      "cell_type": "markdown",
      "source": [
        "Behind the scenes all of the named tensors are acting as tensor objects. As such thing like order and stride of dimensions does matter. Operations like `transpose` and `view` are crucial for maintaining this, but are unfortunately quite error-prone. \n",
        "\n",
        "Instead consider a domain specific langauge `shift` that borrows heavily from the Alex Rogozhnikov's excellent [einops](https://github.com/arogozhnikov/einops) package.\n",
        " "
      ]
    },
    {
      "metadata": {
        "id": "KyBAO9_3qj41",
        "colab_type": "code",
        "outputId": "70bbec90-e9cb-4068-d836-da99174d0b95",
        "colab": {
          "base_uri": "https://localhost:8080/",
          "height": 113
        }
      },
      "cell_type": "code",
      "source": [
        "tensor = NamedTensor(ims[0], \"h w c\")\n",
        "tensor"
      ],
      "execution_count": 137,
      "outputs": [
        {
          "output_type": "execute_result",
          "data": {
            "image/png": "[encoded data removed]",
            "text/plain": [
              ""
            ]
          },
          "metadata": {
            "tags": []
          },
          "execution_count": 137
        }
      ]
    },
    {
      "metadata": {
        "id": "w2hdSaRKoHky",
        "colab_type": "text"
      },
      "cell_type": "markdown",
      "source": [
        "Standard calls to shift transpose dimensions."
      ]
    },
    {
      "metadata": {
        "id": "YJBHGKpLsX8a",
        "colab_type": "code",
        "outputId": "6ebb0b7f-8d94-48e8-9968-b308651650ac",
        "colab": {
          "base_uri": "https://localhost:8080/",
          "height": 113
        }
      },
      "cell_type": "code",
      "source": [
        "tensor.shift(\"w h c\")"
      ],
      "execution_count": 138,
      "outputs": [
        {
          "output_type": "execute_result",
          "data": {
            "image/png": "[encoded data removed]",
            "text/plain": [
              ""
            ]
          },
          "metadata": {
            "tags": []
          },
          "execution_count": 138
        }
      ]
    },
    {
      "metadata": {
        "id": "4C7y6HsOoGvz",
        "colab_type": "text"
      },
      "cell_type": "markdown",
      "source": [
        "Calls with of the form \"a -> (b c)\" split dimensions, whereas \"(a b) -> c\" merge them. "
      ]
    },
    {
      "metadata": {
        "id": "p731PTUs2HXW",
        "colab_type": "code",
        "outputId": "9152d022-bdbf-41db-ae9f-4560ed5a74e7",
        "colab": {
          "base_uri": "https://localhost:8080/",
          "height": 35
        }
      },
      "cell_type": "code",
      "source": [
        "tensor = NamedTensor(ims[0], \"h w c\")\n",
        "tensor.shift('h -> (height q)', height=8).named_shape"
      ],
      "execution_count": 139,
      "outputs": [
        {
          "output_type": "execute_result",
          "data": {
            "text/plain": [
              "OrderedDict([('height', 8), ('q', 12), ('w', 96), ('c', 3)])"
            ]
          },
          "metadata": {
            "tags": []
          },
          "execution_count": 139
        }
      ]
    },
    {
      "metadata": {
        "id": "uD1iruomtanM",
        "colab_type": "code",
        "outputId": "7c5a6aea-56a3-4e32-b222-8fd546c9088b",
        "colab": {
          "base_uri": "https://localhost:8080/",
          "height": 35
        }
      },
      "cell_type": "code",
      "source": [
        "tensor = NamedTensor(ims, 'b h w c')\n",
        "tensor.shift('(b h) -> bh').named_shape\n"
      ],
      "execution_count": 140,
      "outputs": [
        {
          "output_type": "execute_result",
          "data": {
            "text/plain": [
              "OrderedDict([('bh', 576), ('w', 96), ('c', 3)])"
            ]
          },
          "metadata": {
            "tags": []
          },
          "execution_count": 140
        }
      ]
    },
    {
      "metadata": {
        "id": "8h6ZCcrgoeEg",
        "colab_type": "text"
      },
      "cell_type": "markdown",
      "source": [
        "Shifts can be chained in the same function."
      ]
    },
    {
      "metadata": {
        "id": "74kpc4j-t1Sb",
        "colab_type": "code",
        "outputId": "cf9c9813-bba0-4bb3-c717-4d2bc822f804",
        "colab": {
          "base_uri": "https://localhost:8080/",
          "height": 113
        }
      },
      "cell_type": "code",
      "source": [
        "tensor.shift('(b w) -> bw', 'h bw c')\n"
      ],
      "execution_count": 95,
      "outputs": [
        {
          "output_type": "execute_result",
          "data": {
            "image/png": "[encoded data removed]",
            "text/plain": [
              ""
            ]
          },
          "metadata": {
            "tags": []
          },
          "execution_count": 95
        }
      ]
    },
    {
      "metadata": {
        "id": "ZKXtJ4gSonIZ",
        "colab_type": "text"
      },
      "cell_type": "markdown",
      "source": [
        "Just for fun, here are some of the crazier examples from *einops* in this notation."
      ]
    },
    {
      "metadata": {
        "id": "JnsFFFGPkxBs",
        "colab_type": "code",
        "outputId": "03961684-3ac8-4e23-ad24-4a665d1b47a7",
        "colab": {
          "base_uri": "https://localhost:8080/",
          "height": 305
        }
      },
      "cell_type": "code",
      "source": [
        "tensor.shift(\"b -> (b1 b2)\", '(b2 h) -> a', '(b1 w) -> d', 'a d c', b1=2)"
      ],
      "execution_count": 96,
      "outputs": [
        {
          "output_type": "execute_result",
          "data": {
            "image/png": "[encoded data removed]",
            "text/plain": [
              ""
            ]
          },
          "metadata": {
            "tags": []
          },
          "execution_count": 96
        }
      ]
    },
    {
      "metadata": {
        "id": "6XHpOv62kelh",
        "colab_type": "code",
        "outputId": "7a81e017-45df-47d1-8b5b-a38abd07fe19",
        "colab": {
          "base_uri": "https://localhost:8080/",
          "height": 209
        }
      },
      "cell_type": "code",
      "source": [
        "tensor.shift('w -> (w w2)', '(h w2) -> a', '(b w) -> d', 'a d c', w2=2)"
      ],
      "execution_count": 97,
      "outputs": [
        {
          "output_type": "execute_result",
          "data": {
            "image/png": "[encoded data removed]",
            "text/plain": [
              ""
            ]
          },
          "metadata": {
            "tags": []
          },
          "execution_count": 97
        }
      ]
    },
    {
      "metadata": {
        "id": "9xusGrzNkVKW",
        "colab_type": "code",
        "outputId": "d1e1f1ea-fb93-489b-da8a-86a243de72fa",
        "colab": {
          "base_uri": "https://localhost:8080/",
          "height": 113
        }
      },
      "cell_type": "code",
      "source": [
        "tensor.shift('(b w) -> a', 'h a c')"
      ],
      "execution_count": 98,
      "outputs": [
        {
          "output_type": "execute_result",
          "data": {
            "image/png": "[encoded data removed]",
            "text/plain": [
              ""
            ]
          },
          "metadata": {
            "tags": []
          },
          "execution_count": 98
        }
      ]
    },
    {
      "metadata": {
        "id": "nsR9xjHMCXv2",
        "colab_type": "code",
        "outputId": "bd72da37-0d94-470b-9385-64b44ef668d6",
        "colab": {
          "base_uri": "https://localhost:8080/",
          "height": 113
        }
      },
      "cell_type": "code",
      "source": [
        "tensor.shift('(w b) -> a', 'h a c')"
      ],
      "execution_count": 99,
      "outputs": [
        {
          "output_type": "execute_result",
          "data": {
            "image/png": "[encoded data removed]",
            "text/plain": [
              ""
            ]
          },
          "metadata": {
            "tags": []
          },
          "execution_count": 99
        }
      ]
    },
    {
      "metadata": {
        "id": "OowFiE4jCkXH",
        "colab_type": "code",
        "outputId": "cc312a12-cb8d-44c5-f47a-85d51a13ad59",
        "colab": {
          "base_uri": "https://localhost:8080/",
          "height": 113
        }
      },
      "cell_type": "code",
      "source": [
        "tensor = NamedTensor(ims, 'b h w c')\n",
        "tensor.mean('b')"
      ],
      "execution_count": 100,
      "outputs": [
        {
          "output_type": "execute_result",
          "data": {
            "image/png": "[encoded data removed]",
            "text/plain": [
              ""
            ]
          },
          "metadata": {
            "tags": []
          },
          "execution_count": 100
        }
      ]
    },
    {
      "metadata": {
        "id": "FYX0z4-aEsLh",
        "colab_type": "code",
        "outputId": "712ff26b-18b0-4b2e-8feb-8b5855d97907",
        "colab": {
          "base_uri": "https://localhost:8080/",
          "height": 305
        }
      },
      "cell_type": "code",
      "source": [
        "tensor = NamedTensor(ims, 'b h w c')\n",
        "tensor.shift(\"h -> (h h2)\", \"w -> (w w2)\", h2=2, w2=2).mean(\"h2 w2\").shift(\"(b w) -> bw\")"
      ],
      "execution_count": 101,
      "outputs": [
        {
          "output_type": "execute_result",
          "data": {
            "image/png": "[encoded data removed]",
            "text/plain": [
              ""
            ]
          },
          "metadata": {
            "tags": []
          },
          "execution_count": 101
        }
      ]
    },
    {
      "metadata": {
        "id": "BssZDH91Kjdv",
        "colab_type": "code",
        "colab": {
          "base_uri": "https://localhost:8080/",
          "height": 305
        },
        "outputId": "0751a1a4-235d-4a88-ddaa-7bfcb0ae1770"
      },
      "cell_type": "code",
      "source": [
        "tensor = NamedTensor(ims, 'b h w c')\n",
        "tensor.shift(\"b -> (b1 b2)\", b1 = 2).mean('c').shift(\"(b1 w) -> bw\", \"(b2 h) -> bh\", 'bh bw')\n"
      ],
      "execution_count": 141,
      "outputs": [
        {
          "output_type": "execute_result",
          "data": {
            "image/png": "[encoded data removed]",
            "text/plain": [
              ""
            ]
          },
          "metadata": {
            "tags": []
          },
          "execution_count": 141
        }
      ]
    },
    {
      "metadata": {
        "id": "tesLBQTbM2IO",
        "colab_type": "code",
        "outputId": "ed1711d5-1c36-4a03-d356-70dffa2e571d",
        "colab": {
          "base_uri": "https://localhost:8080/",
          "height": 209
        }
      },
      "cell_type": "code",
      "source": [
        "tensor.shift('b -> (b1 b2)', '(h b1) -> h', '(w b2) -> w', b1=2)"
      ],
      "execution_count": 103,
      "outputs": [
        {
          "output_type": "execute_result",
          "data": {
            "image/png": "[encoded data removed]",
            "text/plain": [
              ""
            ]
          },
          "metadata": {
            "tags": []
          },
          "execution_count": 103
        }
      ]
    },
    {
      "metadata": {
        "id": "RONa1_CvpIJl",
        "colab_type": "text"
      },
      "cell_type": "markdown",
      "source": [
        "## Proposal 5: Ban Indexing"
      ]
    },
    {
      "metadata": {
        "id": "95TGZJB5pXbW",
        "colab_type": "text"
      },
      "cell_type": "markdown",
      "source": [
        "\n",
        "Generally indexing is discouraged in this named tensor paradigm. Instead use functions like `index_select` above.\n",
        "\n",
        "There are some useful named alternative functions pulled over from torch. For example `unbind` pulls apart a dimension to a tuple.\n"
      ]
    },
    {
      "metadata": {
        "id": "3jMIuUxIpn74",
        "colab_type": "code",
        "outputId": "66e62ba3-5034-4ab9-91ba-176d7a43ed1e",
        "colab": {
          "base_uri": "https://localhost:8080/",
          "height": 113
        }
      },
      "cell_type": "code",
      "source": [
        "tensor = NamedTensor(ims, 'b h w c')\n",
        "\n",
        "# Returns a tuple\n",
        "images = tensor.unbind(\"b\")\n",
        "images[3]"
      ],
      "execution_count": 104,
      "outputs": [
        {
          "output_type": "execute_result",
          "data": {
            "image/png": "[encoded data removed]",
            "text/plain": [
              ""
            ]
          },
          "metadata": {
            "tags": []
          },
          "execution_count": 104
        }
      ]
    },
    {
      "metadata": {
        "id": "FZcHQ_BvqJ6X",
        "colab_type": "text"
      },
      "cell_type": "markdown",
      "source": [
        "The function `get` directly selects a slice of from a named dimension."
      ]
    },
    {
      "metadata": {
        "id": "qQCELxUgqB_v",
        "colab_type": "code",
        "outputId": "595ca66c-1233-45bd-bdc8-62506254e293",
        "colab": {
          "base_uri": "https://localhost:8080/",
          "height": 113
        }
      },
      "cell_type": "code",
      "source": [
        "# Returns a tuple\n",
        "images = tensor.get(\"b\", 0).unbind(\"c\")\n",
        "images[1]"
      ],
      "execution_count": 105,
      "outputs": [
        {
          "output_type": "execute_result",
          "data": {
            "image/png": "[encoded data removed]",
            "text/plain": [
              ""
            ]
          },
          "metadata": {
            "tags": []
          },
          "execution_count": 105
        }
      ]
    },
    {
      "metadata": {
        "id": "kx75vFJdp0Rm",
        "colab_type": "text"
      },
      "cell_type": "markdown",
      "source": [
        "Finally `narrow` can be used to replace fancy indexing. However you must give a new dim name (since it can no longer broadcast)."
      ]
    },
    {
      "metadata": {
        "id": "lufRXyjoqbI5",
        "colab_type": "code",
        "outputId": "82a26a2e-b198-4926-b250-953ad409407d",
        "colab": {
          "base_uri": "https://localhost:8080/",
          "height": 67
        }
      },
      "cell_type": "code",
      "source": [
        "tensor.narrow( \"h -> narrowedheight\", 30, 50).get(\"b\", 0)"
      ],
      "execution_count": 106,
      "outputs": [
        {
          "output_type": "execute_result",
          "data": {
            "image/png": "[encoded data removed]",
            "text/plain": [
              ""
            ]
          },
          "metadata": {
            "tags": []
          },
          "execution_count": 106
        }
      ]
    },
    {
      "metadata": {
        "id": "JeYS9if9qwjI",
        "colab_type": "text"
      },
      "cell_type": "markdown",
      "source": [
        "## Proposal 6: Private Dimensions"
      ]
    },
    {
      "metadata": {
        "id": "zYF2PvGthqWR",
        "colab_type": "text"
      },
      "cell_type": "markdown",
      "source": [
        "Finally named tensor attempts to let you directly hide dimensions that should not be accessed by internal functions. The function `mask_to` will keep around a left side mask that protects any earlier dimensions from manipulations by functions. The simplest example uses a mask to drop the `batch` dimension. "
      ]
    },
    {
      "metadata": {
        "id": "6TruEsQqhltl",
        "colab_type": "code",
        "colab": {
          "base_uri": "https://localhost:8080/",
          "height": 35
        },
        "outputId": "3323eeba-a6f3-45d6-a511-51682b41e9b2"
      },
      "cell_type": "code",
      "source": [
        "def bad_function(x, y):\n",
        "    # Accesses the private batch dimension\n",
        "    return x.mean(\"batch\")\n",
        "\n",
        "x = ntorch.randn(dict(batch=10, height=100, width=100))\n",
        "y = ntorch.randn(dict(batch=10, height=100, width=100))\n",
        "\n",
        "try:\n",
        "    bad_function(x.mask_to(\"batch\"), y)\n",
        "except RuntimeError as e:\n",
        "    print(\"Error received:\", e)"
      ],
      "execution_count": 107,
      "outputs": [
        {
          "output_type": "stream",
          "text": [
            "Error received: Dimension batch is masked\n"
          ],
          "name": "stdout"
        }
      ]
    },
    {
      "metadata": {
        "id": "hpwkRrV0q8JL",
        "colab_type": "text"
      },
      "cell_type": "markdown",
      "source": [
        "This is weak dynamic check and can be turned off by internal functions. In future versions, perhaps we can add function annotations to lift non-named functions to respect these properties. "
      ]
    },
    {
      "metadata": {
        "id": "QcTNI7Iuh8AT",
        "colab_type": "text"
      },
      "cell_type": "markdown",
      "source": [
        "## Real-Example: Attention"
      ]
    },
    {
      "metadata": {
        "id": "uUG43UwVrZbc",
        "colab_type": "text"
      },
      "cell_type": "markdown",
      "source": [
        "To demonstrate why these choices lead to better encapsulation properties, let's consider a real-world deep learning example. \n",
        "\n",
        "This example was proposed by my colleague Tim Rocktashel in the blog post describing einsum (https://rockt.github.io/2018/04/30/einsum). Tim's code was proposed as a better alternative to raw PyTorch. While I agree that einsum is a step forward, it still falls into many of the traps described above. \n",
        "\n",
        "\n"
      ]
    },
    {
      "metadata": {
        "id": "Gs3HJEErsTvs",
        "colab_type": "text"
      },
      "cell_type": "markdown",
      "source": [
        "Consider the problem of neural attention, which requires computing,\n",
        "\n",
        "\\begin{align*}\n",
        "\\mathbf{M}_t &= \\tanh(\\mathbf{W}^y\\mathbf{Y}+(\\mathbf{W}^h\\mathbf{h}_t+\\mathbf{W}^r\\mathbf{r}_{t-1})\\otimes \\mathbf{e}_L) & \\mathbf{M}_t &\\in\\mathbb{R}^{k\\times L}\\\\\n",
        "\\alpha_t &= \\text{softmax}(\\mathbf{w}^T\\mathbf{M}_t)&\\alpha_t&\\in\\mathbb{R}^L\\\\\n",
        "\\mathbf{r}_t &= \\mathbf{Y}\\alpha^T_t + \\tanh(\\mathbf{W}^t\\mathbf{r}_{t-1})&\\mathbf{r}_t&\\in\\mathbb{R}^k\n",
        "\\end{align*}"
      ]
    },
    {
      "metadata": {
        "id": "CGvKocKguAdu",
        "colab_type": "text"
      },
      "cell_type": "markdown",
      "source": [
        "First we setup the parameters. "
      ]
    },
    {
      "metadata": {
        "id": "PP3eiilYtUu9",
        "colab_type": "code",
        "colab": {}
      },
      "cell_type": "code",
      "source": [
        "def random_ntensors(names, num=1, requires_grad=False):\n",
        "    tensors = [ntorch.randn(names, requires_grad=requires_grad)\n",
        "               for i in range(0, num)]\n",
        "    return tensors[0] if num == 1 else tensors\n",
        "\n",
        "class Param:\n",
        "    def __init__(self, in_hid, out_hid):\n",
        "        torch.manual_seed(0)\n",
        "        self.WY, self.Wh, self.Wr, self.Wt = \\\n",
        "            random_ntensors(dict(inhid=in_hid, outhid=out_hid),\n",
        "                            num=4, requires_grad=True)\n",
        "        self.bM, self.br, self.w = \\\n",
        "            random_ntensors(dict(outhid=out_hid), \n",
        "                            num=3,\n",
        "                            requires_grad=True)\n",
        "        "
      ],
      "execution_count": 0,
      "outputs": []
    },
    {
      "metadata": {
        "id": "iERFd2mquEc2",
        "colab_type": "text"
      },
      "cell_type": "markdown",
      "source": [
        "Now consider the tensor-based einsum implementation of this function. "
      ]
    },
    {
      "metadata": {
        "id": "oD5eGKI_sZTJ",
        "colab_type": "code",
        "colab": {}
      },
      "cell_type": "code",
      "source": [
        "# Einsum Implementation\n",
        "import torch.nn.functional as F\n",
        "def einsum_attn(params, Y, ht, rt1):\n",
        "    # -- [batch_size x hidden_dimension]\n",
        "    tmp = torch.einsum(\"ik,kl->il\", [ht, params.Wh.tensor]) + \\\n",
        "          torch.einsum(\"ik,kl->il\", [rt1, params.Wr.tensor])\n",
        "\n",
        "    Mt = torch.tanh(torch.einsum(\"ijk,kl->ijl\", [Y, params.WY.tensor]) + \\\n",
        "                tmp.unsqueeze(1).expand_as(Y) + params.bM.tensor)\n",
        "    # -- [batch_size x sequence_length]\n",
        "    at = F.softmax(torch.einsum(\"ijk,k->ij\", [Mt, params.w.tensor]), dim=-1)\n",
        "\n",
        "    # -- [batch_size x hidden_dimension]\n",
        "    rt = torch.einsum(\"ijk,ij->ik\", [Y, at]) + \\\n",
        "         torch.tanh(torch.einsum(\"ij,jk->ik\", [rt1, params.Wt.tensor]) + \n",
        "                    params.br.tensor)\n",
        "\n",
        "    # -- [batch_size x hidden_dimension], [batch_size x sequence_dimension]\n",
        "    return rt, at"
      ],
      "execution_count": 0,
      "outputs": []
    },
    {
      "metadata": {
        "id": "FGbiXmf2uKN5",
        "colab_type": "text"
      },
      "cell_type": "markdown",
      "source": [
        "This implementation is an improvement over the naive PyTorch implementation. It removes many of the \n",
        "views and transposes that would be necessary to make this work. *However, it still uses `squeeze`, references the private batch dim, and usees comments that are not enforced.*"
      ]
    },
    {
      "metadata": {
        "id": "TzmJKd1UuyQd",
        "colab_type": "text"
      },
      "cell_type": "markdown",
      "source": [
        "Consider instead the `namedtensor` version: "
      ]
    },
    {
      "metadata": {
        "id": "f5_BX7z7szLk",
        "colab_type": "code",
        "colab": {}
      },
      "cell_type": "code",
      "source": [
        "def namedtensor_attn(params, Y, ht, rt1):\n",
        "    tmp = ht.contract(\"inhid\", params.Wh) + rt1.contract(\"inhid\", params.Wr)\n",
        "    at = ntorch.tanh(Y.contract(\"inhid\", params.WY) + tmp + params.bM) \\\n",
        "         .contract(\"outhid\", params.w) \\\n",
        "         .softmax(\"seqlen\")\n",
        "\n",
        "    rt = Y.contract(\"seqlen\", at).shift(\"inhid -> (outhid)\") + \\\n",
        "         ntorch.tanh(rt1.contract(\"inhid\", params.Wt) + params.br)\n",
        "    return rt, at\n"
      ],
      "execution_count": 0,
      "outputs": []
    },
    {
      "metadata": {
        "id": "KvtY1nWAsWVm",
        "colab_type": "text"
      },
      "cell_type": "markdown",
      "source": [
        "This code avoids all three traps.\n",
        "\n",
        "(Trap 1) The code never mentions the `batch` dim.\n",
        "\n",
        "(Trap 2) All broadcasting is done directly with contractions, there are no views.\n",
        "\n",
        "(Trap 3) Operations across dims are explicit. For instance, the softmax is clearly over the seqlen. "
      ]
    },
    {
      "metadata": {
        "id": "BKolTWWlvkzO",
        "colab_type": "code",
        "colab": {}
      },
      "cell_type": "code",
      "source": [
        "# Run Einsum\n",
        "in_hid = 7; out_hid = 7\n",
        "Y = torch.randn(3, 5, in_hid)\n",
        "ht, rt1 = torch.randn(3, in_hid), torch.randn(3, in_hid)\n",
        "params = Param(in_hid, out_hid)\n",
        "r, a = einsum_attn(params, Y, ht, rt1)\n",
        "\n",
        "# Run Named Tensor (hiding batch)\n",
        "Y = NamedTensor(Y, \"batch seqlen inhid\", mask=1)\n",
        "ht = NamedTensor(ht, \"batch inhid\", mask=1)\n",
        "rt1 = NamedTensor(rt1, \"batch inhid\", mask=1)\n",
        "nr, na = namedtensor_attn(params, Y, ht, rt1)"
      ],
      "execution_count": 0,
      "outputs": []
    },
    {
      "metadata": {
        "id": "bHUQllYYw4Zc",
        "colab_type": "text"
      },
      "cell_type": "markdown",
      "source": [
        "## Call to Action"
      ]
    },
    {
      "metadata": {
        "id": "vzmW3BZnxFGD",
        "colab_type": "text"
      },
      "cell_type": "markdown",
      "source": [
        "Tools for deep learning help researchers implement standard models, but they also impact what researchers try. Current models can be built fine with the tools we have, but the programming practices are not going to scale to new models. \n",
        "\n",
        "(For instance, one space we have been working on recently is discrete latent variable models which often have many problem specific variables each with their own variable dimension. This setting breaks the current tensor paradigm almost immediately. )\n",
        "\n",
        "This blog post is just a prototype of where this approach could go. If you are interested, I would love contributors to the build out this library properly. Some ideas if you want to send a PR to  [namedtensor](https://github.com/harvardnlp/NamedTensor). Some ideas:\n",
        "\n",
        "1) **Extending beyond PyTorch**: Can we generalize this approach in a way that supports NumPy and Tensorflow?  \n",
        "\n",
        "\n",
        "2) **Interacting with PyTorch Modules**: Can we \"lift\" PyTorch modules with type annotations, so that we know how they change inputs?\n",
        "\n",
        "\n",
        "3) **Error Checking**: Can we add annotations to functions giving pre- and post -conditions so that dimensions are automatically checked.\n",
        "\n"
      ]
    }
  ]
}