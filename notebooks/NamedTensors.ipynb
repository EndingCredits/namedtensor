{
  "nbformat": 4,
  "nbformat_minor": 0,
  "metadata": {
    "colab": {
      "name": "Ein Tensors.ipynb",
      "version": "0.3.2",
      "provenance": [],
      "collapsed_sections": [],
      "toc_visible": true
    },
    "kernelspec": {
      "name": "python3",
      "display_name": "Python 3"
    }
  },
  "cells": [
    {
      "metadata": {
        "id": "1xfjeAUklVDT",
        "colab_type": "text"
      },
      "cell_type": "markdown",
      "source": [
        "# Tutorial 1: Tensor Manipulation"
      ]
    },
    {
      "metadata": {
        "id": "aYuf90PyP-RG",
        "colab_type": "code",
        "colab": {}
      },
      "cell_type": "code",
      "source": [
        "!rm -fr NamedTensor/; git clone -q https://github.com/harvardnlp/NamedTensor.git; cd NamedTensor; pip install -q .  "
      ],
      "execution_count": 0,
      "outputs": []
    },
    {
      "metadata": {
        "id": "SdysczX8lrJU",
        "colab_type": "code",
        "colab": {}
      },
      "cell_type": "code",
      "source": [
        "import numpy\n",
        "from namedtensor import NamedTensor\n",
        "from PIL.Image import fromarray\n",
        "from IPython import get_ipython\n",
        "ims = numpy.load('NamedTensor/examples/test_images.npy')\n",
        "\n",
        "def numpy_to_png(a):\n",
        "    assert 2 <= len(a.shape) <= 3, \"Can't display {}-dimensional array of shape {}\"\\\n",
        "        .format(len(a.shape), a.shape)\n",
        "    return fromarray(numpy.array(numpy.clip(a, 0, 1) * 255, dtype='uint8'))._repr_png_()\n",
        "\n",
        "get_ipython().display_formatter.formatters['image/png'].for_type(NamedTensor, lambda t: numpy_to_png(t.tensor))\n",
        "get_ipython().display_formatter.formatters['text/plain'].for_type(NamedTensor, lambda *x: \"\");"
      ],
      "execution_count": 0,
      "outputs": []
    },
    {
      "metadata": {
        "id": "9EJd2-0Lc0mQ",
        "colab_type": "text"
      },
      "cell_type": "markdown",
      "source": [
        "# Examples"
      ]
    },
    {
      "metadata": {
        "id": "UgOoV78ZRfN4",
        "colab_type": "text"
      },
      "cell_type": "markdown",
      "source": [
        "A set of examples based on EinOps showing how similar operations can be done with NamedTensor"
      ]
    },
    {
      "metadata": {
        "id": "KyBAO9_3qj41",
        "colab_type": "code",
        "outputId": "d9716041-9ca0-4e9d-98f9-32de6a6c2b5a",
        "colab": {
          "base_uri": "https://localhost:8080/",
          "height": 113
        }
      },
      "cell_type": "code",
      "source": [
        "ims[0]\n",
        "tensor = NamedTensor(ims[0], \"h w c\")\n",
        "tensor"
      ],
      "execution_count": 20,
      "outputs": [
        {
          "output_type": "execute_result",
          "data": {
            "image/png": "[encoded data removed]",
            "text/plain": [
              ""
            ]
          },
          "metadata": {
            "tags": []
          },
          "execution_count": 20
        }
      ]
    },
    {
      "metadata": {
        "id": "ES7hpNgY1JxU",
        "colab_type": "code",
        "outputId": "1df18e2d-4c2f-4dec-b84a-67ffded07fc1",
        "colab": {
          "base_uri": "https://localhost:8080/",
          "height": 35
        }
      },
      "cell_type": "code",
      "source": [
        "tensor.shape()"
      ],
      "execution_count": 21,
      "outputs": [
        {
          "output_type": "execute_result",
          "data": {
            "text/plain": [
              "OrderedDict([('h', 96), ('w', 96), ('c', 3)])"
            ]
          },
          "metadata": {
            "tags": []
          },
          "execution_count": 21
        }
      ]
    },
    {
      "metadata": {
        "id": "YJBHGKpLsX8a",
        "colab_type": "code",
        "outputId": "6829b836-31a2-4835-fd6e-60b57a1c7edc",
        "colab": {
          "base_uri": "https://localhost:8080/",
          "height": 113
        }
      },
      "cell_type": "code",
      "source": [
        "tensor.shift(\"w h c\")"
      ],
      "execution_count": 22,
      "outputs": [
        {
          "output_type": "execute_result",
          "data": {
            "image/png": "[encoded data removed]",
            "text/plain": [
              ""
            ]
          },
          "metadata": {
            "tags": []
          },
          "execution_count": 22
        }
      ]
    },
    {
      "metadata": {
        "id": "p731PTUs2HXW",
        "colab_type": "code",
        "outputId": "686bdc42-1713-4d7c-c66e-356c8e6c4c62",
        "colab": {
          "base_uri": "https://localhost:8080/",
          "height": 35
        }
      },
      "cell_type": "code",
      "source": [
        "tensor = NamedTensor(ims[0], \"h w c\")\n",
        "tensor.shift('h -> (height q)', height=8).shape()"
      ],
      "execution_count": 23,
      "outputs": [
        {
          "output_type": "execute_result",
          "data": {
            "text/plain": [
              "OrderedDict([('height', 8), ('q', 12), ('w', 96), ('c', 3)])"
            ]
          },
          "metadata": {
            "tags": []
          },
          "execution_count": 23
        }
      ]
    },
    {
      "metadata": {
        "id": "iDPtBw_5njDY",
        "colab_type": "code",
        "colab": {}
      },
      "cell_type": "code",
      "source": [
        ""
      ],
      "execution_count": 0,
      "outputs": []
    },
    {
      "metadata": {
        "id": "uD1iruomtanM",
        "colab_type": "code",
        "outputId": "86925274-a925-49be-bf44-8c64ec9ee9b4",
        "colab": {
          "base_uri": "https://localhost:8080/",
          "height": 53
        }
      },
      "cell_type": "code",
      "source": [
        "tensor = NamedTensor(ims, 'b h w c')\n",
        "tensor.shift('(b h) -> bh').shape()\n"
      ],
      "execution_count": 24,
      "outputs": [
        {
          "output_type": "stream",
          "text": [
            " bh w c\n"
          ],
          "name": "stdout"
        },
        {
          "output_type": "execute_result",
          "data": {
            "text/plain": [
              "OrderedDict([('bh', 576), ('w', 96), ('c', 3)])"
            ]
          },
          "metadata": {
            "tags": []
          },
          "execution_count": 24
        }
      ]
    },
    {
      "metadata": {
        "id": "74kpc4j-t1Sb",
        "colab_type": "code",
        "outputId": "a7699ba5-2f04-4a98-d36a-cd41d43d971f",
        "colab": {
          "base_uri": "https://localhost:8080/",
          "height": 131
        }
      },
      "cell_type": "code",
      "source": [
        "tensor.shift('(b w) -> bw', 'h bw c')\n"
      ],
      "execution_count": 25,
      "outputs": [
        {
          "output_type": "stream",
          "text": [
            " bw h c\n"
          ],
          "name": "stdout"
        },
        {
          "output_type": "execute_result",
          "data": {
            "image/png": "[encoded data removed]",
            "text/plain": [
              ""
            ]
          },
          "metadata": {
            "tags": []
          },
          "execution_count": 25
        }
      ]
    },
    {
      "metadata": {
        "id": "HVSp9oBAvePg",
        "colab_type": "code",
        "outputId": "0e26109c-142e-4632-9705-623969985e7f",
        "colab": {
          "base_uri": "https://localhost:8080/",
          "height": 53
        }
      },
      "cell_type": "code",
      "source": [
        "tensor.shift('(h b w c) -> full').shape()"
      ],
      "execution_count": 26,
      "outputs": [
        {
          "output_type": "stream",
          "text": [
            " full\n"
          ],
          "name": "stdout"
        },
        {
          "output_type": "execute_result",
          "data": {
            "text/plain": [
              "OrderedDict([('full', 165888)])"
            ]
          },
          "metadata": {
            "tags": []
          },
          "execution_count": 26
        }
      ]
    },
    {
      "metadata": {
        "id": "kLZJCBCZBchm",
        "colab_type": "code",
        "outputId": "67274ce7-d47f-4b08-db61-1990c0688ff1",
        "colab": {
          "base_uri": "https://localhost:8080/",
          "height": 35
        }
      },
      "cell_type": "code",
      "source": [
        "NamedTensor(ims, \"b h w c\").shift('b -> (b1 b2)', 'b1 b2 h w c', b1=2).shape()"
      ],
      "execution_count": 27,
      "outputs": [
        {
          "output_type": "execute_result",
          "data": {
            "text/plain": [
              "OrderedDict([('b1', 2), ('b2', 3), ('h', 96), ('w', 96), ('c', 3)])"
            ]
          },
          "metadata": {
            "tags": []
          },
          "execution_count": 27
        }
      ]
    },
    {
      "metadata": {
        "id": "JnsFFFGPkxBs",
        "colab_type": "code",
        "outputId": "fd53eecb-772a-4012-b429-76ba62f52921",
        "colab": {
          "base_uri": "https://localhost:8080/",
          "height": 341
        }
      },
      "cell_type": "code",
      "source": [
        "tensor.shift(\"b -> (b1 b2)\", '(b2 h) -> a', '(b1 w) -> d', 'a d c', b1=2)"
      ],
      "execution_count": 28,
      "outputs": [
        {
          "output_type": "stream",
          "text": [
            " b1 a w c\n",
            " d a c\n"
          ],
          "name": "stdout"
        },
        {
          "output_type": "execute_result",
          "data": {
            "image/png": "[encoded data removed]",
            "text/plain": [
              ""
            ]
          },
          "metadata": {
            "tags": []
          },
          "execution_count": 28
        }
      ]
    },
    {
      "metadata": {
        "id": "6XHpOv62kelh",
        "colab_type": "code",
        "outputId": "822aad54-9b19-492b-9765-6750a4d48349",
        "colab": {
          "base_uri": "https://localhost:8080/",
          "height": 245
        }
      },
      "cell_type": "code",
      "source": [
        "tensor.shift('w -> (w w2)', '(h w2) -> a', '(b w) -> d', 'a d c', w2=2)"
      ],
      "execution_count": 29,
      "outputs": [
        {
          "output_type": "stream",
          "text": [
            " b a w c\n",
            " d a c\n"
          ],
          "name": "stdout"
        },
        {
          "output_type": "execute_result",
          "data": {
            "image/png": "[encoded data removed]",
            "text/plain": [
              ""
            ]
          },
          "metadata": {
            "tags": []
          },
          "execution_count": 29
        }
      ]
    },
    {
      "metadata": {
        "id": "9xusGrzNkVKW",
        "colab_type": "code",
        "outputId": "4fd90b48-c21a-4730-edf0-2d87ffda127f",
        "colab": {
          "base_uri": "https://localhost:8080/",
          "height": 131
        }
      },
      "cell_type": "code",
      "source": [
        "tensor.shift('(b w) -> a', 'h a c')"
      ],
      "execution_count": 30,
      "outputs": [
        {
          "output_type": "stream",
          "text": [
            " a h c\n"
          ],
          "name": "stdout"
        },
        {
          "output_type": "execute_result",
          "data": {
            "image/png": "[encoded data removed]",
            "text/plain": [
              ""
            ]
          },
          "metadata": {
            "tags": []
          },
          "execution_count": 30
        }
      ]
    },
    {
      "metadata": {
        "id": "nsR9xjHMCXv2",
        "colab_type": "code",
        "outputId": "21cf7082-d549-4302-93f4-59d57ce2c2e8",
        "colab": {
          "base_uri": "https://localhost:8080/",
          "height": 131
        }
      },
      "cell_type": "code",
      "source": [
        "tensor.shift('(w b) -> a', 'h a c')"
      ],
      "execution_count": 31,
      "outputs": [
        {
          "output_type": "stream",
          "text": [
            " a h c\n"
          ],
          "name": "stdout"
        },
        {
          "output_type": "execute_result",
          "data": {
            "image/png": "[encoded data removed]",
            "text/plain": [
              ""
            ]
          },
          "metadata": {
            "tags": []
          },
          "execution_count": 31
        }
      ]
    },
    {
      "metadata": {
        "id": "OowFiE4jCkXH",
        "colab_type": "code",
        "outputId": "279a84ca-34f7-470c-add6-22c82067a3ac",
        "colab": {
          "base_uri": "https://localhost:8080/",
          "height": 113
        }
      },
      "cell_type": "code",
      "source": [
        "tensor = NamedTensor(ims, 'b h w c')\n",
        "tensor.reduce('b', 'mean')"
      ],
      "execution_count": 32,
      "outputs": [
        {
          "output_type": "execute_result",
          "data": {
            "image/png": "[encoded data removed]",
            "text/plain": [
              ""
            ]
          },
          "metadata": {
            "tags": []
          },
          "execution_count": 32
        }
      ]
    },
    {
      "metadata": {
        "id": "vXrSKyKbEd6b",
        "colab_type": "code",
        "outputId": "f4d2ddfd-a475-4113-a1cc-c61990fa6680",
        "colab": {
          "base_uri": "https://localhost:8080/",
          "height": 113
        }
      },
      "cell_type": "code",
      "source": [
        "tensor.reduce('b c', 'min')\n"
      ],
      "execution_count": 33,
      "outputs": [
        {
          "output_type": "execute_result",
          "data": {
            "image/png": "[encoded data removed]",
            "text/plain": [
              ""
            ]
          },
          "metadata": {
            "tags": []
          },
          "execution_count": 33
        }
      ]
    },
    {
      "metadata": {
        "id": "CCgOqtNLFz43",
        "colab_type": "code",
        "outputId": "8fc29999-44a0-48ba-836c-cd2d25b3c299",
        "colab": {
          "base_uri": "https://localhost:8080/",
          "height": 131
        }
      },
      "cell_type": "code",
      "source": [
        "tensor = NamedTensor(ims, 'b h w c')\n",
        "mask = NamedTensor(numpy.random.randint(0, 2, size=[96, 96]), 'h w')\n",
        "tensor.binop(numpy.multiply, mask).shift('(b w) -> a', 'h a c')"
      ],
      "execution_count": 35,
      "outputs": [
        {
          "output_type": "stream",
          "text": [
            " h a c\n"
          ],
          "name": "stdout"
        },
        {
          "output_type": "execute_result",
          "data": {
            "image/png": "[encoded data removed]",
            "text/plain": [
              ""
            ]
          },
          "metadata": {
            "tags": []
          },
          "execution_count": 35
        }
      ]
    },
    {
      "metadata": {
        "id": "FYX0z4-aEsLh",
        "colab_type": "code",
        "outputId": "f89d28a4-7a74-45c1-be1d-5f9093d2315f",
        "colab": {
          "base_uri": "https://localhost:8080/",
          "height": 323
        }
      },
      "cell_type": "code",
      "source": [
        "#reduce(ims, 'b (h h2) (w w2) c -> h (b w) c', 'mean', h2=2, w2=2)\n",
        "tensor = NamedTensor(ims, 'b h w c')\n",
        "tensor.shift(\"h -> (h h2)\", \"w -> (w w2)\", h2=2, w2=2).reduce(\"h2 w2\", \"mean\").shift(\"(b w) -> bw\")"
      ],
      "execution_count": 37,
      "outputs": [
        {
          "output_type": "stream",
          "text": [
            " bw h c\n"
          ],
          "name": "stdout"
        },
        {
          "output_type": "execute_result",
          "data": {
            "image/png": "[encoded data removed]",
            "text/plain": [
              ""
            ]
          },
          "metadata": {
            "tags": []
          },
          "execution_count": 37
        }
      ]
    },
    {
      "metadata": {
        "id": "BssZDH91Kjdv",
        "colab_type": "code",
        "outputId": "c818840a-6eee-4472-902e-df10018a0b38",
        "colab": {
          "base_uri": "https://localhost:8080/",
          "height": 341
        }
      },
      "cell_type": "code",
      "source": [
        "tensor = NamedTensor(ims, 'b h w c')\n",
        "tensor.shift(\"b -> (b1 b2)\", b1 = 2).reduce('c', \"mean\").shift(\"(b1 w) -> bw\", \"(b2 h) -> bh\", 'bh bw')\n"
      ],
      "execution_count": 38,
      "outputs": [
        {
          "output_type": "stream",
          "text": [
            " bw b2 h\n",
            " bw bh\n"
          ],
          "name": "stdout"
        },
        {
          "output_type": "execute_result",
          "data": {
            "image/png": "[encoded data removed]",
            "text/plain": [
              ""
            ]
          },
          "metadata": {
            "tags": []
          },
          "execution_count": 38
        }
      ]
    },
    {
      "metadata": {
        "id": "tesLBQTbM2IO",
        "colab_type": "code",
        "outputId": "b0eaf287-1e7c-47ff-fbe2-6b36d969a0d4",
        "colab": {
          "base_uri": "https://localhost:8080/",
          "height": 245
        }
      },
      "cell_type": "code",
      "source": [
        "tensor.shift('b -> (b1 b2)', '(h b1) -> h', '(w b2) -> w', b1=2)"
      ],
      "execution_count": 39,
      "outputs": [
        {
          "output_type": "stream",
          "text": [
            " h b2 w c\n",
            " h w c\n"
          ],
          "name": "stdout"
        },
        {
          "output_type": "execute_result",
          "data": {
            "image/png": "[encoded data removed]",
            "text/plain": [
              ""
            ]
          },
          "metadata": {
            "tags": []
          },
          "execution_count": 39
        }
      ]
    },
    {
      "metadata": {
        "id": "8XkAxMb1NNYr",
        "colab_type": "code",
        "colab": {}
      },
      "cell_type": "code",
      "source": [
        ""
      ],
      "execution_count": 0,
      "outputs": []
    }
  ]
}