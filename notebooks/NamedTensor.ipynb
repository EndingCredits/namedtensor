{
 "cells": [
  {
   "cell_type": "markdown",
   "metadata": {
    "colab_type": "text",
    "id": "ZskQMOXCDP9O"
   },
   "source": [
    "*Alexander Rush* - @harvardnlp"
   ]
  },
  {
   "cell_type": "markdown",
   "metadata": {
    "colab_type": "text",
    "id": "XSVljWusuNti"
   },
   "source": [
    "<a href=\"https://colab.research.google.com/github/harvardnlp/namedtensor/blob/master/NamedTensor.ipynb\" target=\"_parent\">\n",
    "    <img src=\"https://colab.research.google.com/assets/colab-badge.svg\" alt=\"Open In Colab\"/>\n",
    "</a>"
   ]
  },
  {
   "cell_type": "markdown",
   "metadata": {
    "colab_type": "text",
    "id": "dnuYLZwvDYVP"
   },
   "source": [
    "<i>\n",
    "TL;DR: Despite its ubiquity in deep learning, Tensor is broken. It forces bad habits such as exposing private dimensions, broadcasting based on absolute position,  and keeping type information in documentation.  This post presents a proof-of-concept of an alternative approach, **named tensors**, with named dimensions. This change eliminates the need for indexing, dim arguments, einsum-style unpacking, and documentation-based coding. The prototype **PyTorch library** accompanying this blog post is available as [namedtensor](https://github.com/harvardnlp/NamedTensor).\n",
    "</i>"
   ]
  },
  {
   "cell_type": "markdown",
   "metadata": {
    "colab_type": "text",
    "id": "Ae7BMj9HAUmD"
   },
   "source": [
    "* Table of Contents                                                                                                                                                                                             \n",
    "{:toc} "
   ]
  },
  {
   "cell_type": "markdown",
   "metadata": {
    "colab_type": "text",
    "id": "2GEkZv2b7eDs"
   },
   "source": [
    "*Changelog and Notes:* \n",
    "\n",
    "*  Jon Malmaud points out that the [xarray](http://xarray.pydata.org/en/stable/) project has very similar goals as this note with the addition of extensive Pandas and scientific computing support. \n",
    "* Tongfei Chen's [Nexus](https://github.com/ctongfei/nexus) project proposes statically type-safe tensors in Scala. "
   ]
  },
  {
   "cell_type": "code",
   "execution_count": 1,
   "metadata": {
    "cellView": "both",
    "colab": {},
    "colab_type": "code",
    "id": "wd9yuKJ2Hhdj"
   },
   "outputs": [],
   "source": [
    "#@title Setup\n",
    "#!rm -fr NamedTensor/; git clone -q https://github.com/harvardnlp/NamedTensor.git\n",
    "#!cd NamedTensor; pip install -q .; pip install -q torch numpy opt_einsum"
   ]
  },
  {
   "cell_type": "code",
   "execution_count": 2,
   "metadata": {
    "colab": {},
    "colab_type": "code",
    "id": "7b48OTgB7gso"
   },
   "outputs": [
    {
     "ename": "ModuleNotFoundError",
     "evalue": "No module named 'PIL'",
     "output_type": "error",
     "traceback": [
      "\u001b[0;31m---------------------------------------------------------------------\u001b[0m",
      "\u001b[0;31mModuleNotFoundError\u001b[0m                 Traceback (most recent call last)",
      "\u001b[0;32m<ipython-input-2-dd9c7e5f7bb4>\u001b[0m in \u001b[0;36m<module>\u001b[0;34m\u001b[0m\n\u001b[1;32m      4\u001b[0m \u001b[0;32mfrom\u001b[0m \u001b[0mnamedtensor\u001b[0m \u001b[0;32mimport\u001b[0m \u001b[0mNamedTensor\u001b[0m\u001b[0;34m,\u001b[0m \u001b[0mntorch\u001b[0m\u001b[0;34m\u001b[0m\u001b[0;34m\u001b[0m\u001b[0m\n\u001b[1;32m      5\u001b[0m \u001b[0;32mfrom\u001b[0m \u001b[0mnamedtensor\u001b[0m \u001b[0;32mimport\u001b[0m \u001b[0m_im_init\u001b[0m\u001b[0;34m\u001b[0m\u001b[0;34m\u001b[0m\u001b[0m\n\u001b[0;32m----> 6\u001b[0;31m \u001b[0m_im_init\u001b[0m\u001b[0;34m(\u001b[0m\u001b[0;34m)\u001b[0m\u001b[0;34m\u001b[0m\u001b[0;34m\u001b[0m\u001b[0m\n\u001b[0m",
      "\u001b[0;32m/usr/local/lib/python3.6/dist-packages/namedtensor/__init__.py\u001b[0m in \u001b[0;36m_im_init\u001b[0;34m()\u001b[0m\n\u001b[1;32m     13\u001b[0m \u001b[0;32mdef\u001b[0m \u001b[0m_im_init\u001b[0m\u001b[0;34m(\u001b[0m\u001b[0;34m)\u001b[0m\u001b[0;34m:\u001b[0m\u001b[0;34m\u001b[0m\u001b[0;34m\u001b[0m\u001b[0m\n\u001b[1;32m     14\u001b[0m     \u001b[0;31m# PRINT SETUP\u001b[0m\u001b[0;34m\u001b[0m\u001b[0;34m\u001b[0m\u001b[0;34m\u001b[0m\u001b[0m\n\u001b[0;32m---> 15\u001b[0;31m     \u001b[0;32mfrom\u001b[0m \u001b[0mPIL\u001b[0m\u001b[0;34m.\u001b[0m\u001b[0mImage\u001b[0m \u001b[0;32mimport\u001b[0m \u001b[0mfromarray\u001b[0m\u001b[0;34m\u001b[0m\u001b[0;34m\u001b[0m\u001b[0m\n\u001b[0m\u001b[1;32m     16\u001b[0m     \u001b[0;32mfrom\u001b[0m \u001b[0mIPython\u001b[0m \u001b[0;32mimport\u001b[0m \u001b[0mget_ipython\u001b[0m\u001b[0;34m\u001b[0m\u001b[0;34m\u001b[0m\u001b[0m\n\u001b[1;32m     17\u001b[0m     \u001b[0;32mimport\u001b[0m \u001b[0mtorch\u001b[0m\u001b[0;34m\u001b[0m\u001b[0;34m\u001b[0m\u001b[0m\n",
      "\u001b[0;31mModuleNotFoundError\u001b[0m: No module named 'PIL'"
     ]
    }
   ],
   "source": [
    "\n",
    "import numpy \n",
    "import torch\n",
    "from namedtensor import NamedTensor, ntorch\n",
    "from namedtensor import _im_init\n",
    "_im_init()"
   ]
  },
  {
   "cell_type": "markdown",
   "metadata": {
    "colab_type": "text",
    "id": "X1XnmQLgDeHy"
   },
   "source": [
    "#  Tensor Traps\n",
    "\n",
    "\n",
    "This post is about the tensor class, a multi-dimensional array object that is the central object of deep learning frameworks such as Torch, TensorFlow and Chainer, as well as numpy. Tensors carry around a blob of storage and expose a tuple of dimension information to users."
   ]
  },
  {
   "cell_type": "code",
   "execution_count": null,
   "metadata": {
    "colab": {
     "base_uri": "https://localhost:8080/",
     "height": 35
    },
    "colab_type": "code",
    "id": "9LZarsn5HgUa",
    "outputId": "747daa9e-5fab-4c92-fb6b-2f2d29a987ed"
   },
   "outputs": [],
   "source": [
    "ims = torch.tensor(numpy.load('NamedTensor/examples/test_images.npy'))\n",
    "ims.shape"
   ]
  },
  {
   "cell_type": "markdown",
   "metadata": {
    "colab_type": "text",
    "id": "_A4CksffJ5sT"
   },
   "source": [
    "Here there are 4 dimensions, corresponding to *batch_size*, *height*, *width*, and *channels*. Most of the time you can figure this out by some comment in the code that looks like this:  "
   ]
  },
  {
   "cell_type": "code",
   "execution_count": null,
   "metadata": {
    "colab": {
     "base_uri": "https://localhost:8080/",
     "height": 113
    },
    "colab_type": "code",
    "id": "euWWfx_yKh85",
    "outputId": "23b7c7a6-87e2-4256-f1ad-8e4dabea4b72"
   },
   "outputs": [],
   "source": [
    "# batch_size x height x width x channels\n",
    "ims[0]"
   ]
  },
  {
   "cell_type": "markdown",
   "metadata": {
    "colab_type": "text",
    "id": "oec2Ah5eRgEp"
   },
   "source": [
    "This approch is concise and pseudo-mathy. However from a programming point of view it is not a great way to build complex software."
   ]
  },
  {
   "cell_type": "markdown",
   "metadata": {
    "colab_type": "text",
    "id": "ampMvKRpHYvv"
   },
   "source": [
    "\n",
    "## Trap 1: Privacy by Convention\n"
   ]
  },
  {
   "cell_type": "markdown",
   "metadata": {
    "colab_type": "text",
    "id": "tFP--oUNnb8V"
   },
   "source": [
    "\n",
    "\n",
    "Code that manipulates tensors does so by dimension identifiers in the tuple. If you want to rotate the image you read the comment, decide what dimensions need to be changed and alter them. "
   ]
  },
  {
   "cell_type": "code",
   "execution_count": null,
   "metadata": {
    "colab": {
     "base_uri": "https://localhost:8080/",
     "height": 113
    },
    "colab_type": "code",
    "id": "JuYMwAFtLBcl",
    "outputId": "35ba6c2e-d0a1-4696-a2dd-2f8506b509fe"
   },
   "outputs": [],
   "source": [
    "def rotate(ims):\n",
    "    # batch_size x height x width x channels\n",
    "    rotated = ims.transpose(1, 2)\n",
    "    \n",
    "    # batch_size x width x height x channels\n",
    "    return rotated\n",
    "rotate(ims)[0]"
   ]
  },
  {
   "cell_type": "markdown",
   "metadata": {
    "colab_type": "text",
    "id": "gjjCOsyBLvtV"
   },
   "source": [
    "This code is simple and in theory well documented. However, it does not reflect the semantics of the target function. The property of rotation is independent of the batch, or for that matter, the channels. The function should not have to account for these dimensions in determining the dimensions to alter. \n",
    "\n",
    "This leads to two problems. FIrst, it's quite worrisome that if we pass in a singleton image this function runs fine but fails to work. "
   ]
  },
  {
   "cell_type": "code",
   "execution_count": null,
   "metadata": {
    "colab": {
     "base_uri": "https://localhost:8080/",
     "height": 35
    },
    "colab_type": "code",
    "id": "bnh57z49L9Lu",
    "outputId": "1456af26-07bf-4f4d-fe00-650dc6d3329d"
   },
   "outputs": [],
   "source": [
    "rotate(ims[0]).shape"
   ]
  },
  {
   "cell_type": "markdown",
   "metadata": {
    "colab_type": "text",
    "id": "tqw1mFdDk2Fi"
   },
   "source": [
    "However, even more worrisome is that the function may actually use the batch dimensions by mistake and mix together properties of different images. This can lead to nasty bugs that would be easy to avoid if this dimension was hidden from the code. "
   ]
  },
  {
   "cell_type": "markdown",
   "metadata": {
    "colab_type": "text",
    "id": "1DV0yQ09L7AR"
   },
   "source": [
    "## Trap 2: Broadcasting by Alignment\n"
   ]
  },
  {
   "cell_type": "markdown",
   "metadata": {
    "colab_type": "text",
    "id": "p9LuwkU9naX_"
   },
   "source": [
    "\n",
    "The most useful aspect of Tensors is that they can quickly do array operations without directly requiring for loops. For this to work dimensions need to be directly aligned so that they can be broadcasts. Again this is done by convention and code documentation that makes it \"easy\" to line up dimensions. For instance, let's assume we want to apply a mask to the above image. \n"
   ]
  },
  {
   "cell_type": "code",
   "execution_count": null,
   "metadata": {
    "colab": {
     "base_uri": "https://localhost:8080/",
     "height": 113
    },
    "colab_type": "code",
    "id": "Sp0TsC0yOBxr",
    "outputId": "c4545451-c659-45da-db08-4f69c3fbe38e"
   },
   "outputs": [],
   "source": [
    "# height x width\n",
    "mask = torch.randint(0, 2, [96, 96]).byte()\n",
    "mask"
   ]
  },
  {
   "cell_type": "code",
   "execution_count": null,
   "metadata": {
    "colab": {
     "base_uri": "https://localhost:8080/",
     "height": 35
    },
    "colab_type": "code",
    "id": "cO9IWw46O33Z",
    "outputId": "e8993083-0126-40fd-e294-b03a89aa05ed"
   },
   "outputs": [],
   "source": [
    "try:\n",
    "    ims.masked_fill(mask, 0)\n",
    "except RuntimeError:\n",
    "    error = \"Broadcasting fail %s %s\"%(mask.shape, ims.shape)\n",
    "error"
   ]
  },
  {
   "cell_type": "markdown",
   "metadata": {
    "colab_type": "text",
    "id": "9BsD5FpGQMqv"
   },
   "source": [
    "This fails because even though we knew that we were building a *height* and *width* shaped mask, the rules of broadcasting do not have the correct semantics. To make this work, you are encouraged to use either `view` or `squeeze` my least favorite functions.  "
   ]
  },
  {
   "cell_type": "code",
   "execution_count": null,
   "metadata": {
    "colab": {
     "base_uri": "https://localhost:8080/",
     "height": 113
    },
    "colab_type": "code",
    "id": "AYso46ojPfuQ",
    "outputId": "9a533e09-fbda-4364-c736-bec10dbb28d1"
   },
   "outputs": [],
   "source": [
    "# either \n",
    "mask = mask.unsqueeze(-1)\n",
    "# or \n",
    "mask = mask.view(96, 96, 1)\n",
    "\n",
    "# height x width x channels\n",
    "ims.masked_fill(mask, 1)[0]"
   ]
  },
  {
   "cell_type": "markdown",
   "metadata": {
    "colab_type": "text",
    "id": "Whz5pqd_SRXH"
   },
   "source": [
    "Note we do not need to do this for the left-most dimensions so there is a bit of abstraction here.  However reading through real code, dozens of right side `view`s and `squeeze`s become completely unreadable."
   ]
  },
  {
   "cell_type": "markdown",
   "metadata": {
    "colab_type": "text",
    "id": "5UyG7El7Snbi"
   },
   "source": [
    "## Trap 3: Access by Comments\n"
   ]
  },
  {
   "cell_type": "markdown",
   "metadata": {
    "colab_type": "text",
    "id": "9LWcPiviTwWc"
   },
   "source": [
    "It is possible that you look at the top two issues and think that as long as you are careful, these issues will be caught by run time errors. \n",
    "However, even well used the combination of broadcasting and indexing can lead to problems that are very tough to catch.  "
   ]
  },
  {
   "cell_type": "code",
   "execution_count": null,
   "metadata": {
    "colab": {
     "base_uri": "https://localhost:8080/",
     "height": 113
    },
    "colab_type": "code",
    "id": "HfkPrgC1TPWh",
    "outputId": "3eaf3337-a1f2-4b5c-90a5-e90c272f397e"
   },
   "outputs": [],
   "source": [
    "\n",
    "a = ims[1].mean(2, keepdim=True)\n",
    "# height x width x 1\n",
    "\n",
    "# (Lots of code in between)\n",
    "#  .......................\n",
    "\n",
    "# Code comment explaining what should be happening.\n",
    "dim = 1\n",
    "b = a + ims.mean(dim, keepdim=True)[0]\n",
    "\n",
    "\n",
    "# (Or maybe should be a 2? or a 0?)\n",
    "index = 2\n",
    "b = a + ims.mean(dim, keepdim=True)[0]\n",
    "b"
   ]
  },
  {
   "cell_type": "markdown",
   "metadata": {
    "colab_type": "text",
    "id": "P4WyEXyYVFGp"
   },
   "source": [
    "Here we assume that the coder is trying to combine two tensor using both reduction operations and dimension indexing. (Honestly at this point I have forgotten what  the dimensions stand for). \n",
    "\n",
    "The main point though is that this code will run fine for whatever value dim is given. The comment here might descibe what is happening but the code itself doesn't throw a run time error. "
   ]
  },
  {
   "cell_type": "markdown",
   "metadata": {
    "colab_type": "text",
    "id": "b9gDFB-WV9_h"
   },
   "source": [
    "# Named Tensor: A Prototype"
   ]
  },
  {
   "cell_type": "markdown",
   "metadata": {
    "colab_type": "text",
    "id": "khfYKuBcWPMz"
   },
   "source": [
    "Based on these issues, I think deep learning code should move to a better central object. There are several of these proposed. Here for fun, I will develop a new prototype. I have the following goals. \n",
    "\n",
    "*1) Dimensions should have human-readable names.*\n",
    "\n",
    "*2) No function should have a dim argument.*\n",
    "\n",
    "*3) Broadcast should be by name matching.*\n",
    "\n",
    "*4) Transposition should be explicit.*\n",
    "\n",
    "*5) Ban dimension based indexing.*\n",
    "\n",
    "*6) Private dimensions should be protected.*\n",
    "\n"
   ]
  },
  {
   "cell_type": "markdown",
   "metadata": {
    "colab_type": "text",
    "id": "cmFZCfgZYm3i"
   },
   "source": [
    "\n",
    "\n",
    "To experiment with these ideas I have built a library known as `NamedTensor`. Currently it is PyTorch specific, but in theory a similar idea could be used in other frameworks. The code is available at [github.com/harvardnlp/namedtensor](https://github.com/harvardnlp/namedtensor). "
   ]
  },
  {
   "cell_type": "markdown",
   "metadata": {
    "colab_type": "text",
    "id": "SYth2yPxZobO"
   },
   "source": [
    "## Proposal 1: Assigning Names"
   ]
  },
  {
   "cell_type": "markdown",
   "metadata": {
    "colab_type": "text",
    "id": "0177b_0vZ303"
   },
   "source": [
    "The core of the library is an object that wraps a tensor and provides names for each dimension. Here we simply wrap a given torch tensor with dimension names."
   ]
  },
  {
   "cell_type": "code",
   "execution_count": null,
   "metadata": {
    "colab": {
     "base_uri": "https://localhost:8080/",
     "height": 35
    },
    "colab_type": "code",
    "id": "sLnQA8VOZsEx",
    "outputId": "2691d54b-389c-4155-c7b2-54696cd603e7"
   },
   "outputs": [],
   "source": [
    "named_ims = NamedTensor(ims, \"batch height width channels\")\n",
    "named_ims.named_shape"
   ]
  },
  {
   "cell_type": "markdown",
   "metadata": {
    "colab_type": "text",
    "id": "eLjL4O7_ZiyW"
   },
   "source": [
    "Alternatively the library has wrappers for the pytorch constructors to turn them into named tensors. "
   ]
  },
  {
   "cell_type": "code",
   "execution_count": null,
   "metadata": {
    "colab": {
     "base_uri": "https://localhost:8080/",
     "height": 113
    },
    "colab_type": "code",
    "id": "eiYe47t6aRnd",
    "outputId": "b25c559e-9ed9-4661-c27b-13e0847e4dfa"
   },
   "outputs": [],
   "source": [
    "ex = ntorch.randn(dict(height=96, width=96, channels=3))\n",
    "ex"
   ]
  },
  {
   "cell_type": "markdown",
   "metadata": {
    "colab_type": "text",
    "id": "lNgHsAmDbxMc"
   },
   "source": [
    "Most simple operations simply keep around the named tensor properties. "
   ]
  },
  {
   "cell_type": "code",
   "execution_count": null,
   "metadata": {
    "colab": {},
    "colab_type": "code",
    "id": "T-wGpWZAb4AL"
   },
   "outputs": [],
   "source": [
    "ex.log()\n",
    "\n",
    "# or \n",
    "\n",
    "ntorch.log(ex)\n",
    "\n",
    "None"
   ]
  },
  {
   "cell_type": "markdown",
   "metadata": {
    "colab_type": "text",
    "id": "GfVktrThcIF2"
   },
   "source": [
    "## Proposal 2: Accessors and Reduction"
   ]
  },
  {
   "cell_type": "markdown",
   "metadata": {
    "colab_type": "text",
    "id": "iNCJcWeccTZW"
   },
   "source": [
    "The first benefit of names comes from the ability to replace the need for dim and axis style arguments entirely. For example, lets say we wanted to sort each column. "
   ]
  },
  {
   "cell_type": "code",
   "execution_count": null,
   "metadata": {
    "colab": {
     "base_uri": "https://localhost:8080/",
     "height": 113
    },
    "colab_type": "code",
    "id": "-HdhRVfqcyd2",
    "outputId": "d5b13a77-a81f-4433-98a4-f55e7a22d2bd"
   },
   "outputs": [],
   "source": [
    "sortex, _ = ex.sort(\"width\")\n",
    "sortex"
   ]
  },
  {
   "cell_type": "markdown",
   "metadata": {
    "colab_type": "text",
    "id": "JRljeAlweL7X"
   },
   "source": [
    "Another common operation is a *reduction*  where one or more dimensions is pooled out.   "
   ]
  },
  {
   "cell_type": "code",
   "execution_count": null,
   "metadata": {
    "colab": {
     "base_uri": "https://localhost:8080/",
     "height": 113
    },
    "colab_type": "code",
    "id": "6Rji52BmemX9",
    "outputId": "cf3d7322-7d7b-46be-bd7a-ab49aebb71a1"
   },
   "outputs": [],
   "source": [
    "named_ims.mean(\"batch\")"
   ]
  },
  {
   "cell_type": "code",
   "execution_count": null,
   "metadata": {
    "colab": {
     "base_uri": "https://localhost:8080/",
     "height": 113
    },
    "colab_type": "code",
    "id": "5Ky7Q3Kge8Mh",
    "outputId": "93734d7d-319d-4e13-bbb8-4d3aba2c55ae"
   },
   "outputs": [],
   "source": [
    "named_ims.mean(\"batch channels\")"
   ]
  },
  {
   "cell_type": "markdown",
   "metadata": {
    "colab_type": "text",
    "id": "m88W0sfufEq1"
   },
   "source": [
    "## Proposal 3: Broadcasting and Contraction\n",
    "\n",
    "The names that are provided also provide the basis for broadcasting operations. When there is a binary operations between two named tensors they first ensure that all dimension are matched in name and then apply standard broadcasting. To demonstrate let's return to the masking example above. Here we simply declare the names of the dimensions of our mask, and ask the library to figure out the broadcasting. "
   ]
  },
  {
   "cell_type": "code",
   "execution_count": null,
   "metadata": {
    "colab": {
     "base_uri": "https://localhost:8080/",
     "height": 113
    },
    "colab_type": "code",
    "id": "ffjF33e4fhLs",
    "outputId": "1f1eadce-bf24-46a7-d35d-0b8840fa673d"
   },
   "outputs": [],
   "source": [
    "im = NamedTensor(ims[0], \"height width channels\")\n",
    "im2 = NamedTensor(ims[1], \"height width channels\")\n",
    "\n",
    "mask = NamedTensor(torch.randint(0, 2, [96, 96]).byte(), \"height width\")\n",
    "im.masked_fill(mask, 1)"
   ]
  },
  {
   "cell_type": "markdown",
   "metadata": {
    "colab_type": "text",
    "id": "SB93TbaxhBpS"
   },
   "source": [
    "Similar operations can be used for standard matrix operations such as addition and multiplication."
   ]
  },
  {
   "cell_type": "code",
   "execution_count": null,
   "metadata": {
    "colab": {
     "base_uri": "https://localhost:8080/",
     "height": 113
    },
    "colab_type": "code",
    "id": "tnnPgP5xjlwa",
    "outputId": "595909e0-4bde-4ff8-e304-0bf036ae1468"
   },
   "outputs": [],
   "source": [
    "im * mask.double()"
   ]
  },
  {
   "cell_type": "markdown",
   "metadata": {
    "colab_type": "text",
    "id": "Woje-ckrj4Bm"
   },
   "source": [
    "A more general feature is the `contract` method for tensor contraction between name tensors. Tensor contraction, the machinery behind `einsum`, is an elegant way of thinking about generalizations of dot-products, matrix-vector products, matrix-matrix products, etc."
   ]
  },
  {
   "cell_type": "code",
   "execution_count": null,
   "metadata": {
    "colab": {
     "base_uri": "https://localhost:8080/",
     "height": 35
    },
    "colab_type": "code",
    "id": "t0H4P6NnkK4t",
    "outputId": "d4175fef-b8aa-41f8-ceb4-993f5fc9c097"
   },
   "outputs": [],
   "source": [
    "\n",
    "# Runs torch.einsum(ijk,ijk->jk, tensor1, tensor2)\n",
    "im.contract(\"height\", im2).named_shape\n"
   ]
  },
  {
   "cell_type": "code",
   "execution_count": null,
   "metadata": {
    "colab": {
     "base_uri": "https://localhost:8080/",
     "height": 35
    },
    "colab_type": "code",
    "id": "C-RpMMgd1qT6",
    "outputId": "ffa233ff-b206-4fd9-9fab-ce0c8d38938e"
   },
   "outputs": [],
   "source": [
    "# Runs torch.einsum(ijk,ijk->il, tensor1, tensor2)\n",
    "im.contract(\"width\", im2).named_shape"
   ]
  },
  {
   "cell_type": "code",
   "execution_count": null,
   "metadata": {
    "colab": {
     "base_uri": "https://localhost:8080/",
     "height": 35
    },
    "colab_type": "code",
    "id": "5X7dclfr1rFp",
    "outputId": "59816bde-943b-4b8e-8af7-96e29384e1d8"
   },
   "outputs": [],
   "source": [
    "\n",
    "# Runs torch.einsum(ijk,ijk->l, tensor1, tensor2)\n",
    "im.contract(\"height width\", im2).named_shape\n"
   ]
  },
  {
   "cell_type": "markdown",
   "metadata": {
    "colab_type": "text",
    "id": "2T3wTh88lb7h"
   },
   "source": [
    "Similar notation can be used for sparse indexing (inspired by the [einindex](https://pypi.org/project/einindex/) library). This is useful for embedding lookups and other sparse operations. "
   ]
  },
  {
   "cell_type": "code",
   "execution_count": null,
   "metadata": {
    "colab": {
     "base_uri": "https://localhost:8080/",
     "height": 67
    },
    "colab_type": "code",
    "id": "iKWmZyHYlsQV",
    "outputId": "970f2e45-99e4-49f4-e336-7994f64aea1b"
   },
   "outputs": [],
   "source": [
    "pick, _ = NamedTensor(torch.randint(0, 96, [50]).long(), \"lookups\") \\\n",
    "             .sort(\"lookups\")\n",
    "\n",
    "# Select 50 random rows.\n",
    "im.index_select(\"height\", pick)"
   ]
  },
  {
   "cell_type": "markdown",
   "metadata": {
    "colab_type": "text",
    "id": "AKTInxARmYgY"
   },
   "source": [
    "## Proposal 4: Shifting Dimensions "
   ]
  },
  {
   "cell_type": "markdown",
   "metadata": {
    "colab_type": "text",
    "id": "S5GfSRZQnDq4"
   },
   "source": [
    "Behind the scenes all of the named tensors are acting as tensor objects. As such thing like order and stride of dimensions does matter. Operations like `transpose` and `view` are crucial for maintaining this, but are unfortunately quite error-prone. \n",
    "\n",
    "Instead consider a domain specific langauge `shift` that borrows heavily from the Alex Rogozhnikov's excellent [einops](https://github.com/arogozhnikov/einops) package.\n",
    " "
   ]
  },
  {
   "cell_type": "code",
   "execution_count": null,
   "metadata": {
    "colab": {
     "base_uri": "https://localhost:8080/",
     "height": 113
    },
    "colab_type": "code",
    "id": "KyBAO9_3qj41",
    "outputId": "1a0a182f-696a-45c8-e177-e6d1e5f32341"
   },
   "outputs": [],
   "source": [
    "tensor = NamedTensor(ims[0], \"h w c\")\n",
    "tensor"
   ]
  },
  {
   "cell_type": "markdown",
   "metadata": {
    "colab_type": "text",
    "id": "w2hdSaRKoHky"
   },
   "source": [
    "Standard calls to shift transpose dimensions."
   ]
  },
  {
   "cell_type": "code",
   "execution_count": null,
   "metadata": {
    "colab": {
     "base_uri": "https://localhost:8080/",
     "height": 113
    },
    "colab_type": "code",
    "id": "YJBHGKpLsX8a",
    "outputId": "6e58ddcb-9fac-45ce-e7e0-8585ab466209"
   },
   "outputs": [],
   "source": [
    "tensor.shift(\"w h c\")"
   ]
  },
  {
   "cell_type": "markdown",
   "metadata": {
    "colab_type": "text",
    "id": "4C7y6HsOoGvz"
   },
   "source": [
    "Calls with of the form \"a -> (b c)\" split dimensions, whereas \"(a b) -> c\" merge them. "
   ]
  },
  {
   "cell_type": "code",
   "execution_count": null,
   "metadata": {
    "colab": {
     "base_uri": "https://localhost:8080/",
     "height": 35
    },
    "colab_type": "code",
    "id": "p731PTUs2HXW",
    "outputId": "795aab42-7ba9-47e5-9319-15a5404a200d"
   },
   "outputs": [],
   "source": [
    "tensor = NamedTensor(ims[0], \"h w c\")\n",
    "tensor.shift('h -> (height q)', height=8).named_shape"
   ]
  },
  {
   "cell_type": "code",
   "execution_count": null,
   "metadata": {
    "colab": {
     "base_uri": "https://localhost:8080/",
     "height": 35
    },
    "colab_type": "code",
    "id": "uD1iruomtanM",
    "outputId": "2949d2be-f901-44c2-8e94-6c6e50353b89"
   },
   "outputs": [],
   "source": [
    "tensor = NamedTensor(ims, 'b h w c')\n",
    "tensor.shift('(b h) -> bh').named_shape\n"
   ]
  },
  {
   "cell_type": "markdown",
   "metadata": {
    "colab_type": "text",
    "id": "8h6ZCcrgoeEg"
   },
   "source": [
    "Shifts can be chained in the same function."
   ]
  },
  {
   "cell_type": "code",
   "execution_count": null,
   "metadata": {
    "colab": {
     "base_uri": "https://localhost:8080/",
     "height": 113
    },
    "colab_type": "code",
    "id": "74kpc4j-t1Sb",
    "outputId": "5a6005a6-7f84-486b-b865-e33721e5c0bd"
   },
   "outputs": [],
   "source": [
    "tensor.shift('(b w) -> bw', 'h bw c')\n"
   ]
  },
  {
   "cell_type": "markdown",
   "metadata": {
    "colab_type": "text",
    "id": "ZKXtJ4gSonIZ"
   },
   "source": [
    "Just for fun, here are some of the crazier examples from *einops* in this notation."
   ]
  },
  {
   "cell_type": "code",
   "execution_count": null,
   "metadata": {
    "colab": {
     "base_uri": "https://localhost:8080/",
     "height": 305
    },
    "colab_type": "code",
    "id": "JnsFFFGPkxBs",
    "outputId": "cd77b524-ccb1-4dbc-be71-62562ff6d4a5"
   },
   "outputs": [],
   "source": [
    "tensor.shift(\"b -> (b1 b2)\", '(b2 h) -> a',\n",
    "             '(b1 w) -> d', 'a d c', b1=2)"
   ]
  },
  {
   "cell_type": "code",
   "execution_count": null,
   "metadata": {
    "colab": {
     "base_uri": "https://localhost:8080/",
     "height": 209
    },
    "colab_type": "code",
    "id": "6XHpOv62kelh",
    "outputId": "f2b86a46-4509-4482-e57e-65db52b639d5"
   },
   "outputs": [],
   "source": [
    "tensor.shift('w -> (w w2)', '(h w2) -> a',\n",
    "             '(b w) -> d', 'a d c', w2=2)"
   ]
  },
  {
   "cell_type": "code",
   "execution_count": null,
   "metadata": {
    "colab": {
     "base_uri": "https://localhost:8080/",
     "height": 113
    },
    "colab_type": "code",
    "id": "9xusGrzNkVKW",
    "outputId": "390964c0-70d0-4255-88f5-71f3c68fc05b"
   },
   "outputs": [],
   "source": [
    "tensor.shift('(b w) -> a', 'h a c')"
   ]
  },
  {
   "cell_type": "code",
   "execution_count": null,
   "metadata": {
    "colab": {
     "base_uri": "https://localhost:8080/",
     "height": 113
    },
    "colab_type": "code",
    "id": "nsR9xjHMCXv2",
    "outputId": "90198be8-4aa0-4ec3-a34e-a24da230797b"
   },
   "outputs": [],
   "source": [
    "tensor.shift('(w b) -> a', 'h a c')"
   ]
  },
  {
   "cell_type": "code",
   "execution_count": null,
   "metadata": {
    "colab": {
     "base_uri": "https://localhost:8080/",
     "height": 113
    },
    "colab_type": "code",
    "id": "OowFiE4jCkXH",
    "outputId": "f674c4d0-07bc-4519-a1e8-3a74f5c57203"
   },
   "outputs": [],
   "source": [
    "tensor = NamedTensor(ims, 'b h w c')\n",
    "tensor.mean('b')"
   ]
  },
  {
   "cell_type": "code",
   "execution_count": null,
   "metadata": {
    "colab": {
     "base_uri": "https://localhost:8080/",
     "height": 305
    },
    "colab_type": "code",
    "id": "FYX0z4-aEsLh",
    "outputId": "40cc5f3c-c325-4c06-9fbd-a7a3f8f2a399"
   },
   "outputs": [],
   "source": [
    "tensor = NamedTensor(ims, 'b h w c')\n",
    "tensor.shift(\"h -> (h h2)\", \"w -> (w w2)\", h2=2, w2=2)\\\n",
    "      .mean(\"h2 w2\").shift(\"(b w) -> bw\")"
   ]
  },
  {
   "cell_type": "code",
   "execution_count": null,
   "metadata": {
    "colab": {
     "base_uri": "https://localhost:8080/",
     "height": 305
    },
    "colab_type": "code",
    "id": "BssZDH91Kjdv",
    "outputId": "0a1949cd-98b1-4842-9930-17757fe740f3"
   },
   "outputs": [],
   "source": [
    "tensor = NamedTensor(ims, 'b h w c')\n",
    "tensor.shift(\"b -> (b1 b2)\", b1 = 2).mean('c') \\\n",
    "      .shift(\"(b1 w) -> bw\", \"(b2 h) -> bh\", 'bh bw')\n"
   ]
  },
  {
   "cell_type": "code",
   "execution_count": null,
   "metadata": {
    "colab": {
     "base_uri": "https://localhost:8080/",
     "height": 209
    },
    "colab_type": "code",
    "id": "tesLBQTbM2IO",
    "outputId": "fe141320-4db3-42e2-968a-85db3f0972a6"
   },
   "outputs": [],
   "source": [
    "tensor.shift('b -> (b1 b2)', '(h b1) -> h', '(w b2) -> w', b1=2)"
   ]
  },
  {
   "cell_type": "markdown",
   "metadata": {
    "colab_type": "text",
    "id": "RONa1_CvpIJl"
   },
   "source": [
    "## Proposal 5: Ban Indexing"
   ]
  },
  {
   "cell_type": "markdown",
   "metadata": {
    "colab_type": "text",
    "id": "95TGZJB5pXbW"
   },
   "source": [
    "\n",
    "Generally indexing is discouraged in this named tensor paradigm. Instead use functions like `index_select` above.\n",
    "\n",
    "There are some useful named alternative functions pulled over from torch. For example `unbind` pulls apart a dimension to a tuple.\n"
   ]
  },
  {
   "cell_type": "code",
   "execution_count": null,
   "metadata": {
    "colab": {
     "base_uri": "https://localhost:8080/",
     "height": 113
    },
    "colab_type": "code",
    "id": "3jMIuUxIpn74",
    "outputId": "7df9941c-0391-44bc-b901-337c7e32be25"
   },
   "outputs": [],
   "source": [
    "tensor = NamedTensor(ims, 'b h w c')\n",
    "\n",
    "# Returns a tuple\n",
    "images = tensor.unbind(\"b\")\n",
    "images[3]"
   ]
  },
  {
   "cell_type": "markdown",
   "metadata": {
    "colab_type": "text",
    "id": "FZcHQ_BvqJ6X"
   },
   "source": [
    "The function `get` directly selects a slice of from a named dimension."
   ]
  },
  {
   "cell_type": "code",
   "execution_count": null,
   "metadata": {
    "colab": {
     "base_uri": "https://localhost:8080/",
     "height": 113
    },
    "colab_type": "code",
    "id": "qQCELxUgqB_v",
    "outputId": "fd38412c-b3b8-4fd9-bf60-515aa0b6b402"
   },
   "outputs": [],
   "source": [
    "# Returns a tuple\n",
    "images = tensor.get(\"b\", 0).unbind(\"c\")\n",
    "images[1]"
   ]
  },
  {
   "cell_type": "markdown",
   "metadata": {
    "colab_type": "text",
    "id": "kx75vFJdp0Rm"
   },
   "source": [
    "Finally `narrow` can be used to replace fancy indexing. However you must give a new dim name (since it can no longer broadcast)."
   ]
  },
  {
   "cell_type": "code",
   "execution_count": null,
   "metadata": {
    "colab": {
     "base_uri": "https://localhost:8080/",
     "height": 67
    },
    "colab_type": "code",
    "id": "lufRXyjoqbI5",
    "outputId": "893463c5-1536-45d3-dce9-dfcf4bbb7814"
   },
   "outputs": [],
   "source": [
    "tensor.narrow( \"h -> narrowedheight\", 30, 50).get(\"b\", 0)"
   ]
  },
  {
   "cell_type": "markdown",
   "metadata": {
    "colab_type": "text",
    "id": "JeYS9if9qwjI"
   },
   "source": [
    "## Proposal 6: Private Dimensions"
   ]
  },
  {
   "cell_type": "markdown",
   "metadata": {
    "colab_type": "text",
    "id": "zYF2PvGthqWR"
   },
   "source": [
    "Finally named tensor attempts to let you directly hide dimensions that should not be accessed by internal functions. The function `mask_to` will keep around a left side mask that protects any earlier dimensions from manipulations by functions. The simplest example uses a mask to drop the `batch` dimension. "
   ]
  },
  {
   "cell_type": "code",
   "execution_count": null,
   "metadata": {
    "colab": {
     "base_uri": "https://localhost:8080/",
     "height": 35
    },
    "colab_type": "code",
    "id": "6TruEsQqhltl",
    "outputId": "5765f493-531e-4a58-bc47-ed4cb99ec2ed"
   },
   "outputs": [],
   "source": [
    "def bad_function(x, y):\n",
    "    # Accesses the private batch dimension\n",
    "    return x.mean(\"batch\")\n",
    "\n",
    "x = ntorch.randn(dict(batch=10, height=100, width=100))\n",
    "y = ntorch.randn(dict(batch=10, height=100, width=100))\n",
    "\n",
    "try:\n",
    "    bad_function(x.mask_to(\"batch\"), y)\n",
    "except RuntimeError as e:\n",
    "    error = \"Error received: \" + str(e)\n",
    "error"
   ]
  },
  {
   "cell_type": "markdown",
   "metadata": {
    "colab_type": "text",
    "id": "hpwkRrV0q8JL"
   },
   "source": [
    "This is weak dynamic check and can be turned off by internal functions. In future versions, perhaps we can add function annotations to lift non-named functions to respect these properties. "
   ]
  },
  {
   "cell_type": "markdown",
   "metadata": {
    "colab_type": "text",
    "id": "QcTNI7Iuh8AT"
   },
   "source": [
    "# Example: Neural Attention"
   ]
  },
  {
   "cell_type": "markdown",
   "metadata": {
    "colab_type": "text",
    "id": "uUG43UwVrZbc"
   },
   "source": [
    "To demonstrate why these choices lead to better encapsulation properties, let's consider a real-world deep learning example. \n",
    "\n",
    "This example was proposed by my colleague Tim Rocktashel in the blog post describing einsum (https://rockt.github.io/2018/04/30/einsum). Tim's code was proposed as a better alternative to raw PyTorch. While I agree that einsum is a step forward, it still falls into many of the traps described above. \n",
    "\n",
    "\n"
   ]
  },
  {
   "cell_type": "markdown",
   "metadata": {
    "colab_type": "text",
    "id": "Gs3HJEErsTvs"
   },
   "source": [
    "Consider the problem of neural attention, which requires computing,\n",
    "\n",
    "$$\n",
    "\\begin{align*}\n",
    "\\mathbf{M}_t &= \\tanh(\\mathbf{W}^y\\mathbf{Y}+(\\mathbf{W}^h\\mathbf{h}_t+\\mathbf{W}^r\\mathbf{r}_{t-1})\\otimes \\mathbf{e}_L) & \\mathbf{M}_t &\\in\\mathbb{R}^{k\\times L}\\\\\n",
    "\\alpha_t &= \\text{softmax}(\\mathbf{w}^T\\mathbf{M}_t)&\\alpha_t&\\in\\mathbb{R}^L\\\\\n",
    "\\mathbf{r}_t &= \\mathbf{Y}\\alpha^T_t + \\tanh(\\mathbf{W}^t\\mathbf{r}_{t-1})&\\mathbf{r}_t&\\in\\mathbb{R}^k\n",
    "\\end{align*}\n",
    "$$"
   ]
  },
  {
   "cell_type": "markdown",
   "metadata": {
    "colab_type": "text",
    "id": "CGvKocKguAdu"
   },
   "source": [
    "First we setup the parameters. "
   ]
  },
  {
   "cell_type": "code",
   "execution_count": null,
   "metadata": {
    "colab": {},
    "colab_type": "code",
    "id": "PP3eiilYtUu9"
   },
   "outputs": [],
   "source": [
    "def random_ntensors(names, num=1, requires_grad=False):\n",
    "    tensors = [ntorch.randn(names, requires_grad=requires_grad)\n",
    "               for i in range(0, num)]\n",
    "    return tensors[0] if num == 1 else tensors\n",
    "\n",
    "class Param:\n",
    "    def __init__(self, in_hid, out_hid):\n",
    "        torch.manual_seed(0)\n",
    "        self.WY, self.Wh, self.Wr, self.Wt = \\\n",
    "            random_ntensors(dict(inhid=in_hid, outhid=out_hid),\n",
    "                            num=4, requires_grad=True)\n",
    "        self.bM, self.br, self.w = \\\n",
    "            random_ntensors(dict(outhid=out_hid), \n",
    "                            num=3,\n",
    "                            requires_grad=True)\n",
    "        "
   ]
  },
  {
   "cell_type": "markdown",
   "metadata": {
    "colab_type": "text",
    "id": "iERFd2mquEc2"
   },
   "source": [
    "Now consider the tensor-based einsum implementation of this function. "
   ]
  },
  {
   "cell_type": "code",
   "execution_count": null,
   "metadata": {
    "colab": {},
    "colab_type": "code",
    "id": "oD5eGKI_sZTJ"
   },
   "outputs": [],
   "source": [
    "# Einsum Implementation\n",
    "import torch.nn.functional as F\n",
    "def einsum_attn(params, Y, ht, rt1):\n",
    "    # -- [batch_size x hidden_dimension]\n",
    "    tmp = torch.einsum(\"ik,kl->il\", [ht, params.Wh.tensor]) + \\\n",
    "          torch.einsum(\"ik,kl->il\", [rt1, params.Wr.tensor])\n",
    "\n",
    "    Mt = torch.tanh(torch.einsum(\"ijk,kl->ijl\", [Y, params.WY.tensor]) + \\\n",
    "                tmp.unsqueeze(1).expand_as(Y) + params.bM.tensor)\n",
    "    # -- [batch_size x sequence_length]\n",
    "    at = F.softmax(torch.einsum(\"ijk,k->ij\", [Mt, params.w.tensor]), dim=-1)\n",
    "\n",
    "    # -- [batch_size x hidden_dimension]\n",
    "    rt = torch.einsum(\"ijk,ij->ik\", [Y, at]) + \\\n",
    "         torch.tanh(torch.einsum(\"ij,jk->ik\", [rt1, params.Wt.tensor]) + \n",
    "                    params.br.tensor)\n",
    "\n",
    "    # -- [batch_size x hidden_dimension], [batch_size x sequence_dimension]\n",
    "    return rt, at"
   ]
  },
  {
   "cell_type": "markdown",
   "metadata": {
    "colab_type": "text",
    "id": "FGbiXmf2uKN5"
   },
   "source": [
    "This implementation is an improvement over the naive PyTorch implementation. It removes many of the \n",
    "views and transposes that would be necessary to make this work. *However, it still uses `squeeze`, references the private batch dim, and usees comments that are not enforced.*"
   ]
  },
  {
   "cell_type": "markdown",
   "metadata": {
    "colab_type": "text",
    "id": "TzmJKd1UuyQd"
   },
   "source": [
    "Consider instead the `namedtensor` version: "
   ]
  },
  {
   "cell_type": "code",
   "execution_count": null,
   "metadata": {
    "colab": {},
    "colab_type": "code",
    "id": "f5_BX7z7szLk"
   },
   "outputs": [],
   "source": [
    "def namedtensor_attn(params, Y, ht, rt1):\n",
    "    tmp = ht.contract(\"inhid\", params.Wh) + rt1.contract(\"inhid\", params.Wr)\n",
    "    at = ntorch.tanh(Y.contract(\"inhid\", params.WY) + tmp + params.bM) \\\n",
    "         .contract(\"outhid\", params.w) \\\n",
    "         .softmax(\"seqlen\")\n",
    "\n",
    "    rt = Y.contract(\"seqlen\", at).shift(\"inhid -> (outhid)\") + \\\n",
    "         ntorch.tanh(rt1.contract(\"inhid\", params.Wt) + params.br)\n",
    "    return rt, at\n"
   ]
  },
  {
   "cell_type": "markdown",
   "metadata": {
    "colab_type": "text",
    "id": "KvtY1nWAsWVm"
   },
   "source": [
    "This code avoids all three traps.\n",
    "\n",
    "(Trap 1) The code never mentions the `batch` dim.\n",
    "\n",
    "(Trap 2) All broadcasting is done directly with contractions, there are no views.\n",
    "\n",
    "(Trap 3) Operations across dims are explicit. For instance, the softmax is clearly over the seqlen. "
   ]
  },
  {
   "cell_type": "code",
   "execution_count": null,
   "metadata": {
    "colab": {},
    "colab_type": "code",
    "id": "BKolTWWlvkzO"
   },
   "outputs": [],
   "source": [
    "# Run Einsum\n",
    "in_hid = 7; out_hid = 7\n",
    "Y = torch.randn(3, 5, in_hid)\n",
    "ht, rt1 = torch.randn(3, in_hid), torch.randn(3, in_hid)\n",
    "params = Param(in_hid, out_hid)\n",
    "r, a = einsum_attn(params, Y, ht, rt1)"
   ]
  },
  {
   "cell_type": "code",
   "execution_count": null,
   "metadata": {
    "colab": {},
    "colab_type": "code",
    "id": "jmqZQbzg-x8_"
   },
   "outputs": [],
   "source": [
    "# Run Named Tensor (hiding batch)\n",
    "Y = NamedTensor(Y, \"batch seqlen inhid\", mask=1)\n",
    "ht = NamedTensor(ht, \"batch inhid\", mask=1)\n",
    "rt1 = NamedTensor(rt1, \"batch inhid\", mask=1)\n",
    "nr, na = namedtensor_attn(params, Y, ht, rt1)"
   ]
  },
  {
   "cell_type": "markdown",
   "metadata": {
    "colab_type": "text",
    "id": "bHUQllYYw4Zc"
   },
   "source": [
    "# Conclusion / Request for Help"
   ]
  },
  {
   "cell_type": "markdown",
   "metadata": {
    "colab_type": "text",
    "id": "vzmW3BZnxFGD"
   },
   "source": [
    "Tools for deep learning help researchers implement standard models, but they also impact what researchers try. Current models can be built fine with the tools we have, but the programming practices are not going to scale to new models. \n",
    "\n",
    "(For instance, one space we have been working on recently is discrete latent variable models which often have many problem specific variables each with their own variable dimension. This setting breaks the current tensor paradigm almost immediately. )\n",
    "\n",
    "This blog post is just a prototype of where this approach could go. If you are interested, I would love contributors to the build out this library properly. Some ideas if you want to send a PR to  [namedtensor](https://github.com/harvardnlp/NamedTensor). Some ideas:\n",
    "\n",
    "1) **Extending beyond PyTorch**: Can we generalize this approach in a way that supports NumPy and Tensorflow?  \n",
    "\n",
    "\n",
    "2) **Interacting with PyTorch Modules**: Can we \"lift\" PyTorch modules with type annotations, so that we know how they change inputs?\n",
    "\n",
    "\n",
    "3) **Error Checking**: Can we add annotations to functions giving pre- and post -conditions so that dimensions are automatically checked.\n",
    "\n"
   ]
  }
 ],
 "metadata": {
  "colab": {
   "collapsed_sections": [],
   "name": "NamedTensor.ipynb",
   "provenance": [],
   "version": "0.3.2"
  },
  "kernelspec": {
   "display_name": "Python 3",
   "language": "python",
   "name": "python3"
  },
  "language_info": {
   "codemirror_mode": {
    "name": "ipython",
    "version": 3
   },
   "file_extension": ".py",
   "mimetype": "text/x-python",
   "name": "python",
   "nbconvert_exporter": "python",
   "pygments_lexer": "ipython3",
   "version": "3.6.8"
  }
 },
 "nbformat": 4,
 "nbformat_minor": 1
}
