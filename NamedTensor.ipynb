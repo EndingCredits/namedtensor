{
  "nbformat": 4,
  "nbformat_minor": 0,
  "metadata": {
    "colab": {
      "name": "NamedTensor.ipynb",
      "version": "0.3.2",
      "provenance": [],
      "collapsed_sections": [],
      "include_colab_link": true
    },
    "kernelspec": {
      "name": "python3",
      "display_name": "Python 3"
    }
  },
  "cells": [
    {
      "cell_type": "markdown",
      "metadata": {
        "id": "view-in-github",
        "colab_type": "text"
      },
      "source": [
        "<a href=\"https://colab.research.google.com/github/harvardnlp/namedtensor/blob/master/NamedTensor.ipynb\" target=\"_parent\"><img src=\"https://colab.research.google.com/assets/colab-badge.svg\" alt=\"Open In Colab\"/></a>"
      ]
    },
    {
      "metadata": {
        "id": "ZskQMOXCDP9O",
        "colab_type": "text"
      },
      "cell_type": "markdown",
      "source": [
        "# Tensor Considered Harmful\n",
        "\n",
        "*Alexander Rush* - @harvardnlp"
      ]
    },
    {
      "metadata": {
        "id": "dnuYLZwvDYVP",
        "colab_type": "text"
      },
      "cell_type": "markdown",
      "source": [
        "<i>\n",
        "TL;DR: Despite their ubiquity in modern frameworks, tensors are a broken programming concept . They fail at encapsulation, rely on opaque references, and force checkable properties into the documentation.  Their main benefit, perceived closeness to mathematical notation, falls apart in large code bases. This post presents a proof-of-concept of a simple alternative approach **named tensors** that forces all dimensions of a tensor to have a human-readable name. While this seems like a small change, I show that it eliminates the need for indexing, dim/axis arguments, and tricks like einsum. Furthermore, it opens up the ability for a range of dynamic error checking. The beta PyTorch library accompanying this blog post is available at [harvardnlp/namedtensor](https://github.com/harvardnlp/NamedTensor).\n",
        "</i>"
      ]
    },
    {
      "metadata": {
        "id": "wd9yuKJ2Hhdj",
        "colab_type": "code",
        "colab": {}
      },
      "cell_type": "code",
      "source": [
        "!rm -fr NamedTensor/; git clone -q https://github.com/harvardnlp/NamedTensor.git\n",
        "!cd NamedTensor; pip install -q .  \n",
        "!pip install -q torch numpy opt_einsum"
      ],
      "execution_count": 0,
      "outputs": []
    },
    {
      "metadata": {
        "id": "XCQjKra_H9gj",
        "colab_type": "code",
        "colab": {}
      },
      "cell_type": "code",
      "source": [
        "import numpy \n",
        "import torch\n",
        "import namedtensor as nt\n",
        "from namedtensor import NamedTensor\n",
        "nt._im_init()"
      ],
      "execution_count": 0,
      "outputs": []
    },
    {
      "metadata": {
        "id": "X1XnmQLgDeHy",
        "colab_type": "text"
      },
      "cell_type": "markdown",
      "source": [
        "## The Problem: Tensor Traps\n",
        "\n",
        "The central object of mathematical frameworks like numpy, pytorch, chainer, and tensorflow is of course the tensor, a multi-dimensional array object. Let's look at a visual example of tensor. "
      ]
    },
    {
      "metadata": {
        "id": "9LZarsn5HgUa",
        "colab_type": "code",
        "colab": {
          "base_uri": "https://localhost:8080/",
          "height": 35
        },
        "outputId": "69ff57fe-b5b7-4f3f-8ae4-9bbd71c538ef"
      },
      "cell_type": "code",
      "source": [
        "ims = torch.tensor(numpy.load('NamedTensor/examples/test_images.npy'))\n",
        "ims.shape"
      ],
      "execution_count": 3,
      "outputs": [
        {
          "output_type": "execute_result",
          "data": {
            "text/plain": [
              "torch.Size([6, 96, 96, 3])"
            ]
          },
          "metadata": {
            "tags": []
          },
          "execution_count": 3
        }
      ]
    },
    {
      "metadata": {
        "id": "_A4CksffJ5sT",
        "colab_type": "text"
      },
      "cell_type": "markdown",
      "source": [
        "So what is this object? Tensors carry around an implied tuple of their dimensions. Here there are 4, corresponding to *batch_size*, *height*, *width*, and *channels*. Most of the time you can figure this out by some comment in the code that looks like this:  "
      ]
    },
    {
      "metadata": {
        "id": "w_SAVtJdSCQx",
        "colab_type": "code",
        "colab": {},
        "cellView": "both"
      },
      "cell_type": "code",
      "source": [
        ""
      ],
      "execution_count": 0,
      "outputs": []
    },
    {
      "metadata": {
        "id": "euWWfx_yKh85",
        "colab_type": "code",
        "colab": {
          "base_uri": "https://localhost:8080/",
          "height": 113
        },
        "outputId": "8d248d7d-7e1d-4da9-d997-74a2a89fa45d"
      },
      "cell_type": "code",
      "source": [
        "# batch_size x height x width x channels\n",
        "ims[0]"
      ],
      "execution_count": 4,
      "outputs": [
        {
          "output_type": "execute_result",
          "data": {
            "image/png": "[encoded data removed]",
            "text/plain": [
              ""
            ]
          },
          "metadata": {
            "tags": []
          },
          "execution_count": 4
        }
      ]
    },
    {
      "metadata": {
        "id": "oec2Ah5eRgEp",
        "colab_type": "text"
      },
      "cell_type": "markdown",
      "source": [
        "These objects are concise, mathy, and very efficient internally. They are at the center of every modern machine learning system. However in this post I will argue that they are inherently broken."
      ]
    },
    {
      "metadata": {
        "id": "ampMvKRpHYvv",
        "colab_type": "text"
      },
      "cell_type": "markdown",
      "source": [
        "\n",
        "**Reason 1: Convention instead of Encapsulation**\n",
        "\n",
        "Code that manipulates tensors does so by indexing these dimensions. So if you want to rotate the image you read the comment, decide what needs to get changed and alter it. "
      ]
    },
    {
      "metadata": {
        "id": "JuYMwAFtLBcl",
        "colab_type": "code",
        "colab": {
          "base_uri": "https://localhost:8080/",
          "height": 113
        },
        "outputId": "c31cf661-00da-43de-f5cf-6eaf8d1f2200"
      },
      "cell_type": "code",
      "source": [
        "def rotate(ims):\n",
        "    # batch_size x height x width x channels\n",
        "    rotated = ims.transpose(1, 2)\n",
        "    \n",
        "    # batch_size x width x height x channels\n",
        "    return rotated\n",
        "rotate(ims)[0]"
      ],
      "execution_count": 5,
      "outputs": [
        {
          "output_type": "execute_result",
          "data": {
            "image/png": "[encoded data removed]",
            "text/plain": [
              ""
            ]
          },
          "metadata": {
            "tags": []
          },
          "execution_count": 5
        }
      ]
    },
    {
      "metadata": {
        "id": "gjjCOsyBLvtV",
        "colab_type": "text"
      },
      "cell_type": "markdown",
      "source": [
        "\n",
        "\n",
        "If we are honest about the semantics of this object, the *batch* dimension is private. The property of rotation is independent of the batch, or for that matter, any other private dimensions that the tensor might have. It's quite worrisome that if we pass in a singleton image this function runs fine but fails. "
      ]
    },
    {
      "metadata": {
        "id": "bnh57z49L9Lu",
        "colab_type": "code",
        "colab": {
          "base_uri": "https://localhost:8080/",
          "height": 35
        },
        "outputId": "578d1992-7e8e-4f11-eb6d-a12b26ebeca5"
      },
      "cell_type": "code",
      "source": [
        "rotate(ims[0]).shape"
      ],
      "execution_count": 6,
      "outputs": [
        {
          "output_type": "execute_result",
          "data": {
            "text/plain": [
              "torch.Size([96, 3, 96])"
            ]
          },
          "metadata": {
            "tags": []
          },
          "execution_count": 6
        }
      ]
    },
    {
      "metadata": {
        "id": "1DV0yQ09L7AR",
        "colab_type": "text"
      },
      "cell_type": "markdown",
      "source": [
        "**Reason 2: Broadcasting instead of Semantics**\n",
        "\n",
        "Assume that we want to mask out a part of the image. We can do this using *broadcasting* by first creating a mask and then applying it across dimensions."
      ]
    },
    {
      "metadata": {
        "id": "Sp0TsC0yOBxr",
        "colab_type": "code",
        "colab": {
          "base_uri": "https://localhost:8080/",
          "height": 113
        },
        "outputId": "77535d69-7593-451e-c46f-69c0a64e117a"
      },
      "cell_type": "code",
      "source": [
        "# height x width\n",
        "mask = torch.randint(0, 2, [96, 96]).byte()\n",
        "mask"
      ],
      "execution_count": 7,
      "outputs": [
        {
          "output_type": "execute_result",
          "data": {
            "image/png": "[encoded data removed]",
            "text/plain": [
              ""
            ]
          },
          "metadata": {
            "tags": []
          },
          "execution_count": 7
        }
      ]
    },
    {
      "metadata": {
        "id": "cO9IWw46O33Z",
        "colab_type": "code",
        "colab": {
          "base_uri": "https://localhost:8080/",
          "height": 35
        },
        "outputId": "ece6ed83-aeb0-4fe5-b7fa-9dc51c60f731"
      },
      "cell_type": "code",
      "source": [
        "try:\n",
        "    ims.masked_fill(mask, 0)\n",
        "except RuntimeError:\n",
        "    print(\"Broadcasing fail\", mask.shape, ims.shape)"
      ],
      "execution_count": 8,
      "outputs": [
        {
          "output_type": "stream",
          "text": [
            "Broadcasing fail torch.Size([96, 96]) torch.Size([6, 96, 96, 3])\n"
          ],
          "name": "stdout"
        }
      ]
    },
    {
      "metadata": {
        "id": "9BsD5FpGQMqv",
        "colab_type": "text"
      },
      "cell_type": "markdown",
      "source": [
        "This fails because even though we knew that we were building a *height* and *width* shaped mask, the rules of broadcasting do not have the correct semantics. To make this work, you have to use either `view` or `squeeze`.   "
      ]
    },
    {
      "metadata": {
        "id": "AYso46ojPfuQ",
        "colab_type": "code",
        "colab": {
          "base_uri": "https://localhost:8080/",
          "height": 113
        },
        "outputId": "b0341a63-63fd-432e-f288-232d6f3b484d"
      },
      "cell_type": "code",
      "source": [
        "# either \n",
        "mask = mask.unsqueeze(-1)\n",
        "# or \n",
        "mask = mask.view(96, 96, 1)\n",
        "\n",
        "# height x width x channels\n",
        "ims.masked_fill(mask, 1)[0]"
      ],
      "execution_count": 9,
      "outputs": [
        {
          "output_type": "execute_result",
          "data": {
            "image/png": "[encoded data removed]",
            "text/plain": [
              ""
            ]
          },
          "metadata": {
            "tags": []
          },
          "execution_count": 9
        }
      ]
    },
    {
      "metadata": {
        "id": "Whz5pqd_SRXH",
        "colab_type": "text"
      },
      "cell_type": "markdown",
      "source": [
        "This code is slightly better at encapsulation since it hides the leftmost dimensions. However reading through real code, dozens of `view`s and `squeeze`s become completely unreadable."
      ]
    },
    {
      "metadata": {
        "id": "5UyG7El7Snbi",
        "colab_type": "text"
      },
      "cell_type": "markdown",
      "source": [
        "**Reason 3: Comments instead of Checks**\n",
        "\n"
      ]
    },
    {
      "metadata": {
        "id": "9LWcPiviTwWc",
        "colab_type": "text"
      },
      "cell_type": "markdown",
      "source": [
        "It is possible that you look at the top two issues and think that as long as you are careful, these issues will be caught by run time errors. \n",
        "However, combination of broadcasting and indexing can lead to problems that are very tough to catch.  "
      ]
    },
    {
      "metadata": {
        "id": "HfkPrgC1TPWh",
        "colab_type": "code",
        "colab": {
          "base_uri": "https://localhost:8080/",
          "height": 113
        },
        "outputId": "f373875b-a4ad-4bdd-eed3-1334f3f16f1c"
      },
      "cell_type": "code",
      "source": [
        "\n",
        "a = ims[1].mean(2, keepdim=True)\n",
        "# height x width x 1\n",
        "\n",
        "# (Lots of code in between)\n",
        "#  .......................\n",
        "\n",
        "# Code comment explaining what should be happening.\n",
        "dim = 1\n",
        "b = a + ims.mean(dim, keepdim=True)[0]\n",
        "\n",
        "\n",
        "# (Or maybe should be a 2? or a 0?)\n",
        "index = 2\n",
        "b = a + ims.mean(dim, keepdim=True)[0]\n",
        "b"
      ],
      "execution_count": 10,
      "outputs": [
        {
          "output_type": "execute_result",
          "data": {
            "image/png": "[encoded data removed]",
            "text/plain": [
              ""
            ]
          },
          "metadata": {
            "tags": []
          },
          "execution_count": 10
        }
      ]
    },
    {
      "metadata": {
        "id": "P4WyEXyYVFGp",
        "colab_type": "text"
      },
      "cell_type": "markdown",
      "source": [
        "Here we assume that the coder is trying to combine two tensor using both reduction operations and dimension indexing. (Honestly at this point I have forgetten the dimensions stand for). The main point though is that this code will run fine for whatever value `dim` is. The comment is useless here if the code doesn't throw a run time error. "
      ]
    },
    {
      "metadata": {
        "id": "b9gDFB-WV9_h",
        "colab_type": "text"
      },
      "cell_type": "markdown",
      "source": [
        "## An Opinionated Proposal: Named Tensors"
      ]
    },
    {
      "metadata": {
        "id": "khfYKuBcWPMz",
        "colab_type": "text"
      },
      "cell_type": "markdown",
      "source": [
        "My proposal is simple but dogmatic. Tensor is broken, we should use named tensors. Ideally:\n",
        "\n",
        "**1) All dimensions should have a unique human-readable name. **\n",
        "\n",
        "**2) No function should have an index-based `dim` / `axis` argument. **\n",
        "\n",
        "**3) Implicit broadcasting should be replaced with *contraction*. **\n",
        "\n",
        "**4) Transposition should be explicit.**\n",
        "\n",
        "**5) Indexing should be phased out. **\n",
        "\n",
        "**6) Knowing private dimensions should never be necessary.**\n",
        "\n"
      ]
    },
    {
      "metadata": {
        "id": "cmFZCfgZYm3i",
        "colab_type": "text"
      },
      "cell_type": "markdown",
      "source": [
        "## A Prototype: The `namedtensor` Library\n",
        "\n",
        "To experiment with these ideas I have built a library known as NamedTensor. Currently parts of it are PyTorch specific, but in theory a similar idea could be used in other frameworks. The code is available at [here](https://github.com/harvardnlp/namedtensor). Let's go through how each of these ideas are implemented in practice. "
      ]
    },
    {
      "metadata": {
        "id": "SYth2yPxZobO",
        "colab_type": "text"
      },
      "cell_type": "markdown",
      "source": [
        "### 1) Assigning Names"
      ]
    },
    {
      "metadata": {
        "id": "0177b_0vZ303",
        "colab_type": "text"
      },
      "cell_type": "markdown",
      "source": [
        "The core of the library is an object that wraps a tensor and provides names for each dimension. Here we simply wrap a given torch tensor with dimension names."
      ]
    },
    {
      "metadata": {
        "id": "sLnQA8VOZsEx",
        "colab_type": "code",
        "colab": {
          "base_uri": "https://localhost:8080/",
          "height": 35
        },
        "outputId": "933e7c65-cd87-4510-aead-d4e4b9b39923"
      },
      "cell_type": "code",
      "source": [
        "named_ims = NamedTensor(ims, \"batch height width channels\")\n",
        "named_ims.named_shape"
      ],
      "execution_count": 11,
      "outputs": [
        {
          "output_type": "execute_result",
          "data": {
            "text/plain": [
              "OrderedDict([('batch', 6), ('height', 96), ('width', 96), ('channels', 3)])"
            ]
          },
          "metadata": {
            "tags": []
          },
          "execution_count": 11
        }
      ]
    },
    {
      "metadata": {
        "id": "eLjL4O7_ZiyW",
        "colab_type": "text"
      },
      "cell_type": "markdown",
      "source": [
        "Alternatively the library has wrappers for the pytorch constructors to turn them into named tensors. "
      ]
    },
    {
      "metadata": {
        "id": "eiYe47t6aRnd",
        "colab_type": "code",
        "colab": {
          "base_uri": "https://localhost:8080/",
          "height": 113
        },
        "outputId": "d6ddae70-ab6a-4ac8-954a-c806a31f7589"
      },
      "cell_type": "code",
      "source": [
        "tensor = nt.randn(dict(height=96, width=96, channels=3))\n",
        "tensor"
      ],
      "execution_count": 12,
      "outputs": [
        {
          "output_type": "execute_result",
          "data": {
            "image/png": "[encoded data removed]",
            "text/plain": [
              ""
            ]
          },
          "metadata": {
            "tags": []
          },
          "execution_count": 12
        }
      ]
    },
    {
      "metadata": {
        "id": "lNgHsAmDbxMc",
        "colab_type": "text"
      },
      "cell_type": "markdown",
      "source": [
        "Most simple operations simply keep around the named tensor properties. "
      ]
    },
    {
      "metadata": {
        "id": "T-wGpWZAb4AL",
        "colab_type": "code",
        "colab": {
          "base_uri": "https://localhost:8080/",
          "height": 35
        },
        "outputId": "0122cd3c-c4a2-4aa6-b8db-f2264f4d2868"
      },
      "cell_type": "code",
      "source": [
        "tensor.log().named_shape"
      ],
      "execution_count": 13,
      "outputs": [
        {
          "output_type": "execute_result",
          "data": {
            "text/plain": [
              "OrderedDict([('height', 96), ('width', 96), ('channels', 3)])"
            ]
          },
          "metadata": {
            "tags": []
          },
          "execution_count": 13
        }
      ]
    },
    {
      "metadata": {
        "id": "GfVktrThcIF2",
        "colab_type": "text"
      },
      "cell_type": "markdown",
      "source": [
        "### 2) Names as Accessors"
      ]
    },
    {
      "metadata": {
        "id": "iNCJcWeccTZW",
        "colab_type": "text"
      },
      "cell_type": "markdown",
      "source": [
        "The first benefit of names comes from the ability to replace the need for `dim` and `axis` style arguments entirely. For example, lets say we wanted to sort each column. "
      ]
    },
    {
      "metadata": {
        "id": "-HdhRVfqcyd2",
        "colab_type": "code",
        "colab": {
          "base_uri": "https://localhost:8080/",
          "height": 131
        },
        "outputId": "e4851b2e-96db-435d-e7b4-7bb5cfeab16c"
      },
      "cell_type": "code",
      "source": [
        "sorted_pic, _ = tensor.sort(\"width\")\n",
        "print(sorted_pic.named_shape)\n",
        "sorted_pic.tensor"
      ],
      "execution_count": 14,
      "outputs": [
        {
          "output_type": "stream",
          "text": [
            "OrderedDict([('height', 96), ('width', 96), ('channels', 3)])\n"
          ],
          "name": "stdout"
        },
        {
          "output_type": "execute_result",
          "data": {
            "image/png": "[encoded data removed]",
            "text/plain": [
              ""
            ]
          },
          "metadata": {
            "tags": []
          },
          "execution_count": 14
        }
      ]
    },
    {
      "metadata": {
        "id": "JRljeAlweL7X",
        "colab_type": "text"
      },
      "cell_type": "markdown",
      "source": [
        "Another common operation is a *reduction*  where one or more dimensions is pooled out.   "
      ]
    },
    {
      "metadata": {
        "id": "6Rji52BmemX9",
        "colab_type": "code",
        "colab": {
          "base_uri": "https://localhost:8080/",
          "height": 131
        },
        "outputId": "4a7c6145-4cf0-4e2a-ae25-cc498360e744"
      },
      "cell_type": "code",
      "source": [
        "averaged_images = named_ims.mean(\"batch\")\n",
        "print(averaged_images.named_shape)\n",
        "averaged_images"
      ],
      "execution_count": 15,
      "outputs": [
        {
          "output_type": "stream",
          "text": [
            "OrderedDict([('height', 96), ('width', 96), ('channels', 3)])\n"
          ],
          "name": "stdout"
        },
        {
          "output_type": "execute_result",
          "data": {
            "image/png": "[encoded data removed]",
            "text/plain": [
              ""
            ]
          },
          "metadata": {
            "tags": []
          },
          "execution_count": 15
        }
      ]
    },
    {
      "metadata": {
        "id": "5Ky7Q3Kge8Mh",
        "colab_type": "code",
        "colab": {
          "base_uri": "https://localhost:8080/",
          "height": 131
        },
        "outputId": "75389f67-c207-4b3d-8076-817c211ca5d5"
      },
      "cell_type": "code",
      "source": [
        "averaged_images = named_ims.mean(\"batch channels\")\n",
        "print(averaged_images.named_shape)\n",
        "averaged_images"
      ],
      "execution_count": 16,
      "outputs": [
        {
          "output_type": "stream",
          "text": [
            "OrderedDict([('height', 96), ('width', 96)])\n"
          ],
          "name": "stdout"
        },
        {
          "output_type": "execute_result",
          "data": {
            "image/png": "[encoded data removed]",
            "text/plain": [
              ""
            ]
          },
          "metadata": {
            "tags": []
          },
          "execution_count": 16
        }
      ]
    },
    {
      "metadata": {
        "id": "5kt1vZ__mqXL",
        "colab_type": "text"
      },
      "cell_type": "markdown",
      "source": [
        ""
      ]
    },
    {
      "metadata": {
        "id": "m88W0sfufEq1",
        "colab_type": "text"
      },
      "cell_type": "markdown",
      "source": [
        "### 3) Broadcasting and Contraction\n",
        "\n",
        "The names that are provided also provide the basis for broadcasting operations. When there is a binary operations between two named tensors they first ensure that all dimension are matched in name and then apply standard broadcasting. To demonstrate let's return to the masking example above. Here we simply declare the names of the dimensions of our mask, and ask the library to figure out the broadcasting. "
      ]
    },
    {
      "metadata": {
        "id": "ffjF33e4fhLs",
        "colab_type": "code",
        "colab": {
          "base_uri": "https://localhost:8080/",
          "height": 113
        },
        "outputId": "cad851c9-11c3-49aa-b58b-b1a3e931f182"
      },
      "cell_type": "code",
      "source": [
        "mask = NamedTensor(torch.randint(0, 2, [96, 96]).byte(), \"height width\")\n",
        "named_ims.masked_fill(mask, 1).get(\"batch\", 0)"
      ],
      "execution_count": 17,
      "outputs": [
        {
          "output_type": "execute_result",
          "data": {
            "image/png": "[encoded data removed]",
            "text/plain": [
              ""
            ]
          },
          "metadata": {
            "tags": []
          },
          "execution_count": 17
        }
      ]
    },
    {
      "metadata": {
        "id": "SB93TbaxhBpS",
        "colab_type": "text"
      },
      "cell_type": "markdown",
      "source": [
        "Similar operations can be used for standard matrix operations such as addition and multiplication."
      ]
    },
    {
      "metadata": {
        "id": "tnnPgP5xjlwa",
        "colab_type": "code",
        "colab": {
          "base_uri": "https://localhost:8080/",
          "height": 113
        },
        "outputId": "91e5b29a-f5a8-489f-bd64-ba2d509b250b"
      },
      "cell_type": "code",
      "source": [
        "(named_ims * mask.double()).get(\"batch\", 0)"
      ],
      "execution_count": 18,
      "outputs": [
        {
          "output_type": "execute_result",
          "data": {
            "image/png": "[encoded data removed]",
            "text/plain": [
              ""
            ]
          },
          "metadata": {
            "tags": []
          },
          "execution_count": 18
        }
      ]
    },
    {
      "metadata": {
        "id": "Woje-ckrj4Bm",
        "colab_type": "text"
      },
      "cell_type": "markdown",
      "source": [
        "Another useful feature is to the `contract` method which applies tensor contraction between two name tensors. Tensor contraction, the machinery behind `einsum`, is an elegant way of thinking about generalizations of dot-products.  "
      ]
    },
    {
      "metadata": {
        "id": "t0H4P6NnkK4t",
        "colab_type": "code",
        "colab": {
          "base_uri": "https://localhost:8080/",
          "height": 71
        },
        "outputId": "1adaf1b6-fdf3-43f9-de2f-516fea3a6dc3"
      },
      "cell_type": "code",
      "source": [
        "tensor1 = named_ims.get(\"batch\", 0)\n",
        "tensor2 = named_ims.get(\"batch\", 0)\n",
        "\n",
        "\n",
        "# Runs torch.einsum(ijk,ijk->jk, tensor1, tensor2)\n",
        "print(tensor1.contract(\"height\", tensor2).named_shape)\n",
        "\n",
        "# Runs torch.einsum(ijk,ijk->il, tensor1, tensor2)\n",
        "print(tensor1.contract(\"width\", tensor2).named_shape)\n",
        "\n",
        "# Runs torch.einsum(ijk,ijk->l, tensor1, tensor2)\n",
        "print(tensor1.contract(\"height width\", tensor2).named_shape)\n"
      ],
      "execution_count": 19,
      "outputs": [
        {
          "output_type": "stream",
          "text": [
            "OrderedDict([('width', 96), ('channels', 3)])\n",
            "OrderedDict([('height', 96), ('channels', 3)])\n",
            "OrderedDict([('channels', 3)])\n"
          ],
          "name": "stdout"
        }
      ]
    },
    {
      "metadata": {
        "id": "2T3wTh88lb7h",
        "colab_type": "text"
      },
      "cell_type": "markdown",
      "source": [
        "Similar notation can be used for spare indexing. This is useful for embedding lookups and other sparse operations. "
      ]
    },
    {
      "metadata": {
        "id": "iKWmZyHYlsQV",
        "colab_type": "code",
        "colab": {
          "base_uri": "https://localhost:8080/",
          "height": 85
        },
        "outputId": "55391c89-6530-4052-b0a6-d2a018ad13c7"
      },
      "cell_type": "code",
      "source": [
        "tensor1 = named_ims.get(\"batch\", 0) \n",
        "tensor2, _ = NamedTensor(torch.randint(0, 96, [50]).long(), \"lookups\") \\\n",
        "             .sort(\"lookups\")\n",
        "\n",
        "# Select 50 random rows.\n",
        "selected = tensor1.index_select(\"height\", tensor2)\n",
        "print(selected.named_shape)\n",
        "selected"
      ],
      "execution_count": 20,
      "outputs": [
        {
          "output_type": "stream",
          "text": [
            "OrderedDict([('lookups', 50), ('width', 96), ('channels', 3)])\n"
          ],
          "name": "stdout"
        },
        {
          "output_type": "execute_result",
          "data": {
            "image/png": "[encoded data removed]",
            "text/plain": [
              ""
            ]
          },
          "metadata": {
            "tags": []
          },
          "execution_count": 20
        }
      ]
    },
    {
      "metadata": {
        "id": "AKTInxARmYgY",
        "colab_type": "text"
      },
      "cell_type": "markdown",
      "source": [
        "### 4) Transposition Should Be Explicit "
      ]
    },
    {
      "metadata": {
        "id": "S5GfSRZQnDq4",
        "colab_type": "text"
      },
      "cell_type": "markdown",
      "source": [
        "Behind the scenes all of the named tensors are acting as tensor objects. As such thing like order and stride of dimensions does matter. Operations like `transpose` and `view` are crucial for maintaining this, but are unfortunately quite error-prone. \n",
        "Instead I propose a single method `shift` that borrowsheavily from the Alex Rogozhnikov's excellent [einops](https://github.com/arogozhnikov/einops) package.\n",
        " "
      ]
    },
    {
      "metadata": {
        "id": "KyBAO9_3qj41",
        "colab_type": "code",
        "outputId": "49db63f6-ec9d-4268-845c-f9377a2c8078",
        "colab": {
          "base_uri": "https://localhost:8080/",
          "height": 113
        }
      },
      "cell_type": "code",
      "source": [
        "tensor = NamedTensor(ims[0], \"h w c\")\n",
        "tensor"
      ],
      "execution_count": 21,
      "outputs": [
        {
          "output_type": "execute_result",
          "data": {
            "image/png": "[encoded data removed]",
            "text/plain": [
              ""
            ]
          },
          "metadata": {
            "tags": []
          },
          "execution_count": 21
        }
      ]
    },
    {
      "metadata": {
        "id": "w2hdSaRKoHky",
        "colab_type": "text"
      },
      "cell_type": "markdown",
      "source": [
        "Standard calls to shift transpose dimensions."
      ]
    },
    {
      "metadata": {
        "id": "YJBHGKpLsX8a",
        "colab_type": "code",
        "outputId": "013d4179-9efc-4659-89e1-f0c5e4459f5c",
        "colab": {
          "base_uri": "https://localhost:8080/",
          "height": 113
        }
      },
      "cell_type": "code",
      "source": [
        "tensor.shift(\"w h c\")"
      ],
      "execution_count": 22,
      "outputs": [
        {
          "output_type": "execute_result",
          "data": {
            "image/png": "[encoded data removed]",
            "text/plain": [
              ""
            ]
          },
          "metadata": {
            "tags": []
          },
          "execution_count": 22
        }
      ]
    },
    {
      "metadata": {
        "id": "4C7y6HsOoGvz",
        "colab_type": "text"
      },
      "cell_type": "markdown",
      "source": [
        "Calls with of the form \"a -> (b c)\" split dimensions, whereas \"(a b) -> c\" merge them. "
      ]
    },
    {
      "metadata": {
        "id": "p731PTUs2HXW",
        "colab_type": "code",
        "outputId": "49a6f57d-f994-463e-a00e-c897528df4e1",
        "colab": {
          "base_uri": "https://localhost:8080/",
          "height": 35
        }
      },
      "cell_type": "code",
      "source": [
        "tensor = NamedTensor(ims[0], \"h w c\")\n",
        "tensor.shift('h -> (height q)', height=8).named_shape"
      ],
      "execution_count": 23,
      "outputs": [
        {
          "output_type": "execute_result",
          "data": {
            "text/plain": [
              "OrderedDict([('height', 8), ('q', 12), ('w', 96), ('c', 3)])"
            ]
          },
          "metadata": {
            "tags": []
          },
          "execution_count": 23
        }
      ]
    },
    {
      "metadata": {
        "id": "uD1iruomtanM",
        "colab_type": "code",
        "outputId": "60e0bdf6-9bb0-4c9f-82d6-9ebfd5af4230",
        "colab": {
          "base_uri": "https://localhost:8080/",
          "height": 35
        }
      },
      "cell_type": "code",
      "source": [
        "tensor = NamedTensor(ims, 'b h w c')\n",
        "tensor.shift('(b h) -> bh').named_shape\n"
      ],
      "execution_count": 24,
      "outputs": [
        {
          "output_type": "execute_result",
          "data": {
            "text/plain": [
              "OrderedDict([('bh', 576), ('w', 96), ('c', 3)])"
            ]
          },
          "metadata": {
            "tags": []
          },
          "execution_count": 24
        }
      ]
    },
    {
      "metadata": {
        "id": "8h6ZCcrgoeEg",
        "colab_type": "text"
      },
      "cell_type": "markdown",
      "source": [
        "Shifts can be chained in the same function."
      ]
    },
    {
      "metadata": {
        "id": "74kpc4j-t1Sb",
        "colab_type": "code",
        "outputId": "a51a421d-819a-4115-8ad2-5fc4e3b0aed0",
        "colab": {
          "base_uri": "https://localhost:8080/",
          "height": 113
        }
      },
      "cell_type": "code",
      "source": [
        "tensor.shift('(b w) -> bw', 'h bw c')\n"
      ],
      "execution_count": 25,
      "outputs": [
        {
          "output_type": "execute_result",
          "data": {
            "image/png": "[encoded data removed]",
            "text/plain": [
              ""
            ]
          },
          "metadata": {
            "tags": []
          },
          "execution_count": 25
        }
      ]
    },
    {
      "metadata": {
        "id": "ZKXtJ4gSonIZ",
        "colab_type": "text"
      },
      "cell_type": "markdown",
      "source": [
        "Just for fun, here are some of the crazier examples from *einops* in this notation."
      ]
    },
    {
      "metadata": {
        "id": "JnsFFFGPkxBs",
        "colab_type": "code",
        "outputId": "150ba740-dc7b-4b20-98a6-6ef2355f1d1a",
        "colab": {
          "base_uri": "https://localhost:8080/",
          "height": 305
        }
      },
      "cell_type": "code",
      "source": [
        "tensor.shift(\"b -> (b1 b2)\", '(b2 h) -> a', '(b1 w) -> d', 'a d c', b1=2)"
      ],
      "execution_count": 26,
      "outputs": [
        {
          "output_type": "execute_result",
          "data": {
            "image/png": "[encoded data removed]",
            "text/plain": [
              ""
            ]
          },
          "metadata": {
            "tags": []
          },
          "execution_count": 26
        }
      ]
    },
    {
      "metadata": {
        "id": "6XHpOv62kelh",
        "colab_type": "code",
        "outputId": "2d24947d-80d4-4c4d-b3fb-a1b4b687348a",
        "colab": {
          "base_uri": "https://localhost:8080/",
          "height": 209
        }
      },
      "cell_type": "code",
      "source": [
        "tensor.shift('w -> (w w2)', '(h w2) -> a', '(b w) -> d', 'a d c', w2=2)"
      ],
      "execution_count": 27,
      "outputs": [
        {
          "output_type": "execute_result",
          "data": {
            "image/png": "[encoded data removed]",
            "text/plain": [
              ""
            ]
          },
          "metadata": {
            "tags": []
          },
          "execution_count": 27
        }
      ]
    },
    {
      "metadata": {
        "id": "9xusGrzNkVKW",
        "colab_type": "code",
        "outputId": "394b34bc-0039-49a9-9350-2efc17443c57",
        "colab": {
          "base_uri": "https://localhost:8080/",
          "height": 113
        }
      },
      "cell_type": "code",
      "source": [
        "tensor.shift('(b w) -> a', 'h a c')"
      ],
      "execution_count": 28,
      "outputs": [
        {
          "output_type": "execute_result",
          "data": {
            "image/png": "[encoded data removed]",
            "text/plain": [
              ""
            ]
          },
          "metadata": {
            "tags": []
          },
          "execution_count": 28
        }
      ]
    },
    {
      "metadata": {
        "id": "nsR9xjHMCXv2",
        "colab_type": "code",
        "outputId": "55faf37d-bbb2-4533-ad5d-e412f5452f9f",
        "colab": {
          "base_uri": "https://localhost:8080/",
          "height": 113
        }
      },
      "cell_type": "code",
      "source": [
        "tensor.shift('(w b) -> a', 'h a c')"
      ],
      "execution_count": 29,
      "outputs": [
        {
          "output_type": "execute_result",
          "data": {
            "image/png": "[encoded data removed]",
            "text/plain": [
              ""
            ]
          },
          "metadata": {
            "tags": []
          },
          "execution_count": 29
        }
      ]
    },
    {
      "metadata": {
        "id": "OowFiE4jCkXH",
        "colab_type": "code",
        "outputId": "4f6c8c6b-5af5-4273-80c2-6417d8562fdc",
        "colab": {
          "base_uri": "https://localhost:8080/",
          "height": 113
        }
      },
      "cell_type": "code",
      "source": [
        "tensor = NamedTensor(ims, 'b h w c')\n",
        "tensor.mean('b')"
      ],
      "execution_count": 30,
      "outputs": [
        {
          "output_type": "execute_result",
          "data": {
            "image/png": "[encoded data removed]",
            "text/plain": [
              ""
            ]
          },
          "metadata": {
            "tags": []
          },
          "execution_count": 30
        }
      ]
    },
    {
      "metadata": {
        "id": "FYX0z4-aEsLh",
        "colab_type": "code",
        "outputId": "649e383d-4a1c-4856-8c70-a6ca8c94e949",
        "colab": {
          "base_uri": "https://localhost:8080/",
          "height": 305
        }
      },
      "cell_type": "code",
      "source": [
        "tensor = NamedTensor(ims, 'b h w c')\n",
        "tensor.shift(\"h -> (h h2)\", \"w -> (w w2)\", h2=2, w2=2).mean(\"h2 w2\").shift(\"(b w) -> bw\")"
      ],
      "execution_count": 31,
      "outputs": [
        {
          "output_type": "execute_result",
          "data": {
            "image/png": "[encoded data removed]",
            "text/plain": [
              ""
            ]
          },
          "metadata": {
            "tags": []
          },
          "execution_count": 31
        }
      ]
    },
    {
      "metadata": {
        "id": "BssZDH91Kjdv",
        "colab_type": "code",
        "outputId": "a9ca24a8-6307-4a3b-c31a-1a30146603bf",
        "colab": {
          "base_uri": "https://localhost:8080/",
          "height": 305
        }
      },
      "cell_type": "code",
      "source": [
        "tensor = NamedTensor(ims, 'b h w c')\n",
        "tensor.shift(\"b -> (b1 b2)\", b1 = 2).mean('c').shift(\"(b1 w) -> bw\", \"(b2 h) -> bh\", 'bh bw')\n"
      ],
      "execution_count": 32,
      "outputs": [
        {
          "output_type": "execute_result",
          "data": {
            "image/png": "[encoded data removed]",
            "text/plain": [
              ""
            ]
          },
          "metadata": {
            "tags": []
          },
          "execution_count": 32
        }
      ]
    },
    {
      "metadata": {
        "id": "tesLBQTbM2IO",
        "colab_type": "code",
        "outputId": "11e4b545-dc75-45fb-9fb4-318d6891772b",
        "colab": {
          "base_uri": "https://localhost:8080/",
          "height": 209
        }
      },
      "cell_type": "code",
      "source": [
        "tensor.shift('b -> (b1 b2)', '(h b1) -> h', '(w b2) -> w', b1=2)"
      ],
      "execution_count": 33,
      "outputs": [
        {
          "output_type": "execute_result",
          "data": {
            "image/png": "[encoded data removed]",
            "text/plain": [
              ""
            ]
          },
          "metadata": {
            "tags": []
          },
          "execution_count": 33
        }
      ]
    },
    {
      "metadata": {
        "id": "RONa1_CvpIJl",
        "colab_type": "text"
      },
      "cell_type": "markdown",
      "source": [
        "## 5) Less Indexing"
      ]
    },
    {
      "metadata": {
        "id": "95TGZJB5pXbW",
        "colab_type": "text"
      },
      "cell_type": "markdown",
      "source": [
        "Generally indexing is discouraged in this named tensor paradigm. Instead use functions like `index_select` above or `unbind`\n",
        "\n"
      ]
    },
    {
      "metadata": {
        "id": "3jMIuUxIpn74",
        "colab_type": "code",
        "colab": {
          "base_uri": "https://localhost:8080/",
          "height": 113
        },
        "outputId": "a8761674-3c3c-4742-9784-80d746dbf7e7"
      },
      "cell_type": "code",
      "source": [
        "tensor = NamedTensor(ims, 'b h w c')\n",
        "\n",
        "# Returns a tuple\n",
        "images = tensor.unbind(\"b\")\n",
        "images[3]"
      ],
      "execution_count": 34,
      "outputs": [
        {
          "output_type": "execute_result",
          "data": {
            "image/png": "[encoded data removed]",
            "text/plain": [
              ""
            ]
          },
          "metadata": {
            "tags": []
          },
          "execution_count": 34
        }
      ]
    },
    {
      "metadata": {
        "id": "FZcHQ_BvqJ6X",
        "colab_type": "text"
      },
      "cell_type": "markdown",
      "source": [
        "Another alternative is to use `get` to obtain a single slice."
      ]
    },
    {
      "metadata": {
        "id": "qQCELxUgqB_v",
        "colab_type": "code",
        "colab": {
          "base_uri": "https://localhost:8080/",
          "height": 113
        },
        "outputId": "c732ba67-a366-4d7a-cb45-d9a096b72ee4"
      },
      "cell_type": "code",
      "source": [
        "# Returns a tuple\n",
        "images = tensor.get(\"b\", 0).unbind(\"c\")\n",
        "images[1]"
      ],
      "execution_count": 35,
      "outputs": [
        {
          "output_type": "execute_result",
          "data": {
            "image/png": "[encoded data removed]",
            "text/plain": [
              ""
            ]
          },
          "metadata": {
            "tags": []
          },
          "execution_count": 35
        }
      ]
    },
    {
      "metadata": {
        "id": "kx75vFJdp0Rm",
        "colab_type": "text"
      },
      "cell_type": "markdown",
      "source": [
        "Finally `narrow` can be used to replace fancy indexing. However you must give a new dim name."
      ]
    },
    {
      "metadata": {
        "id": "lufRXyjoqbI5",
        "colab_type": "code",
        "colab": {
          "base_uri": "https://localhost:8080/",
          "height": 67
        },
        "outputId": "d2d5d021-3ce4-4ce0-e735-85945ef3ca26"
      },
      "cell_type": "code",
      "source": [
        "tensor.narrow( \"h -> narrowedheight\", 30, 50).get(\"b\", 0)"
      ],
      "execution_count": 36,
      "outputs": [
        {
          "output_type": "execute_result",
          "data": {
            "image/png": "[encoded data removed]",
            "text/plain": [
              ""
            ]
          },
          "metadata": {
            "tags": []
          },
          "execution_count": 36
        }
      ]
    },
    {
      "metadata": {
        "id": "JeYS9if9qwjI",
        "colab_type": "text"
      },
      "cell_type": "markdown",
      "source": [
        "## 6) Encapsulation"
      ]
    },
    {
      "metadata": {
        "id": "uUG43UwVrZbc",
        "colab_type": "text"
      },
      "cell_type": "markdown",
      "source": [
        "To demonstrate why these choices lead to better encapsulation properties, let's consider a real-world deep learning example. This example was proposed by my colleague Tim Rocktashel in the blog post describing einsum (https://rockt.github.io/2018/04/30/einsum).\n",
        "\n",
        "\n"
      ]
    },
    {
      "metadata": {
        "id": "Gs3HJEErsTvs",
        "colab_type": "text"
      },
      "cell_type": "markdown",
      "source": [
        "Consider the problem of neural attention, which requires computing,\n",
        "\n",
        "\\begin{align*}\n",
        "\\mathbf{M}_t &= \\tanh(\\mathbf{W}^y\\mathbf{Y}+(\\mathbf{W}^h\\mathbf{h}_t+\\mathbf{W}^r\\mathbf{r}_{t-1})\\otimes \\mathbf{e}_L) & \\mathbf{M}_t &\\in\\mathbb{R}^{k\\times L}\\\\\n",
        "\\alpha_t &= \\text{softmax}(\\mathbf{w}^T\\mathbf{M}_t)&\\alpha_t&\\in\\mathbb{R}^L\\\\\n",
        "\\mathbf{r}_t &= \\mathbf{Y}\\alpha^T_t + \\tanh(\\mathbf{W}^t\\mathbf{r}_{t-1})&\\mathbf{r}_t&\\in\\mathbb{R}^k\n",
        "\\end{align*}"
      ]
    },
    {
      "metadata": {
        "id": "CGvKocKguAdu",
        "colab_type": "text"
      },
      "cell_type": "markdown",
      "source": [
        "First let's setup the necessary parameters."
      ]
    },
    {
      "metadata": {
        "id": "PP3eiilYtUu9",
        "colab_type": "code",
        "colab": {}
      },
      "cell_type": "code",
      "source": [
        "def random_ntensors(names, num=1, requires_grad=False):\n",
        "    tensors = [nt.build(torch.randn, names, requires_grad=requires_grad)\n",
        "               for i in range(0, num)]\n",
        "    return tensors[0] if num == 1 else tensors\n",
        "\n",
        "class Param:\n",
        "    def __init__(self, in_hid, out_hid):\n",
        "        torch.manual_seed(0)\n",
        "        self.WY, self.Wh, self.Wr, self.Wt = \\\n",
        "            random_ntensors(dict(inhid=in_hid, outhid=out_hid),\n",
        "                            num=4, requires_grad=True)\n",
        "        self.bM, self.br, self.w = random_ntensors(dict(outhid=out_hid), num=3,\n",
        "                                                   requires_grad=True)\n",
        "        "
      ],
      "execution_count": 0,
      "outputs": []
    },
    {
      "metadata": {
        "id": "iERFd2mquEc2",
        "colab_type": "text"
      },
      "cell_type": "markdown",
      "source": [
        "Now consider the tensor-based einsum implementation of this function. "
      ]
    },
    {
      "metadata": {
        "id": "oD5eGKI_sZTJ",
        "colab_type": "code",
        "colab": {}
      },
      "cell_type": "code",
      "source": [
        "# Einsum Implementation\n",
        "import torch.nn.functional as F\n",
        "def einsum_attn(params, Y, ht, rt1):\n",
        "    # -- [batch_size x hidden_dimension]\n",
        "    tmp = torch.einsum(\"ik,kl->il\", [ht, params.Wh.tensor]) + \\\n",
        "          torch.einsum(\"ik,kl->il\", [rt1, params.Wr.tensor])\n",
        "\n",
        "    Mt = torch.tanh(torch.einsum(\"ijk,kl->ijl\", [Y, params.WY.tensor]) + \\\n",
        "                tmp.unsqueeze(1).expand_as(Y) + params.bM.tensor)\n",
        "    # -- [batch_size x sequence_length]\n",
        "    at = F.softmax(torch.einsum(\"ijk,k->ij\", [Mt, params.w.tensor]), dim=-1)\n",
        "\n",
        "    # -- [batch_size x hidden_dimension]\n",
        "    rt = torch.einsum(\"ijk,ij->ik\", [Y, at]) + \\\n",
        "         torch.tanh(torch.einsum(\"ij,jk->ik\", [rt1, params.Wt.tensor]) + \n",
        "                    params.br.tensor)\n",
        "\n",
        "    # -- [batch_size x hidden_dimension], [batch_size x sequence_dimension]\n",
        "    return rt, at"
      ],
      "execution_count": 0,
      "outputs": []
    },
    {
      "metadata": {
        "id": "FGbiXmf2uKN5",
        "colab_type": "text"
      },
      "cell_type": "markdown",
      "source": [
        "This implementation is a huge improvement over the naive PyTorch implementation. It removes many of the \n",
        "views and transposes that would be necessary to make this work. However, I would argue that it still fails many of \n",
        "the tests laid out in the introduction. It uses `squeeze`, it only works with one batch dim, and it is littered with comments that \n",
        "are not enforced as constraint in the code itself."
      ]
    },
    {
      "metadata": {
        "id": "TzmJKd1UuyQd",
        "colab_type": "text"
      },
      "cell_type": "markdown",
      "source": [
        "As an alternative consider the namedtensor version: "
      ]
    },
    {
      "metadata": {
        "id": "f5_BX7z7szLk",
        "colab_type": "code",
        "colab": {}
      },
      "cell_type": "code",
      "source": [
        "def namedtensor_attn(params, Y, ht, rt1):\n",
        "    tmp = ht.contract(\"inhid\", params.Wh) + rt1.contract(\"inhid\", params.Wr)\n",
        "    at = (Y.contract(\"inhid\", params.WY) + tmp + params.bM) \\\n",
        "         .tanh() \\\n",
        "         .contract(\"outhid\", params.w) \\\n",
        "         .softmax(\"seqlen\")\n",
        "\n",
        "    rt = Y.contract(\"seqlen\", at).shift(\"inhid -> (outhid)\") + \\\n",
        "         (rt1.contract(\"inhid\", params.Wt) + params.br).tanh()\n",
        "    return rt, at\n"
      ],
      "execution_count": 0,
      "outputs": []
    },
    {
      "metadata": {
        "id": "KvtY1nWAsWVm",
        "colab_type": "text"
      },
      "cell_type": "markdown",
      "source": [
        "Note three things: \n",
        "\n",
        "1) The code never mentions \"batch\"\n",
        "\n",
        "2) There is no indexing, unpacking of matrices, squeezes, or dim calls\n",
        "\n",
        "3) If you understand attention, it is very clear where it is being computed and applied based on the `seqlen` name. "
      ]
    },
    {
      "metadata": {
        "id": "BKolTWWlvkzO",
        "colab_type": "code",
        "colab": {}
      },
      "cell_type": "code",
      "source": [
        "in_hid = 7\n",
        "out_hid = 7\n",
        "Y = torch.randn(3, 5, in_hid)\n",
        "# -- [batch_size x hidden_dimension]\n",
        "ht, rt1 = torch.randn(3, in_hid), torch.randn(3, in_hid)\n",
        "ea = Param(in_hid, out_hid)\n",
        "r, a = einsum_attn(ea, Y, ht, rt1)\n",
        "\n",
        "Y = NamedTensor(Y, \"batch seqlen inhid\")\n",
        "ht = NamedTensor(ht, \"batch inhid\")\n",
        "rt1 = NamedTensor(rt1, \"batch inhid\")\n",
        "nr, na = namedtensor_attn(ea, Y, ht, rt1)"
      ],
      "execution_count": 0,
      "outputs": []
    },
    {
      "metadata": {
        "id": "bHUQllYYw4Zc",
        "colab_type": "text"
      },
      "cell_type": "markdown",
      "source": [
        "## Call to Action"
      ]
    },
    {
      "metadata": {
        "id": "vzmW3BZnxFGD",
        "colab_type": "text"
      },
      "cell_type": "markdown",
      "source": [
        "Tools like NumPy and Torch not only help the community do research, they also drive forward what students think is plausible to try out. While it is true a lot of current models can be built fine with the tools we have, it seems implausible to me that the current programming practices are going to scale to new models. For instance, one space we have been working on recently is discrete latent variable models which often have many problem specific variables each with their own variable dimension. This setting breaks the current tensor paradigm almost immediately. \n",
        "\n",
        "That being said, this blog post is just a prototype of where this approach could go. If you are interested, I would love contributors to the build out this library properly. Some ideas if you want to send a PR to  [harvardnlp/namedtensor](https://github.com/harvardnlp/NamedTensor)!\n",
        "\n",
        "1) **Extending beyond PyTorch**: Can we generalize this approach in a way that supports NumPy and Tensorflow?  \n",
        "\n",
        "\n",
        "2) **Interacting with PyTorch Modules**: Can we \"lift\" PyTorch modules with type annotations, so that we know how they change inputs?\n",
        "\n",
        "\n",
        "3) **Error Checking**: Can we add annotations to functions giving pre- and post -conditions so that dimensions are automatically checked.\n",
        "\n"
      ]
    }
  ]
}